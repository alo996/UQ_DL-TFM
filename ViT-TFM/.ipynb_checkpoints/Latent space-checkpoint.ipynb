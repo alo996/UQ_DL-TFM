{
 "cells": [
  {
   "cell_type": "code",
   "execution_count": 1,
   "id": "4e6799e0",
   "metadata": {
    "scrolled": false
   },
   "outputs": [
    {
     "name": "stderr",
     "output_type": "stream",
     "text": [
      "2022-12-03 21:49:31.699637: I tensorflow/core/platform/cpu_feature_guard.cc:193] This TensorFlow binary is optimized with oneAPI Deep Neural Network Library (oneDNN) to use the following CPU instructions in performance-critical operations:  AVX2 FMA\n",
      "To enable them in other operations, rebuild TensorFlow with the appropriate compiler flags.\n",
      "2022-12-03 21:49:32.919552: W tensorflow/stream_executor/platform/default/dso_loader.cc:64] Could not load dynamic library 'libcudart.so.11.0'; dlerror: libcudart.so.11.0: cannot open shared object file: No such file or directory\n",
      "2022-12-03 21:49:32.919575: I tensorflow/stream_executor/cuda/cudart_stub.cc:29] Ignore above cudart dlerror if you do not have a GPU set up on your machine.\n",
      "2022-12-03 21:49:33.145365: E tensorflow/stream_executor/cuda/cuda_blas.cc:2981] Unable to register cuBLAS factory: Attempting to register factory for plugin cuBLAS when one has already been registered\n",
      "2022-12-03 21:49:33.830118: W tensorflow/stream_executor/platform/default/dso_loader.cc:64] Could not load dynamic library 'libnvinfer.so.7'; dlerror: libnvinfer.so.7: cannot open shared object file: No such file or directory\n",
      "2022-12-03 21:49:33.830177: W tensorflow/stream_executor/platform/default/dso_loader.cc:64] Could not load dynamic library 'libnvinfer_plugin.so.7'; dlerror: libnvinfer_plugin.so.7: cannot open shared object file: No such file or directory\n",
      "2022-12-03 21:49:33.830183: W tensorflow/compiler/tf2tensorrt/utils/py_utils.cc:38] TF-TRT Warning: Cannot dlopen some TensorRT libraries. If you would like to use Nvidia GPU with TensorRT, please make sure the missing libraries mentioned above are installed properly.\n"
     ]
    },
    {
     "name": "stdout",
     "output_type": "stream",
     "text": [
      "rectrachead weights init successsful!\n"
     ]
    }
   ],
   "source": [
    "import copy\n",
    "import datetime\n",
    "import h5py\n",
    "import keras\n",
    "import matplotlib.pyplot as plt\n",
    "import numpy as np\n",
    "import pandas as pd\n",
    "import os\n",
    "import torch\n",
    "import torch.nn as nn\n",
    "import torch.backends.cudnn as cudnn\n",
    "import torch.nn.functional as F\n",
    "import sys\n",
    "\n",
    "from cv2 import resize\n",
    "from datetime import datetime\n",
    "from gc import collect\n",
    "from os import cpu_count\n",
    "from sklearn.model_selection import train_test_split\n",
    "from time import sleep\n",
    "from torch.optim.lr_scheduler import StepLR\n",
    "from torch.utils.data import TensorDataset, DataLoader\n",
    "from torch.utils.tensorboard import SummaryWriter\n",
    "from torchinfo import summary\n",
    "from tqdm import tqdm\n",
    "\n",
    "sys.path.append(f\"{os.getcwd()}/ViT-TFM/\")\n",
    "sys.path.append(f\"{os.getcwd()}/mltfm/\")\n",
    "import VisionTransformer as vit\n",
    "from DPT import DPT"
   ]
  },
  {
   "cell_type": "code",
   "execution_count": 2,
   "id": "1ca71087",
   "metadata": {},
   "outputs": [],
   "source": [
    "random_seed = 1\n",
    "np.random.seed(random_seed)\n",
    "torch.manual_seed(random_seed)\n",
    "torch.cuda.manual_seed(random_seed)\n",
    "cudnn.benchmark = True"
   ]
  },
  {
   "cell_type": "code",
   "execution_count": 3,
   "id": "0dc9f29c",
   "metadata": {},
   "outputs": [
    {
     "name": "stdout",
     "output_type": "stream",
     "text": [
      "Running on device: cuda\n"
     ]
    }
   ],
   "source": [
    "collect()\n",
    "torch.cuda.empty_cache()\n",
    "device = torch.device('cuda') if torch.cuda.is_available() else torch.device('cpu')\n",
    "print(f\"Running on device: {device}\")"
   ]
  },
  {
   "cell_type": "code",
   "execution_count": 4,
   "id": "7b9882e7",
   "metadata": {},
   "outputs": [],
   "source": [
    "vit_weights = vit.VisionTransformer(dspl_size=104, patch_size=8, embed_dim=128, depth=12, n_heads=8, mlp_ratio=4.,p=0., attn_p=0.,drop_path=0).double()"
   ]
  },
  {
   "cell_type": "code",
   "execution_count": 5,
   "id": "b686ba33",
   "metadata": {},
   "outputs": [],
   "source": [
    "path_to_pth = 'logs_and_weights/ViT-2022-Nov-24 20:44:29/ViT-2022-Nov-24 20:44:29_best_val_loss_0.000204.pth'"
   ]
  },
  {
   "cell_type": "code",
   "execution_count": 6,
   "id": "6c190f47",
   "metadata": {},
   "outputs": [],
   "source": [
    "if torch.cuda.is_available():\n",
    "    vit_weights.load_state_dict(torch.load(path_to_pth)['best_model_weights'], strict=False)\n",
    "else:\n",
    "    vit_weights.load_state_dict(torch.load(path_to_pth, map_location=torch.device('cpu'))['best_model_weights'], strict=False)        "
   ]
  },
  {
   "cell_type": "markdown",
   "id": "d8740b00",
   "metadata": {},
   "source": [
    "## 1. [Gaussian process layers](https://arxiv.org/pdf/2106.00638.pdf)"
   ]
  },
  {
   "cell_type": "markdown",
   "id": "5b8b644f",
   "metadata": {},
   "source": [
    "__Goal__: Use variance of GP as distance measure between new input and already observed training data."
   ]
  },
  {
   "cell_type": "markdown",
   "id": "aad32e6f",
   "metadata": {},
   "source": [
    "__Idea__: \n",
    "  1. Combination of Deep Neural Networks (DNNs) and Gaussian Processes (GPs)\n",
    "  2. Scalable Variational Gaussian Processes (SVGPs): Complexity of O(m³) with m as number of inducing points\n",
    "  3. Use the outputs of a neural network as the input to an uncertainty aware GP\n",
    "  4. Given a new input sample, the GP model provides a predictive distribution over (univariate!) target variable"
   ]
  },
  {
   "cell_type": "markdown",
   "id": "a185e5fe",
   "metadata": {},
   "source": [
    "__Algorithm__: \n",
    "  1. Train backbone (e.g. CNN, Transformer) on some problem\n",
    "  2. Generate inducing points by feeding images into the model and embed them\n",
    "  3. Use these embedding points as inducing points for SVGP\n",
    "  4. Maximize SVGP parameters (e.g. scaling parameter of RBF kernel) by maximizing ELBO"
   ]
  },
  {
   "cell_type": "markdown",
   "id": "11cc3cab",
   "metadata": {},
   "source": [
    "__Problem__: For every target variable, one SVGP has to be trained. Furthermore, SVGPs assume independence between the target variables."
   ]
  },
  {
   "cell_type": "markdown",
   "id": "55c15b5b",
   "metadata": {},
   "source": [
    "## 2. Distance in latent space"
   ]
  },
  {
   "cell_type": "markdown",
   "id": "ee69979b",
   "metadata": {},
   "source": [
    "\"What the neural net is essentially doing is stripping away details from the features that are not helpful and amplifying the most important ones, and by the time we get to the latent space, it’s basically the way the model sees the molecule to make the prediction.\""
   ]
  },
  {
   "cell_type": "code",
   "execution_count": 21,
   "id": "1e07ce9a",
   "metadata": {},
   "outputs": [],
   "source": [
    "dspl = h5py.File('data/displacements_25.h5')[\"data\"]\n",
    "trac = h5py.File('data/tractions_25.h5')[\"data\"]"
   ]
  },
  {
   "cell_type": "code",
   "execution_count": 22,
   "id": "f20474d8",
   "metadata": {},
   "outputs": [],
   "source": [
    "dspl_ae = np.array(dspl[0:110, :, :, :])\n",
    "dspl_vit = np.moveaxis(np.array(dspl_ae),3 ,1)\n",
    "\n",
    "X_train_ae = torch.from_numpy(dspl_ae).double()\n",
    "X_test_vit = torch.from_numpy(dspl_vit).double()"
   ]
  },
  {
   "cell_type": "code",
   "execution_count": 18,
   "id": "c258e681",
   "metadata": {},
   "outputs": [],
   "source": [
    "class LatentRepresentationExtractor(nn.Module):\n",
    "    def __init__(self, patch_embed, pos_embed, blocks):\n",
    "        super().__init__()\n",
    "        self.patch_embed = patch_embed\n",
    "        self.pos_embed = pos_embed\n",
    "        self.blocks = blocks\n",
    "        \n",
    "    def forward(self, x):\n",
    "        x = self.patch_embed(x)\n",
    "        x = x + self.pos_embed  # (n_samples, n_patches, embed_dim)\n",
    "\n",
    "        for block in self.blocks:\n",
    "            x, _ = block(x)\n",
    "        \n",
    "        return x"
   ]
  },
  {
   "cell_type": "code",
   "execution_count": 10,
   "id": "404cf287",
   "metadata": {},
   "outputs": [],
   "source": [
    "representation_extractor = LatentRepresentationExtractor(vit_weights.patch_embed, vit_weights.pos_embed, vit_weights.blocks)"
   ]
  },
  {
   "cell_type": "code",
   "execution_count": 46,
   "id": "0cc86f37",
   "metadata": {},
   "outputs": [],
   "source": [
    "representations = representation_extractor(X_test_vit)"
   ]
  },
  {
   "cell_type": "code",
   "execution_count": 50,
   "id": "a960e44f",
   "metadata": {},
   "outputs": [],
   "source": [
    "representations = representations.detach()"
   ]
  },
  {
   "cell_type": "code",
   "execution_count": 51,
   "id": "220ff22f",
   "metadata": {},
   "outputs": [],
   "source": [
    "class DeepAutoencoder(nn.Module):\n",
    "    def __init__(self):\n",
    "        super().__init__()\n",
    "        self.encoder = torch.nn.Sequential(\n",
    "            torch.nn.Linear(10 * 169 , 128),\n",
    "            torch.nn.ReLU(),\n",
    "            torch.nn.Linear(128, 64),\n",
    "            torch.nn.ReLU(),\n",
    "            torch.nn.Linear(64, 32),\n",
    "            torch.nn.ReLU(),\n",
    "            torch.nn.Linear(32, 8)\n",
    "        )\n",
    "        \n",
    "        self.decoder = torch.nn.Sequential(\n",
    "            torch.nn.Linear(8, 32),\n",
    "        torch.nn.ReLU(),\n",
    "        torch.nn.Linear(32, 64),\n",
    "        torch.nn.ReLU(),\n",
    "        torch.nn.Linear(64, 128),\n",
    "        torch.nn.ReLU(),\n",
    "        torch.nn.Linear(128, 10 * 169),\n",
    "        )\n",
    "\n",
    "    def forward(self, x):\n",
    "        x = x.reshape(-1, 10 * 169)\n",
    "        encoded = self.encoder(x)\n",
    "        decoded = self.decoder(encoded)\n",
    "        return decoded"
   ]
  },
  {
   "cell_type": "code",
   "execution_count": 52,
   "id": "4825f151",
   "metadata": {},
   "outputs": [],
   "source": [
    "#  use gpu if available\n",
    "device = torch.device(\"cuda\" if torch.cuda.is_available() else \"cpu\")\n",
    "\n",
    "# create a model from `AE` autoencoder class\n",
    "# load it to the specified device, either gpu or cpu\n",
    "model = DeepAutoencoder().to(device).double()\n",
    "\n",
    "# create an optimizer object\n",
    "# Adam optimizer with learning rate 1e-3\n",
    "optimizer = torch.optim.Adam(model.parameters(), lr=1e-3)\n",
    "\n",
    "# mean-squared error loss\n",
    "criterion = nn.MSELoss()"
   ]
  },
  {
   "cell_type": "code",
   "execution_count": 53,
   "id": "86ab61a3",
   "metadata": {},
   "outputs": [],
   "source": [
    "X_train = representations[0:100, :, :].double()\n",
    "X_val = representations[100:, :, :].double()\n",
    "\n",
    "train_set = TensorDataset(X_train, X_train)\n",
    "val_set = TensorDataset(X_val, X_val)\n",
    "\n",
    "dataloader_kwargs = {'batch_size': 10,\n",
    "                     'num_workers': 10,\n",
    "                     'pin_memory': False,\n",
    "                     'shuffle': True}\n",
    "dataloaders = {'train': DataLoader(train_set, **dataloader_kwargs),\n",
    "               'val': DataLoader(val_set, **dataloader_kwargs)}"
   ]
  },
  {
   "cell_type": "code",
   "execution_count": 54,
   "id": "463717b0",
   "metadata": {},
   "outputs": [],
   "source": [
    "def run_epoch(model, loss_fn, dataloader, device, epoch, optimizer, train, visualize_attn=False):\n",
    "    # Set model to training mode\n",
    "    if train:\n",
    "        model.train()\n",
    "    else:\n",
    "        model.eval()\n",
    "\n",
    "    epoch_loss = 0.0\n",
    "\n",
    "    with tqdm(dataloader, unit=\"batch\") as tepoch:\n",
    "        # Iterate over data\n",
    "        for xb, yb in tepoch:\n",
    "            tepoch.set_description(f\"Epoch {epoch}\")\n",
    "\n",
    "            xb, yb = xb.to(device), yb.to(device)\n",
    "            yb = yb.reshape(-1, 10 * 169)\n",
    "\n",
    "            # zero the parameters\n",
    "            if train:\n",
    "                optimizer.zero_grad(set_to_none=True)\n",
    "\n",
    "            # forward\n",
    "            if visualize_attn:\n",
    "                pred, attn_scores = model(xb)  # attn_scores: [attn_1, ..., attn_depth]\n",
    "            else:\n",
    "                pred = model(xb)\n",
    "            if not train and visualize_attn:\n",
    "                with torch.set_grad_enabled(not train):\n",
    "                    attn_mat = torch.stack(attn_scores) # attn_mat.shape==(depth, samples, n_heads, n_patches**0.5, n_patches**0.5)\n",
    "                    attn_mat = attn_mat.squeeze(1) # shape remains unchanged unless samples==1, then: (depth, n_heads, n_patches**0.5, n_patches**0.5)\n",
    "                    attn_mat = torch.mean(attn_mat, dim=1) # if samples==1: attn_mat.shape==(depth, n_patches**0.5,n_patches**0.5)\n",
    "\n",
    "            with torch.set_grad_enabled(train):\n",
    "                loss = loss_fn(pred, yb)\n",
    "\n",
    "                # backward + optimize if in training phase\n",
    "                if train:\n",
    "                    loss.backward()\n",
    "                    torch.nn.utils.clip_grad_norm_(model.parameters(), max_norm=1.0, norm_type=2)\n",
    "                    optimizer.step()\n",
    "\n",
    "            # statistics\n",
    "            epoch_loss += loss.item()\n",
    "\n",
    "        epoch_loss /= len(dataloader.dataset)\n",
    "        tepoch.set_postfix(loss=epoch_loss)\n",
    "        sleep(0.01)\n",
    "    return epoch_loss"
   ]
  },
  {
   "cell_type": "code",
   "execution_count": 55,
   "id": "01291dd1",
   "metadata": {},
   "outputs": [],
   "source": [
    "def fit(model, loss_fn, dataloaders, optimizer, device, writer, NAME, max_epochs, patience):\n",
    "    best_val_loss = np.inf\n",
    "    best_epoch = -1\n",
    "    best_model_weights = {}\n",
    "    optimizer_state_dict_in_best_epoch = {}\n",
    "    model.to(device)\n",
    "    example_input, example_value = next(iter(dataloaders['train']))\n",
    "    writer.add_graph(model, example_input.to(device))\n",
    "\n",
    "    for epoch in range(1, max_epochs + 1):\n",
    "        train_loss = run_epoch(model, loss_fn, dataloaders['train'], device, epoch, optimizer, train=True)\n",
    "        val_loss = run_epoch(model, loss_fn, dataloaders['val'], device, epoch, optimizer=None, train=False)\n",
    "        print(\n",
    "            f\"Epoch {epoch}/{max_epochs}, train_loss: {train_loss}\")\n",
    "\n",
    "        writer.add_scalar('train_loss', train_loss, epoch)\n",
    "        writer.add_scalar('val_loss', val_loss, epoch)\n",
    "\n",
    "        # Save best weights\n",
    "        if val_loss < best_val_loss:\n",
    "            best_val_loss = val_loss\n",
    "            best_epoch = epoch\n",
    "            best_model_weights = copy.deepcopy(model.state_dict())\n",
    "            optimizer_state_dict_in_best_epoch = copy.deepcopy(optimizer.state_dict())\n",
    "\n",
    "        # Early stopping\n",
    "        print(\n",
    "            f\"best_val_loss: {np.round(best_val_loss, 6)}, \"\n",
    "            f\"epoch: {epoch}, best_epoch: {best_epoch}, \"\n",
    "            f\"current_patience: {patience - (epoch - best_epoch)}\")\n",
    "        if epoch - best_epoch >= patience:\n",
    "            break\n",
    "\n",
    "    torch.save({\n",
    "        'best_epoch': best_epoch,\n",
    "        'best_model_weights': best_model_weights,\n",
    "        'optimizer_state_dict_in_best_epoch': optimizer_state_dict_in_best_epoch,\n",
    "        'best_val_loss': best_val_loss\n",
    "    },\n",
    "        f'logs_and_weights/{NAME}/{NAME}_best_val_loss_{np.round(best_val_loss, 6)}.pth')\n",
    "\n"
   ]
  },
  {
   "cell_type": "code",
   "execution_count": 56,
   "id": "34f8f517",
   "metadata": {
    "scrolled": false
   },
   "outputs": [
    {
     "name": "stderr",
     "output_type": "stream",
     "text": [
      "Epoch 1: 100%|████████████████████████████████████████████████████████████████████████████████████████████████████████████| 10/10 [00:02<00:00,  3.65batch/s]\n",
      "Epoch 1: 100%|██████████████████████████████████████████████████████████████████████████████████████████████████████████████| 1/1 [00:02<00:00,  2.65s/batch]\n"
     ]
    },
    {
     "name": "stdout",
     "output_type": "stream",
     "text": [
      "Epoch 1/100, train_loss: 13165307.046131387\n",
      "best_val_loss: 12974643.249953, epoch: 1, best_epoch: 1, current_patience: 20\n"
     ]
    },
    {
     "name": "stderr",
     "output_type": "stream",
     "text": [
      "Epoch 2: 100%|████████████████████████████████████████████████████████████████████████████████████████████████████████████| 10/10 [00:02<00:00,  3.64batch/s]\n",
      "Epoch 2: 100%|██████████████████████████████████████████████████████████████████████████████████████████████████████████████| 1/1 [00:02<00:00,  2.62s/batch]\n"
     ]
    },
    {
     "name": "stdout",
     "output_type": "stream",
     "text": [
      "Epoch 2/100, train_loss: 12800090.42457653\n",
      "best_val_loss: 12384418.159308, epoch: 2, best_epoch: 2, current_patience: 20\n"
     ]
    },
    {
     "name": "stderr",
     "output_type": "stream",
     "text": [
      "Epoch 3: 100%|████████████████████████████████████████████████████████████████████████████████████████████████████████████| 10/10 [00:02<00:00,  3.63batch/s]\n",
      "Epoch 3: 100%|██████████████████████████████████████████████████████████████████████████████████████████████████████████████| 1/1 [00:02<00:00,  2.66s/batch]\n"
     ]
    },
    {
     "name": "stdout",
     "output_type": "stream",
     "text": [
      "Epoch 3/100, train_loss: 12158740.66801406\n",
      "best_val_loss: 11737359.231812, epoch: 3, best_epoch: 3, current_patience: 20\n"
     ]
    },
    {
     "name": "stderr",
     "output_type": "stream",
     "text": [
      "Epoch 4: 100%|████████████████████████████████████████████████████████████████████████████████████████████████████████████| 10/10 [00:02<00:00,  3.65batch/s]\n",
      "Epoch 4: 100%|██████████████████████████████████████████████████████████████████████████████████████████████████████████████| 1/1 [00:02<00:00,  2.68s/batch]\n"
     ]
    },
    {
     "name": "stdout",
     "output_type": "stream",
     "text": [
      "Epoch 4/100, train_loss: 11481203.169079639\n",
      "best_val_loss: 11027754.918364, epoch: 4, best_epoch: 4, current_patience: 20\n"
     ]
    },
    {
     "name": "stderr",
     "output_type": "stream",
     "text": [
      "Epoch 5: 100%|████████████████████████████████████████████████████████████████████████████████████████████████████████████| 10/10 [00:02<00:00,  3.70batch/s]\n",
      "Epoch 5: 100%|██████████████████████████████████████████████████████████████████████████████████████████████████████████████| 1/1 [00:02<00:00,  2.64s/batch]\n"
     ]
    },
    {
     "name": "stdout",
     "output_type": "stream",
     "text": [
      "Epoch 5/100, train_loss: 10753720.633011946\n",
      "best_val_loss: 10311021.753192, epoch: 5, best_epoch: 5, current_patience: 20\n"
     ]
    },
    {
     "name": "stderr",
     "output_type": "stream",
     "text": [
      "Epoch 6: 100%|████████████████████████████████████████████████████████████████████████████████████████████████████████████| 10/10 [00:02<00:00,  3.65batch/s]\n",
      "Epoch 6: 100%|██████████████████████████████████████████████████████████████████████████████████████████████████████████████| 1/1 [00:02<00:00,  2.62s/batch]\n"
     ]
    },
    {
     "name": "stdout",
     "output_type": "stream",
     "text": [
      "Epoch 6/100, train_loss: 10048227.08264399\n",
      "best_val_loss: 9629039.342949, epoch: 6, best_epoch: 6, current_patience: 20\n"
     ]
    },
    {
     "name": "stderr",
     "output_type": "stream",
     "text": [
      "Epoch 7: 100%|████████████████████████████████████████████████████████████████████████████████████████████████████████████| 10/10 [00:02<00:00,  3.64batch/s]\n",
      "Epoch 7: 100%|██████████████████████████████████████████████████████████████████████████████████████████████████████████████| 1/1 [00:02<00:00,  2.63s/batch]\n"
     ]
    },
    {
     "name": "stdout",
     "output_type": "stream",
     "text": [
      "Epoch 7/100, train_loss: 9374383.70585267\n",
      "best_val_loss: 8983305.219729, epoch: 7, best_epoch: 7, current_patience: 20\n"
     ]
    },
    {
     "name": "stderr",
     "output_type": "stream",
     "text": [
      "Epoch 8: 100%|████████████████████████████████████████████████████████████████████████████████████████████████████████████| 10/10 [00:02<00:00,  3.72batch/s]\n",
      "Epoch 8: 100%|██████████████████████████████████████████████████████████████████████████████████████████████████████████████| 1/1 [00:02<00:00,  2.65s/batch]\n"
     ]
    },
    {
     "name": "stdout",
     "output_type": "stream",
     "text": [
      "Epoch 8/100, train_loss: 8730130.173967557\n",
      "best_val_loss: 8317166.958788, epoch: 8, best_epoch: 8, current_patience: 20\n"
     ]
    },
    {
     "name": "stderr",
     "output_type": "stream",
     "text": [
      "Epoch 9: 100%|████████████████████████████████████████████████████████████████████████████████████████████████████████████| 10/10 [00:02<00:00,  3.69batch/s]\n",
      "Epoch 9: 100%|██████████████████████████████████████████████████████████████████████████████████████████████████████████████| 1/1 [00:02<00:00,  2.60s/batch]\n"
     ]
    },
    {
     "name": "stdout",
     "output_type": "stream",
     "text": [
      "Epoch 9/100, train_loss: 8028944.74523119\n",
      "best_val_loss: 7602330.258682, epoch: 9, best_epoch: 9, current_patience: 20\n"
     ]
    },
    {
     "name": "stderr",
     "output_type": "stream",
     "text": [
      "Epoch 10: 100%|███████████████████████████████████████████████████████████████████████████████████████████████████████████| 10/10 [00:02<00:00,  3.68batch/s]\n",
      "Epoch 10: 100%|█████████████████████████████████████████████████████████████████████████████████████████████████████████████| 1/1 [00:02<00:00,  2.65s/batch]\n"
     ]
    },
    {
     "name": "stdout",
     "output_type": "stream",
     "text": [
      "Epoch 10/100, train_loss: 7347292.560687024\n",
      "best_val_loss: 6978705.549279, epoch: 10, best_epoch: 10, current_patience: 20\n"
     ]
    },
    {
     "name": "stderr",
     "output_type": "stream",
     "text": [
      "Epoch 11: 100%|███████████████████████████████████████████████████████████████████████████████████████████████████████████| 10/10 [00:02<00:00,  3.67batch/s]\n",
      "Epoch 11: 100%|█████████████████████████████████████████████████████████████████████████████████████████████████████████████| 1/1 [00:02<00:00,  2.57s/batch]\n"
     ]
    },
    {
     "name": "stdout",
     "output_type": "stream",
     "text": [
      "Epoch 11/100, train_loss: 6745214.905763991\n",
      "best_val_loss: 6397562.495266, epoch: 11, best_epoch: 11, current_patience: 20\n"
     ]
    },
    {
     "name": "stderr",
     "output_type": "stream",
     "text": [
      "Epoch 12: 100%|███████████████████████████████████████████████████████████████████████████████████████████████████████████| 10/10 [00:02<00:00,  3.70batch/s]\n",
      "Epoch 12: 100%|█████████████████████████████████████████████████████████████████████████████████████████████████████████████| 1/1 [00:02<00:00,  2.61s/batch]\n"
     ]
    },
    {
     "name": "stdout",
     "output_type": "stream",
     "text": [
      "Epoch 12/100, train_loss: 6158376.994100103\n",
      "best_val_loss: 5803673.178313, epoch: 12, best_epoch: 12, current_patience: 20\n"
     ]
    },
    {
     "name": "stderr",
     "output_type": "stream",
     "text": [
      "Epoch 13: 100%|███████████████████████████████████████████████████████████████████████████████████████████████████████████| 10/10 [00:02<00:00,  3.68batch/s]\n",
      "Epoch 13: 100%|█████████████████████████████████████████████████████████████████████████████████████████████████████████████| 1/1 [00:02<00:00,  2.62s/batch]\n"
     ]
    },
    {
     "name": "stdout",
     "output_type": "stream",
     "text": [
      "Epoch 13/100, train_loss: 5548735.054409495\n",
      "best_val_loss: 5179142.557662, epoch: 13, best_epoch: 13, current_patience: 20\n"
     ]
    },
    {
     "name": "stderr",
     "output_type": "stream",
     "text": [
      "Epoch 14: 100%|███████████████████████████████████████████████████████████████████████████████████████████████████████████| 10/10 [00:02<00:00,  3.65batch/s]\n",
      "Epoch 14: 100%|█████████████████████████████████████████████████████████████████████████████████████████████████████████████| 1/1 [00:02<00:00,  2.68s/batch]\n"
     ]
    },
    {
     "name": "stdout",
     "output_type": "stream",
     "text": [
      "Epoch 14/100, train_loss: 4937961.331538299\n",
      "best_val_loss: 4604536.887999, epoch: 14, best_epoch: 14, current_patience: 20\n"
     ]
    },
    {
     "name": "stderr",
     "output_type": "stream",
     "text": [
      "Epoch 15: 100%|███████████████████████████████████████████████████████████████████████████████████████████████████████████| 10/10 [00:02<00:00,  3.62batch/s]\n",
      "Epoch 15: 100%|█████████████████████████████████████████████████████████████████████████████████████████████████████████████| 1/1 [00:02<00:00,  2.65s/batch]\n"
     ]
    },
    {
     "name": "stdout",
     "output_type": "stream",
     "text": [
      "Epoch 15/100, train_loss: 4386468.73204012\n",
      "best_val_loss: 4079777.805632, epoch: 15, best_epoch: 15, current_patience: 20\n"
     ]
    },
    {
     "name": "stderr",
     "output_type": "stream",
     "text": [
      "Epoch 16: 100%|███████████████████████████████████████████████████████████████████████████████████████████████████████████| 10/10 [00:02<00:00,  3.65batch/s]\n",
      "Epoch 16: 100%|█████████████████████████████████████████████████████████████████████████████████████████████████████████████| 1/1 [00:02<00:00,  2.62s/batch]\n"
     ]
    },
    {
     "name": "stdout",
     "output_type": "stream",
     "text": [
      "Epoch 16/100, train_loss: 3894575.2919711433\n",
      "best_val_loss: 3643346.170393, epoch: 16, best_epoch: 16, current_patience: 20\n"
     ]
    },
    {
     "name": "stderr",
     "output_type": "stream",
     "text": [
      "Epoch 17: 100%|███████████████████████████████████████████████████████████████████████████████████████████████████████████| 10/10 [00:02<00:00,  3.58batch/s]\n",
      "Epoch 17: 100%|█████████████████████████████████████████████████████████████████████████████████████████████████████████████| 1/1 [00:02<00:00,  2.61s/batch]\n"
     ]
    },
    {
     "name": "stdout",
     "output_type": "stream",
     "text": [
      "Epoch 17/100, train_loss: 3472827.8126060083\n",
      "best_val_loss: 3241650.664038, epoch: 17, best_epoch: 17, current_patience: 20\n"
     ]
    },
    {
     "name": "stderr",
     "output_type": "stream",
     "text": [
      "Epoch 18: 100%|███████████████████████████████████████████████████████████████████████████████████████████████████████████| 10/10 [00:02<00:00,  3.68batch/s]\n",
      "Epoch 18: 100%|█████████████████████████████████████████████████████████████████████████████████████████████████████████████| 1/1 [00:02<00:00,  2.64s/batch]\n"
     ]
    },
    {
     "name": "stdout",
     "output_type": "stream",
     "text": [
      "Epoch 18/100, train_loss: 3086662.0857348545\n",
      "best_val_loss: 2866779.899259, epoch: 18, best_epoch: 18, current_patience: 20\n"
     ]
    },
    {
     "name": "stderr",
     "output_type": "stream",
     "text": [
      "Epoch 19: 100%|███████████████████████████████████████████████████████████████████████████████████████████████████████████| 10/10 [00:02<00:00,  3.62batch/s]\n",
      "Epoch 19: 100%|█████████████████████████████████████████████████████████████████████████████████████████████████████████████| 1/1 [00:02<00:00,  2.59s/batch]\n"
     ]
    },
    {
     "name": "stdout",
     "output_type": "stream",
     "text": [
      "Epoch 19/100, train_loss: 2715350.149288714\n",
      "best_val_loss: 2523998.630157, epoch: 19, best_epoch: 19, current_patience: 20\n"
     ]
    },
    {
     "name": "stderr",
     "output_type": "stream",
     "text": [
      "Epoch 20: 100%|███████████████████████████████████████████████████████████████████████████████████████████████████████████| 10/10 [00:02<00:00,  3.68batch/s]\n",
      "Epoch 20: 100%|█████████████████████████████████████████████████████████████████████████████████████████████████████████████| 1/1 [00:02<00:00,  2.65s/batch]\n"
     ]
    },
    {
     "name": "stdout",
     "output_type": "stream",
     "text": [
      "Epoch 20/100, train_loss: 2383789.881842511\n",
      "best_val_loss: 2209511.704736, epoch: 20, best_epoch: 20, current_patience: 20\n"
     ]
    },
    {
     "name": "stderr",
     "output_type": "stream",
     "text": [
      "Epoch 21: 100%|███████████████████████████████████████████████████████████████████████████████████████████████████████████| 10/10 [00:02<00:00,  3.71batch/s]\n",
      "Epoch 21: 100%|█████████████████████████████████████████████████████████████████████████████████████████████████████████████| 1/1 [00:02<00:00,  2.63s/batch]\n"
     ]
    },
    {
     "name": "stdout",
     "output_type": "stream",
     "text": [
      "Epoch 21/100, train_loss: 2084659.5484111982\n",
      "best_val_loss: 1924058.433499, epoch: 21, best_epoch: 21, current_patience: 20\n"
     ]
    },
    {
     "name": "stderr",
     "output_type": "stream",
     "text": [
      "Epoch 22: 100%|███████████████████████████████████████████████████████████████████████████████████████████████████████████| 10/10 [00:02<00:00,  3.73batch/s]\n",
      "Epoch 22: 100%|█████████████████████████████████████████████████████████████████████████████████████████████████████████████| 1/1 [00:02<00:00,  2.66s/batch]\n"
     ]
    },
    {
     "name": "stdout",
     "output_type": "stream",
     "text": [
      "Epoch 22/100, train_loss: 1812933.0279368311\n",
      "best_val_loss: 1673927.400288, epoch: 22, best_epoch: 22, current_patience: 20\n"
     ]
    },
    {
     "name": "stderr",
     "output_type": "stream",
     "text": [
      "Epoch 23: 100%|███████████████████████████████████████████████████████████████████████████████████████████████████████████| 10/10 [00:02<00:00,  3.62batch/s]\n",
      "Epoch 23: 100%|█████████████████████████████████████████████████████████████████████████████████████████████████████████████| 1/1 [00:02<00:00,  2.63s/batch]\n"
     ]
    },
    {
     "name": "stdout",
     "output_type": "stream",
     "text": [
      "Epoch 23/100, train_loss: 1579360.4143240177\n",
      "best_val_loss: 1453625.600878, epoch: 23, best_epoch: 23, current_patience: 20\n"
     ]
    },
    {
     "name": "stderr",
     "output_type": "stream",
     "text": [
      "Epoch 24: 100%|███████████████████████████████████████████████████████████████████████████████████████████████████████████| 10/10 [00:02<00:00,  3.62batch/s]\n",
      "Epoch 24: 100%|█████████████████████████████████████████████████████████████████████████████████████████████████████████████| 1/1 [00:02<00:00,  2.63s/batch]\n"
     ]
    },
    {
     "name": "stdout",
     "output_type": "stream",
     "text": [
      "Epoch 24/100, train_loss: 1367075.732591137\n",
      "best_val_loss: 1260655.856385, epoch: 24, best_epoch: 24, current_patience: 20\n"
     ]
    },
    {
     "name": "stderr",
     "output_type": "stream",
     "text": [
      "Epoch 25: 100%|███████████████████████████████████████████████████████████████████████████████████████████████████████████| 10/10 [00:02<00:00,  3.58batch/s]\n",
      "Epoch 25: 100%|█████████████████████████████████████████████████████████████████████████████████████████████████████████████| 1/1 [00:02<00:00,  2.58s/batch]\n"
     ]
    },
    {
     "name": "stdout",
     "output_type": "stream",
     "text": [
      "Epoch 25/100, train_loss: 1181817.6603891347\n",
      "best_val_loss: 1090605.414046, epoch: 25, best_epoch: 25, current_patience: 20\n"
     ]
    },
    {
     "name": "stderr",
     "output_type": "stream",
     "text": [
      "Epoch 26: 100%|███████████████████████████████████████████████████████████████████████████████████████████████████████████| 10/10 [00:02<00:00,  3.68batch/s]\n",
      "Epoch 26: 100%|█████████████████████████████████████████████████████████████████████████████████████████████████████████████| 1/1 [00:02<00:00,  2.66s/batch]\n"
     ]
    },
    {
     "name": "stdout",
     "output_type": "stream",
     "text": [
      "Epoch 26/100, train_loss: 1016073.9265359336\n",
      "best_val_loss: 938316.633756, epoch: 26, best_epoch: 26, current_patience: 20\n"
     ]
    },
    {
     "name": "stderr",
     "output_type": "stream",
     "text": [
      "Epoch 27: 100%|███████████████████████████████████████████████████████████████████████████████████████████████████████████| 10/10 [00:02<00:00,  3.64batch/s]\n",
      "Epoch 27: 100%|█████████████████████████████████████████████████████████████████████████████████████████████████████████████| 1/1 [00:02<00:00,  2.57s/batch]\n"
     ]
    },
    {
     "name": "stdout",
     "output_type": "stream",
     "text": [
      "Epoch 27/100, train_loss: 871887.9871126903\n",
      "best_val_loss: 812915.073652, epoch: 27, best_epoch: 27, current_patience: 20\n"
     ]
    },
    {
     "name": "stderr",
     "output_type": "stream",
     "text": [
      "Epoch 28: 100%|███████████████████████████████████████████████████████████████████████████████████████████████████████████| 10/10 [00:02<00:00,  3.70batch/s]\n",
      "Epoch 28: 100%|█████████████████████████████████████████████████████████████████████████████████████████████████████████████| 1/1 [00:02<00:00,  2.68s/batch]\n"
     ]
    },
    {
     "name": "stdout",
     "output_type": "stream",
     "text": [
      "Epoch 28/100, train_loss: 753505.2830048666\n",
      "best_val_loss: 686981.956099, epoch: 28, best_epoch: 28, current_patience: 20\n"
     ]
    },
    {
     "name": "stderr",
     "output_type": "stream",
     "text": [
      "Epoch 29: 100%|███████████████████████████████████████████████████████████████████████████████████████████████████████████| 10/10 [00:02<00:00,  3.73batch/s]\n",
      "Epoch 29: 100%|█████████████████████████████████████████████████████████████████████████████████████████████████████████████| 1/1 [00:02<00:00,  2.63s/batch]\n"
     ]
    },
    {
     "name": "stdout",
     "output_type": "stream",
     "text": [
      "Epoch 29/100, train_loss: 652444.4463822161\n",
      "best_val_loss: 608095.856408, epoch: 29, best_epoch: 29, current_patience: 20\n"
     ]
    },
    {
     "name": "stderr",
     "output_type": "stream",
     "text": [
      "Epoch 30: 100%|███████████████████████████████████████████████████████████████████████████████████████████████████████████| 10/10 [00:02<00:00,  3.60batch/s]\n",
      "Epoch 30: 100%|█████████████████████████████████████████████████████████████████████████████████████████████████████████████| 1/1 [00:02<00:00,  2.60s/batch]\n"
     ]
    },
    {
     "name": "stdout",
     "output_type": "stream",
     "text": [
      "Epoch 30/100, train_loss: 570129.9186110653\n",
      "best_val_loss: 531323.999434, epoch: 30, best_epoch: 30, current_patience: 20\n"
     ]
    },
    {
     "name": "stderr",
     "output_type": "stream",
     "text": [
      "Epoch 31: 100%|███████████████████████████████████████████████████████████████████████████████████████████████████████████| 10/10 [00:02<00:00,  3.73batch/s]\n",
      "Epoch 31: 100%|█████████████████████████████████████████████████████████████████████████████████████████████████████████████| 1/1 [00:02<00:00,  2.64s/batch]\n"
     ]
    },
    {
     "name": "stdout",
     "output_type": "stream",
     "text": [
      "Epoch 31/100, train_loss: 501117.51135883766\n",
      "best_val_loss: 478327.046092, epoch: 31, best_epoch: 31, current_patience: 20\n"
     ]
    },
    {
     "name": "stderr",
     "output_type": "stream",
     "text": [
      "Epoch 32: 100%|███████████████████████████████████████████████████████████████████████████████████████████████████████████| 10/10 [00:02<00:00,  3.65batch/s]\n",
      "Epoch 32: 100%|█████████████████████████████████████████████████████████████████████████████████████████████████████████████| 1/1 [00:02<00:00,  2.67s/batch]\n"
     ]
    },
    {
     "name": "stdout",
     "output_type": "stream",
     "text": [
      "Epoch 32/100, train_loss: 447964.4964607507\n",
      "best_val_loss: 424545.569594, epoch: 32, best_epoch: 32, current_patience: 20\n"
     ]
    },
    {
     "name": "stderr",
     "output_type": "stream",
     "text": [
      "Epoch 33: 100%|███████████████████████████████████████████████████████████████████████████████████████████████████████████| 10/10 [00:02<00:00,  3.57batch/s]\n",
      "Epoch 33: 100%|█████████████████████████████████████████████████████████████████████████████████████████████████████████████| 1/1 [00:02<00:00,  2.62s/batch]\n"
     ]
    },
    {
     "name": "stdout",
     "output_type": "stream",
     "text": [
      "Epoch 33/100, train_loss: 400786.1666676797\n",
      "best_val_loss: 381772.605048, epoch: 33, best_epoch: 33, current_patience: 20\n"
     ]
    },
    {
     "name": "stderr",
     "output_type": "stream",
     "text": [
      "Epoch 34: 100%|███████████████████████████████████████████████████████████████████████████████████████████████████████████| 10/10 [00:02<00:00,  3.64batch/s]\n",
      "Epoch 34: 100%|█████████████████████████████████████████████████████████████████████████████████████████████████████████████| 1/1 [00:02<00:00,  2.63s/batch]\n"
     ]
    },
    {
     "name": "stdout",
     "output_type": "stream",
     "text": [
      "Epoch 34/100, train_loss: 362984.087279273\n",
      "best_val_loss: 346566.92267, epoch: 34, best_epoch: 34, current_patience: 20\n"
     ]
    },
    {
     "name": "stderr",
     "output_type": "stream",
     "text": [
      "Epoch 35: 100%|███████████████████████████████████████████████████████████████████████████████████████████████████████████| 10/10 [00:02<00:00,  3.59batch/s]\n",
      "Epoch 35: 100%|█████████████████████████████████████████████████████████████████████████████████████████████████████████████| 1/1 [00:02<00:00,  2.62s/batch]\n"
     ]
    },
    {
     "name": "stdout",
     "output_type": "stream",
     "text": [
      "Epoch 35/100, train_loss: 331871.9593307438\n",
      "best_val_loss: 318762.179081, epoch: 35, best_epoch: 35, current_patience: 20\n"
     ]
    },
    {
     "name": "stderr",
     "output_type": "stream",
     "text": [
      "Epoch 36: 100%|███████████████████████████████████████████████████████████████████████████████████████████████████████████| 10/10 [00:02<00:00,  3.63batch/s]\n",
      "Epoch 36: 100%|█████████████████████████████████████████████████████████████████████████████████████████████████████████████| 1/1 [00:02<00:00,  2.65s/batch]\n"
     ]
    },
    {
     "name": "stdout",
     "output_type": "stream",
     "text": [
      "Epoch 36/100, train_loss: 305179.91259512154\n",
      "best_val_loss: 300376.566317, epoch: 36, best_epoch: 36, current_patience: 20\n"
     ]
    },
    {
     "name": "stderr",
     "output_type": "stream",
     "text": [
      "Epoch 37: 100%|███████████████████████████████████████████████████████████████████████████████████████████████████████████| 10/10 [00:02<00:00,  3.76batch/s]\n",
      "Epoch 37: 100%|█████████████████████████████████████████████████████████████████████████████████████████████████████████████| 1/1 [00:02<00:00,  2.60s/batch]\n"
     ]
    },
    {
     "name": "stdout",
     "output_type": "stream",
     "text": [
      "Epoch 37/100, train_loss: 284401.98364885565\n",
      "best_val_loss: 278708.787662, epoch: 37, best_epoch: 37, current_patience: 20\n"
     ]
    },
    {
     "name": "stderr",
     "output_type": "stream",
     "text": [
      "Epoch 38: 100%|███████████████████████████████████████████████████████████████████████████████████████████████████████████| 10/10 [00:02<00:00,  3.72batch/s]\n",
      "Epoch 38: 100%|█████████████████████████████████████████████████████████████████████████████████████████████████████████████| 1/1 [00:02<00:00,  2.58s/batch]\n"
     ]
    },
    {
     "name": "stdout",
     "output_type": "stream",
     "text": [
      "Epoch 38/100, train_loss: 268804.1579307878\n",
      "best_val_loss: 268690.855156, epoch: 38, best_epoch: 38, current_patience: 20\n"
     ]
    },
    {
     "name": "stderr",
     "output_type": "stream",
     "text": [
      "Epoch 39: 100%|███████████████████████████████████████████████████████████████████████████████████████████████████████████| 10/10 [00:02<00:00,  3.66batch/s]\n",
      "Epoch 39: 100%|█████████████████████████████████████████████████████████████████████████████████████████████████████████████| 1/1 [00:02<00:00,  2.65s/batch]\n"
     ]
    },
    {
     "name": "stdout",
     "output_type": "stream",
     "text": [
      "Epoch 39/100, train_loss: 256001.30833072375\n",
      "best_val_loss: 251287.945349, epoch: 39, best_epoch: 39, current_patience: 20\n"
     ]
    },
    {
     "name": "stderr",
     "output_type": "stream",
     "text": [
      "Epoch 40: 100%|███████████████████████████████████████████████████████████████████████████████████████████████████████████| 10/10 [00:02<00:00,  3.59batch/s]\n",
      "Epoch 40: 100%|█████████████████████████████████████████████████████████████████████████████████████████████████████████████| 1/1 [00:02<00:00,  2.65s/batch]\n"
     ]
    },
    {
     "name": "stdout",
     "output_type": "stream",
     "text": [
      "Epoch 40/100, train_loss: 239110.95639893456\n",
      "best_val_loss: 233243.533079, epoch: 40, best_epoch: 40, current_patience: 20\n"
     ]
    },
    {
     "name": "stderr",
     "output_type": "stream",
     "text": [
      "Epoch 41: 100%|███████████████████████████████████████████████████████████████████████████████████████████████████████████| 10/10 [00:02<00:00,  3.65batch/s]\n",
      "Epoch 41: 100%|█████████████████████████████████████████████████████████████████████████████████████████████████████████████| 1/1 [00:02<00:00,  2.65s/batch]\n"
     ]
    },
    {
     "name": "stdout",
     "output_type": "stream",
     "text": [
      "Epoch 41/100, train_loss: 231486.5221916247\n",
      "best_val_loss: 233243.533079, epoch: 41, best_epoch: 40, current_patience: 19\n"
     ]
    },
    {
     "name": "stderr",
     "output_type": "stream",
     "text": [
      "Epoch 42: 100%|███████████████████████████████████████████████████████████████████████████████████████████████████████████| 10/10 [00:02<00:00,  3.70batch/s]\n",
      "Epoch 42: 100%|█████████████████████████████████████████████████████████████████████████████████████████████████████████████| 1/1 [00:02<00:00,  2.63s/batch]\n"
     ]
    },
    {
     "name": "stdout",
     "output_type": "stream",
     "text": [
      "Epoch 42/100, train_loss: 227936.96126156743\n",
      "best_val_loss: 228686.791241, epoch: 42, best_epoch: 42, current_patience: 20\n"
     ]
    },
    {
     "name": "stderr",
     "output_type": "stream",
     "text": [
      "Epoch 43: 100%|███████████████████████████████████████████████████████████████████████████████████████████████████████████| 10/10 [00:02<00:00,  3.64batch/s]\n",
      "Epoch 43: 100%|█████████████████████████████████████████████████████████████████████████████████████████████████████████████| 1/1 [00:02<00:00,  2.62s/batch]\n"
     ]
    },
    {
     "name": "stdout",
     "output_type": "stream",
     "text": [
      "Epoch 43/100, train_loss: 221459.1511819222\n",
      "best_val_loss: 222679.015539, epoch: 43, best_epoch: 43, current_patience: 20\n"
     ]
    },
    {
     "name": "stderr",
     "output_type": "stream",
     "text": [
      "Epoch 44: 100%|███████████████████████████████████████████████████████████████████████████████████████████████████████████| 10/10 [00:02<00:00,  3.57batch/s]\n",
      "Epoch 44: 100%|█████████████████████████████████████████████████████████████████████████████████████████████████████████████| 1/1 [00:02<00:00,  2.61s/batch]\n"
     ]
    },
    {
     "name": "stdout",
     "output_type": "stream",
     "text": [
      "Epoch 44/100, train_loss: 213565.45105686435\n",
      "best_val_loss: 215580.113511, epoch: 44, best_epoch: 44, current_patience: 20\n"
     ]
    },
    {
     "name": "stderr",
     "output_type": "stream",
     "text": [
      "Epoch 45: 100%|███████████████████████████████████████████████████████████████████████████████████████████████████████████| 10/10 [00:02<00:00,  3.66batch/s]\n",
      "Epoch 45: 100%|█████████████████████████████████████████████████████████████████████████████████████████████████████████████| 1/1 [00:02<00:00,  2.68s/batch]\n"
     ]
    },
    {
     "name": "stdout",
     "output_type": "stream",
     "text": [
      "Epoch 45/100, train_loss: 213248.59390739107\n",
      "best_val_loss: 215580.113511, epoch: 45, best_epoch: 44, current_patience: 19\n"
     ]
    },
    {
     "name": "stderr",
     "output_type": "stream",
     "text": [
      "Epoch 46: 100%|███████████████████████████████████████████████████████████████████████████████████████████████████████████| 10/10 [00:02<00:00,  3.67batch/s]\n",
      "Epoch 46: 100%|█████████████████████████████████████████████████████████████████████████████████████████████████████████████| 1/1 [00:02<00:00,  2.67s/batch]\n"
     ]
    },
    {
     "name": "stdout",
     "output_type": "stream",
     "text": [
      "Epoch 46/100, train_loss: 208054.42190023686\n",
      "best_val_loss: 207210.127242, epoch: 46, best_epoch: 46, current_patience: 20\n"
     ]
    },
    {
     "name": "stderr",
     "output_type": "stream",
     "text": [
      "Epoch 47: 100%|███████████████████████████████████████████████████████████████████████████████████████████████████████████| 10/10 [00:02<00:00,  3.68batch/s]\n",
      "Epoch 47: 100%|█████████████████████████████████████████████████████████████████████████████████████████████████████████████| 1/1 [00:02<00:00,  2.65s/batch]\n"
     ]
    },
    {
     "name": "stdout",
     "output_type": "stream",
     "text": [
      "Epoch 47/100, train_loss: 204540.598930482\n",
      "best_val_loss: 206391.702601, epoch: 47, best_epoch: 47, current_patience: 20\n"
     ]
    },
    {
     "name": "stderr",
     "output_type": "stream",
     "text": [
      "Epoch 48: 100%|███████████████████████████████████████████████████████████████████████████████████████████████████████████| 10/10 [00:02<00:00,  3.65batch/s]\n",
      "Epoch 48: 100%|█████████████████████████████████████████████████████████████████████████████████████████████████████████████| 1/1 [00:02<00:00,  2.59s/batch]\n"
     ]
    },
    {
     "name": "stdout",
     "output_type": "stream",
     "text": [
      "Epoch 48/100, train_loss: 204159.44769441048\n",
      "best_val_loss: 206391.702601, epoch: 48, best_epoch: 47, current_patience: 19\n"
     ]
    },
    {
     "name": "stderr",
     "output_type": "stream",
     "text": [
      "Epoch 49: 100%|███████████████████████████████████████████████████████████████████████████████████████████████████████████| 10/10 [00:02<00:00,  3.65batch/s]\n",
      "Epoch 49: 100%|█████████████████████████████████████████████████████████████████████████████████████████████████████████████| 1/1 [00:02<00:00,  2.63s/batch]\n"
     ]
    },
    {
     "name": "stdout",
     "output_type": "stream",
     "text": [
      "Epoch 49/100, train_loss: 203124.4082094656\n",
      "best_val_loss: 206391.702601, epoch: 49, best_epoch: 47, current_patience: 18\n"
     ]
    },
    {
     "name": "stderr",
     "output_type": "stream",
     "text": [
      "Epoch 50: 100%|███████████████████████████████████████████████████████████████████████████████████████████████████████████| 10/10 [00:02<00:00,  3.69batch/s]\n",
      "Epoch 50: 100%|█████████████████████████████████████████████████████████████████████████████████████████████████████████████| 1/1 [00:02<00:00,  2.61s/batch]\n"
     ]
    },
    {
     "name": "stdout",
     "output_type": "stream",
     "text": [
      "Epoch 50/100, train_loss: 203907.61350262334\n",
      "best_val_loss: 205629.774983, epoch: 50, best_epoch: 50, current_patience: 20\n"
     ]
    },
    {
     "name": "stderr",
     "output_type": "stream",
     "text": [
      "Epoch 51: 100%|███████████████████████████████████████████████████████████████████████████████████████████████████████████| 10/10 [00:02<00:00,  3.69batch/s]\n",
      "Epoch 51: 100%|█████████████████████████████████████████████████████████████████████████████████████████████████████████████| 1/1 [00:02<00:00,  2.64s/batch]\n"
     ]
    },
    {
     "name": "stdout",
     "output_type": "stream",
     "text": [
      "Epoch 51/100, train_loss: 204089.01299171953\n",
      "best_val_loss: 205629.774983, epoch: 51, best_epoch: 50, current_patience: 19\n"
     ]
    },
    {
     "name": "stderr",
     "output_type": "stream",
     "text": [
      "Epoch 52: 100%|███████████████████████████████████████████████████████████████████████████████████████████████████████████| 10/10 [00:02<00:00,  3.61batch/s]\n",
      "Epoch 52: 100%|█████████████████████████████████████████████████████████████████████████████████████████████████████████████| 1/1 [00:02<00:00,  2.64s/batch]\n"
     ]
    },
    {
     "name": "stdout",
     "output_type": "stream",
     "text": [
      "Epoch 52/100, train_loss: 203186.0158468885\n",
      "best_val_loss: 201866.343819, epoch: 52, best_epoch: 52, current_patience: 20\n"
     ]
    },
    {
     "name": "stderr",
     "output_type": "stream",
     "text": [
      "Epoch 53: 100%|███████████████████████████████████████████████████████████████████████████████████████████████████████████| 10/10 [00:02<00:00,  3.58batch/s]\n",
      "Epoch 53: 100%|█████████████████████████████████████████████████████████████████████████████████████████████████████████████| 1/1 [00:02<00:00,  2.64s/batch]\n"
     ]
    },
    {
     "name": "stdout",
     "output_type": "stream",
     "text": [
      "Epoch 53/100, train_loss: 199028.58032119434\n",
      "best_val_loss: 200641.449945, epoch: 53, best_epoch: 53, current_patience: 20\n"
     ]
    },
    {
     "name": "stderr",
     "output_type": "stream",
     "text": [
      "Epoch 54: 100%|███████████████████████████████████████████████████████████████████████████████████████████████████████████| 10/10 [00:02<00:00,  3.61batch/s]\n",
      "Epoch 54: 100%|█████████████████████████████████████████████████████████████████████████████████████████████████████████████| 1/1 [00:02<00:00,  2.61s/batch]\n"
     ]
    },
    {
     "name": "stdout",
     "output_type": "stream",
     "text": [
      "Epoch 54/100, train_loss: 199396.933363784\n",
      "best_val_loss: 200641.449945, epoch: 54, best_epoch: 53, current_patience: 19\n"
     ]
    },
    {
     "name": "stderr",
     "output_type": "stream",
     "text": [
      "Epoch 55: 100%|███████████████████████████████████████████████████████████████████████████████████████████████████████████| 10/10 [00:02<00:00,  3.67batch/s]\n",
      "Epoch 55: 100%|█████████████████████████████████████████████████████████████████████████████████████████████████████████████| 1/1 [00:02<00:00,  2.63s/batch]\n"
     ]
    },
    {
     "name": "stdout",
     "output_type": "stream",
     "text": [
      "Epoch 55/100, train_loss: 199186.45776082706\n",
      "best_val_loss: 200641.449945, epoch: 55, best_epoch: 53, current_patience: 18\n"
     ]
    },
    {
     "name": "stderr",
     "output_type": "stream",
     "text": [
      "Epoch 56: 100%|███████████████████████████████████████████████████████████████████████████████████████████████████████████| 10/10 [00:02<00:00,  3.66batch/s]\n",
      "Epoch 56: 100%|█████████████████████████████████████████████████████████████████████████████████████████████████████████████| 1/1 [00:02<00:00,  2.64s/batch]\n"
     ]
    },
    {
     "name": "stdout",
     "output_type": "stream",
     "text": [
      "Epoch 56/100, train_loss: 200527.48485648903\n",
      "best_val_loss: 200641.449945, epoch: 56, best_epoch: 53, current_patience: 17\n"
     ]
    },
    {
     "name": "stderr",
     "output_type": "stream",
     "text": [
      "Epoch 57: 100%|███████████████████████████████████████████████████████████████████████████████████████████████████████████| 10/10 [00:02<00:00,  3.69batch/s]\n",
      "Epoch 57: 100%|█████████████████████████████████████████████████████████████████████████████████████████████████████████████| 1/1 [00:02<00:00,  2.61s/batch]\n"
     ]
    },
    {
     "name": "stdout",
     "output_type": "stream",
     "text": [
      "Epoch 57/100, train_loss: 200459.64717879053\n",
      "best_val_loss: 200641.449945, epoch: 57, best_epoch: 53, current_patience: 16\n"
     ]
    },
    {
     "name": "stderr",
     "output_type": "stream",
     "text": [
      "Epoch 58: 100%|███████████████████████████████████████████████████████████████████████████████████████████████████████████| 10/10 [00:02<00:00,  3.60batch/s]\n",
      "Epoch 58: 100%|█████████████████████████████████████████████████████████████████████████████████████████████████████████████| 1/1 [00:02<00:00,  2.61s/batch]\n"
     ]
    },
    {
     "name": "stdout",
     "output_type": "stream",
     "text": [
      "Epoch 58/100, train_loss: 196242.68271637525\n",
      "best_val_loss: 200641.449945, epoch: 58, best_epoch: 53, current_patience: 15\n"
     ]
    },
    {
     "name": "stderr",
     "output_type": "stream",
     "text": [
      "Epoch 59: 100%|███████████████████████████████████████████████████████████████████████████████████████████████████████████| 10/10 [00:02<00:00,  3.66batch/s]\n",
      "Epoch 59: 100%|█████████████████████████████████████████████████████████████████████████████████████████████████████████████| 1/1 [00:02<00:00,  2.62s/batch]\n"
     ]
    },
    {
     "name": "stdout",
     "output_type": "stream",
     "text": [
      "Epoch 59/100, train_loss: 198916.81106912374\n",
      "best_val_loss: 199557.666948, epoch: 59, best_epoch: 59, current_patience: 20\n"
     ]
    },
    {
     "name": "stderr",
     "output_type": "stream",
     "text": [
      "Epoch 60: 100%|███████████████████████████████████████████████████████████████████████████████████████████████████████████| 10/10 [00:02<00:00,  3.71batch/s]\n",
      "Epoch 60: 100%|█████████████████████████████████████████████████████████████████████████████████████████████████████████████| 1/1 [00:02<00:00,  2.61s/batch]\n"
     ]
    },
    {
     "name": "stdout",
     "output_type": "stream",
     "text": [
      "Epoch 60/100, train_loss: 199996.98303006426\n",
      "best_val_loss: 199557.666948, epoch: 60, best_epoch: 59, current_patience: 19\n"
     ]
    },
    {
     "name": "stderr",
     "output_type": "stream",
     "text": [
      "Epoch 61: 100%|███████████████████████████████████████████████████████████████████████████████████████████████████████████| 10/10 [00:02<00:00,  3.67batch/s]\n",
      "Epoch 61: 100%|█████████████████████████████████████████████████████████████████████████████████████████████████████████████| 1/1 [00:02<00:00,  2.63s/batch]\n"
     ]
    },
    {
     "name": "stdout",
     "output_type": "stream",
     "text": [
      "Epoch 61/100, train_loss: 200902.62998609804\n",
      "best_val_loss: 199557.666948, epoch: 61, best_epoch: 59, current_patience: 18\n"
     ]
    },
    {
     "name": "stderr",
     "output_type": "stream",
     "text": [
      "Epoch 62: 100%|███████████████████████████████████████████████████████████████████████████████████████████████████████████| 10/10 [00:02<00:00,  3.71batch/s]\n",
      "Epoch 62: 100%|█████████████████████████████████████████████████████████████████████████████████████████████████████████████| 1/1 [00:02<00:00,  2.61s/batch]\n"
     ]
    },
    {
     "name": "stdout",
     "output_type": "stream",
     "text": [
      "Epoch 62/100, train_loss: 200903.05152525514\n",
      "best_val_loss: 199557.666948, epoch: 62, best_epoch: 59, current_patience: 17\n"
     ]
    },
    {
     "name": "stderr",
     "output_type": "stream",
     "text": [
      "Epoch 63: 100%|███████████████████████████████████████████████████████████████████████████████████████████████████████████| 10/10 [00:02<00:00,  3.66batch/s]\n",
      "Epoch 63: 100%|█████████████████████████████████████████████████████████████████████████████████████████████████████████████| 1/1 [00:02<00:00,  2.61s/batch]\n"
     ]
    },
    {
     "name": "stdout",
     "output_type": "stream",
     "text": [
      "Epoch 63/100, train_loss: 199758.04012416367\n",
      "best_val_loss: 199557.666948, epoch: 63, best_epoch: 59, current_patience: 16\n"
     ]
    },
    {
     "name": "stderr",
     "output_type": "stream",
     "text": [
      "Epoch 64: 100%|███████████████████████████████████████████████████████████████████████████████████████████████████████████| 10/10 [00:02<00:00,  3.69batch/s]\n",
      "Epoch 64: 100%|█████████████████████████████████████████████████████████████████████████████████████████████████████████████| 1/1 [00:02<00:00,  2.62s/batch]\n"
     ]
    },
    {
     "name": "stdout",
     "output_type": "stream",
     "text": [
      "Epoch 64/100, train_loss: 198710.46589607288\n",
      "best_val_loss: 199557.666948, epoch: 64, best_epoch: 59, current_patience: 15\n"
     ]
    },
    {
     "name": "stderr",
     "output_type": "stream",
     "text": [
      "Epoch 65: 100%|███████████████████████████████████████████████████████████████████████████████████████████████████████████| 10/10 [00:02<00:00,  3.66batch/s]\n",
      "Epoch 65: 100%|█████████████████████████████████████████████████████████████████████████████████████████████████████████████| 1/1 [00:02<00:00,  2.64s/batch]\n"
     ]
    },
    {
     "name": "stdout",
     "output_type": "stream",
     "text": [
      "Epoch 65/100, train_loss: 198961.06395979316\n",
      "best_val_loss: 199557.666948, epoch: 65, best_epoch: 59, current_patience: 14\n"
     ]
    },
    {
     "name": "stderr",
     "output_type": "stream",
     "text": [
      "Epoch 66: 100%|███████████████████████████████████████████████████████████████████████████████████████████████████████████| 10/10 [00:02<00:00,  3.68batch/s]\n",
      "Epoch 66: 100%|█████████████████████████████████████████████████████████████████████████████████████████████████████████████| 1/1 [00:02<00:00,  2.58s/batch]\n"
     ]
    },
    {
     "name": "stdout",
     "output_type": "stream",
     "text": [
      "Epoch 66/100, train_loss: 201551.28618819304\n",
      "best_val_loss: 199557.666948, epoch: 66, best_epoch: 59, current_patience: 13\n"
     ]
    },
    {
     "name": "stderr",
     "output_type": "stream",
     "text": [
      "Epoch 67: 100%|███████████████████████████████████████████████████████████████████████████████████████████████████████████| 10/10 [00:02<00:00,  3.61batch/s]\n",
      "Epoch 67: 100%|█████████████████████████████████████████████████████████████████████████████████████████████████████████████| 1/1 [00:02<00:00,  2.61s/batch]\n"
     ]
    },
    {
     "name": "stdout",
     "output_type": "stream",
     "text": [
      "Epoch 67/100, train_loss: 196755.6894573513\n",
      "best_val_loss: 199557.666948, epoch: 67, best_epoch: 59, current_patience: 12\n"
     ]
    },
    {
     "name": "stderr",
     "output_type": "stream",
     "text": [
      "Epoch 68: 100%|███████████████████████████████████████████████████████████████████████████████████████████████████████████| 10/10 [00:02<00:00,  3.61batch/s]\n",
      "Epoch 68: 100%|█████████████████████████████████████████████████████████████████████████████████████████████████████████████| 1/1 [00:02<00:00,  2.64s/batch]\n"
     ]
    },
    {
     "name": "stdout",
     "output_type": "stream",
     "text": [
      "Epoch 68/100, train_loss: 195015.70264748586\n",
      "best_val_loss: 199557.666948, epoch: 68, best_epoch: 59, current_patience: 11\n"
     ]
    },
    {
     "name": "stderr",
     "output_type": "stream",
     "text": [
      "Epoch 69: 100%|███████████████████████████████████████████████████████████████████████████████████████████████████████████| 10/10 [00:02<00:00,  3.62batch/s]\n",
      "Epoch 69: 100%|█████████████████████████████████████████████████████████████████████████████████████████████████████████████| 1/1 [00:02<00:00,  2.65s/batch]\n"
     ]
    },
    {
     "name": "stdout",
     "output_type": "stream",
     "text": [
      "Epoch 69/100, train_loss: 203294.07660691\n",
      "best_val_loss: 199557.666948, epoch: 69, best_epoch: 59, current_patience: 10\n"
     ]
    },
    {
     "name": "stderr",
     "output_type": "stream",
     "text": [
      "Epoch 70: 100%|███████████████████████████████████████████████████████████████████████████████████████████████████████████| 10/10 [00:02<00:00,  3.62batch/s]\n",
      "Epoch 70: 100%|█████████████████████████████████████████████████████████████████████████████████████████████████████████████| 1/1 [00:02<00:00,  2.60s/batch]\n"
     ]
    },
    {
     "name": "stdout",
     "output_type": "stream",
     "text": [
      "Epoch 70/100, train_loss: 197797.06595718133\n",
      "best_val_loss: 199361.298157, epoch: 70, best_epoch: 70, current_patience: 20\n"
     ]
    },
    {
     "name": "stderr",
     "output_type": "stream",
     "text": [
      "Epoch 71: 100%|███████████████████████████████████████████████████████████████████████████████████████████████████████████| 10/10 [00:02<00:00,  3.65batch/s]\n",
      "Epoch 71: 100%|█████████████████████████████████████████████████████████████████████████████████████████████████████████████| 1/1 [00:02<00:00,  2.61s/batch]\n"
     ]
    },
    {
     "name": "stdout",
     "output_type": "stream",
     "text": [
      "Epoch 71/100, train_loss: 197047.7833877056\n",
      "best_val_loss: 199361.298157, epoch: 71, best_epoch: 70, current_patience: 19\n"
     ]
    },
    {
     "name": "stderr",
     "output_type": "stream",
     "text": [
      "Epoch 72: 100%|███████████████████████████████████████████████████████████████████████████████████████████████████████████| 10/10 [00:02<00:00,  3.63batch/s]\n",
      "Epoch 72: 100%|█████████████████████████████████████████████████████████████████████████████████████████████████████████████| 1/1 [00:02<00:00,  2.62s/batch]\n"
     ]
    },
    {
     "name": "stdout",
     "output_type": "stream",
     "text": [
      "Epoch 72/100, train_loss: 197262.0631265015\n",
      "best_val_loss: 198606.257935, epoch: 72, best_epoch: 72, current_patience: 20\n"
     ]
    },
    {
     "name": "stderr",
     "output_type": "stream",
     "text": [
      "Epoch 73: 100%|███████████████████████████████████████████████████████████████████████████████████████████████████████████| 10/10 [00:02<00:00,  3.69batch/s]\n",
      "Epoch 73: 100%|█████████████████████████████████████████████████████████████████████████████████████████████████████████████| 1/1 [00:02<00:00,  2.64s/batch]\n"
     ]
    },
    {
     "name": "stdout",
     "output_type": "stream",
     "text": [
      "Epoch 73/100, train_loss: 199561.3420358284\n",
      "best_val_loss: 198606.257935, epoch: 73, best_epoch: 72, current_patience: 19\n"
     ]
    },
    {
     "name": "stderr",
     "output_type": "stream",
     "text": [
      "Epoch 74: 100%|███████████████████████████████████████████████████████████████████████████████████████████████████████████| 10/10 [00:02<00:00,  3.63batch/s]\n",
      "Epoch 74: 100%|█████████████████████████████████████████████████████████████████████████████████████████████████████████████| 1/1 [00:02<00:00,  2.65s/batch]\n"
     ]
    },
    {
     "name": "stdout",
     "output_type": "stream",
     "text": [
      "Epoch 74/100, train_loss: 197984.72813239787\n",
      "best_val_loss: 198606.257935, epoch: 74, best_epoch: 72, current_patience: 18\n"
     ]
    },
    {
     "name": "stderr",
     "output_type": "stream",
     "text": [
      "Epoch 75: 100%|███████████████████████████████████████████████████████████████████████████████████████████████████████████| 10/10 [00:02<00:00,  3.66batch/s]\n",
      "Epoch 75: 100%|█████████████████████████████████████████████████████████████████████████████████████████████████████████████| 1/1 [00:02<00:00,  2.63s/batch]\n"
     ]
    },
    {
     "name": "stdout",
     "output_type": "stream",
     "text": [
      "Epoch 75/100, train_loss: 197853.5811874222\n",
      "best_val_loss: 198606.257935, epoch: 75, best_epoch: 72, current_patience: 17\n"
     ]
    },
    {
     "name": "stderr",
     "output_type": "stream",
     "text": [
      "Epoch 76: 100%|███████████████████████████████████████████████████████████████████████████████████████████████████████████| 10/10 [00:02<00:00,  3.63batch/s]\n",
      "Epoch 76: 100%|█████████████████████████████████████████████████████████████████████████████████████████████████████████████| 1/1 [00:02<00:00,  2.64s/batch]\n"
     ]
    },
    {
     "name": "stdout",
     "output_type": "stream",
     "text": [
      "Epoch 76/100, train_loss: 194702.77571412738\n",
      "best_val_loss: 198606.257935, epoch: 76, best_epoch: 72, current_patience: 16\n"
     ]
    },
    {
     "name": "stderr",
     "output_type": "stream",
     "text": [
      "Epoch 77: 100%|███████████████████████████████████████████████████████████████████████████████████████████████████████████| 10/10 [00:02<00:00,  3.63batch/s]\n",
      "Epoch 77: 100%|█████████████████████████████████████████████████████████████████████████████████████████████████████████████| 1/1 [00:02<00:00,  2.66s/batch]\n"
     ]
    },
    {
     "name": "stdout",
     "output_type": "stream",
     "text": [
      "Epoch 77/100, train_loss: 198626.01790289723\n",
      "best_val_loss: 198606.257935, epoch: 77, best_epoch: 72, current_patience: 15\n"
     ]
    },
    {
     "name": "stderr",
     "output_type": "stream",
     "text": [
      "Epoch 78: 100%|███████████████████████████████████████████████████████████████████████████████████████████████████████████| 10/10 [00:02<00:00,  3.73batch/s]\n",
      "Epoch 78: 100%|█████████████████████████████████████████████████████████████████████████████████████████████████████████████| 1/1 [00:02<00:00,  2.64s/batch]\n"
     ]
    },
    {
     "name": "stdout",
     "output_type": "stream",
     "text": [
      "Epoch 78/100, train_loss: 200989.5336399761\n",
      "best_val_loss: 198606.257935, epoch: 78, best_epoch: 72, current_patience: 14\n"
     ]
    },
    {
     "name": "stderr",
     "output_type": "stream",
     "text": [
      "Epoch 79: 100%|███████████████████████████████████████████████████████████████████████████████████████████████████████████| 10/10 [00:02<00:00,  3.66batch/s]\n",
      "Epoch 79: 100%|█████████████████████████████████████████████████████████████████████████████████████████████████████████████| 1/1 [00:02<00:00,  2.64s/batch]\n"
     ]
    },
    {
     "name": "stdout",
     "output_type": "stream",
     "text": [
      "Epoch 79/100, train_loss: 198726.50947957445\n",
      "best_val_loss: 198606.257935, epoch: 79, best_epoch: 72, current_patience: 13\n"
     ]
    },
    {
     "name": "stderr",
     "output_type": "stream",
     "text": [
      "Epoch 80: 100%|███████████████████████████████████████████████████████████████████████████████████████████████████████████| 10/10 [00:02<00:00,  3.56batch/s]\n",
      "Epoch 80: 100%|█████████████████████████████████████████████████████████████████████████████████████████████████████████████| 1/1 [00:02<00:00,  2.61s/batch]\n"
     ]
    },
    {
     "name": "stdout",
     "output_type": "stream",
     "text": [
      "Epoch 80/100, train_loss: 196933.2488232952\n",
      "best_val_loss: 198606.257935, epoch: 80, best_epoch: 72, current_patience: 12\n"
     ]
    },
    {
     "name": "stderr",
     "output_type": "stream",
     "text": [
      "Epoch 81: 100%|███████████████████████████████████████████████████████████████████████████████████████████████████████████| 10/10 [00:02<00:00,  3.72batch/s]\n",
      "Epoch 81: 100%|█████████████████████████████████████████████████████████████████████████████████████████████████████████████| 1/1 [00:02<00:00,  2.61s/batch]\n"
     ]
    },
    {
     "name": "stdout",
     "output_type": "stream",
     "text": [
      "Epoch 81/100, train_loss: 194428.80414814717\n",
      "best_val_loss: 198606.257935, epoch: 81, best_epoch: 72, current_patience: 11\n"
     ]
    },
    {
     "name": "stderr",
     "output_type": "stream",
     "text": [
      "Epoch 82: 100%|███████████████████████████████████████████████████████████████████████████████████████████████████████████| 10/10 [00:02<00:00,  3.74batch/s]\n",
      "Epoch 82: 100%|█████████████████████████████████████████████████████████████████████████████████████████████████████████████| 1/1 [00:02<00:00,  2.61s/batch]\n"
     ]
    },
    {
     "name": "stdout",
     "output_type": "stream",
     "text": [
      "Epoch 82/100, train_loss: 197918.87348889132\n",
      "best_val_loss: 198606.257935, epoch: 82, best_epoch: 72, current_patience: 10\n"
     ]
    },
    {
     "name": "stderr",
     "output_type": "stream",
     "text": [
      "Epoch 83: 100%|███████████████████████████████████████████████████████████████████████████████████████████████████████████| 10/10 [00:02<00:00,  3.67batch/s]\n",
      "Epoch 83: 100%|█████████████████████████████████████████████████████████████████████████████████████████████████████████████| 1/1 [00:02<00:00,  2.61s/batch]\n"
     ]
    },
    {
     "name": "stdout",
     "output_type": "stream",
     "text": [
      "Epoch 83/100, train_loss: 196285.39282010257\n",
      "best_val_loss: 198606.257935, epoch: 83, best_epoch: 72, current_patience: 9\n"
     ]
    },
    {
     "name": "stderr",
     "output_type": "stream",
     "text": [
      "Epoch 84: 100%|███████████████████████████████████████████████████████████████████████████████████████████████████████████| 10/10 [00:02<00:00,  3.59batch/s]\n",
      "Epoch 84: 100%|█████████████████████████████████████████████████████████████████████████████████████████████████████████████| 1/1 [00:02<00:00,  2.61s/batch]\n"
     ]
    },
    {
     "name": "stdout",
     "output_type": "stream",
     "text": [
      "Epoch 84/100, train_loss: 195347.88909594377\n",
      "best_val_loss: 194679.23291, epoch: 84, best_epoch: 84, current_patience: 20\n"
     ]
    },
    {
     "name": "stderr",
     "output_type": "stream",
     "text": [
      "Epoch 85: 100%|███████████████████████████████████████████████████████████████████████████████████████████████████████████| 10/10 [00:02<00:00,  3.67batch/s]\n",
      "Epoch 85: 100%|█████████████████████████████████████████████████████████████████████████████████████████████████████████████| 1/1 [00:02<00:00,  2.59s/batch]\n"
     ]
    },
    {
     "name": "stdout",
     "output_type": "stream",
     "text": [
      "Epoch 85/100, train_loss: 193924.77129411884\n",
      "best_val_loss: 194679.23291, epoch: 85, best_epoch: 84, current_patience: 19\n"
     ]
    },
    {
     "name": "stderr",
     "output_type": "stream",
     "text": [
      "Epoch 86: 100%|███████████████████████████████████████████████████████████████████████████████████████████████████████████| 10/10 [00:02<00:00,  3.65batch/s]\n",
      "Epoch 86: 100%|█████████████████████████████████████████████████████████████████████████████████████████████████████████████| 1/1 [00:02<00:00,  2.64s/batch]\n"
     ]
    },
    {
     "name": "stdout",
     "output_type": "stream",
     "text": [
      "Epoch 86/100, train_loss: 194215.73926014977\n",
      "best_val_loss: 194679.23291, epoch: 86, best_epoch: 84, current_patience: 18\n"
     ]
    },
    {
     "name": "stderr",
     "output_type": "stream",
     "text": [
      "Epoch 87: 100%|███████████████████████████████████████████████████████████████████████████████████████████████████████████| 10/10 [00:02<00:00,  3.70batch/s]\n",
      "Epoch 87: 100%|█████████████████████████████████████████████████████████████████████████████████████████████████████████████| 1/1 [00:02<00:00,  2.66s/batch]\n"
     ]
    },
    {
     "name": "stdout",
     "output_type": "stream",
     "text": [
      "Epoch 87/100, train_loss: 193003.88543622586\n",
      "best_val_loss: 194679.23291, epoch: 87, best_epoch: 84, current_patience: 17\n"
     ]
    },
    {
     "name": "stderr",
     "output_type": "stream",
     "text": [
      "Epoch 88: 100%|███████████████████████████████████████████████████████████████████████████████████████████████████████████| 10/10 [00:02<00:00,  3.68batch/s]\n",
      "Epoch 88: 100%|█████████████████████████████████████████████████████████████████████████████████████████████████████████████| 1/1 [00:02<00:00,  2.65s/batch]\n"
     ]
    },
    {
     "name": "stdout",
     "output_type": "stream",
     "text": [
      "Epoch 88/100, train_loss: 193161.72340645432\n",
      "best_val_loss: 194679.23291, epoch: 88, best_epoch: 84, current_patience: 16\n"
     ]
    },
    {
     "name": "stderr",
     "output_type": "stream",
     "text": [
      "Epoch 89: 100%|███████████████████████████████████████████████████████████████████████████████████████████████████████████| 10/10 [00:02<00:00,  3.69batch/s]\n",
      "Epoch 89: 100%|█████████████████████████████████████████████████████████████████████████████████████████████████████████████| 1/1 [00:02<00:00,  2.65s/batch]\n"
     ]
    },
    {
     "name": "stdout",
     "output_type": "stream",
     "text": [
      "Epoch 89/100, train_loss: 192935.54581583626\n",
      "best_val_loss: 194679.23291, epoch: 89, best_epoch: 84, current_patience: 15\n"
     ]
    },
    {
     "name": "stderr",
     "output_type": "stream",
     "text": [
      "Epoch 90: 100%|███████████████████████████████████████████████████████████████████████████████████████████████████████████| 10/10 [00:02<00:00,  3.67batch/s]\n",
      "Epoch 90: 100%|█████████████████████████████████████████████████████████████████████████████████████████████████████████████| 1/1 [00:02<00:00,  2.63s/batch]\n"
     ]
    },
    {
     "name": "stdout",
     "output_type": "stream",
     "text": [
      "Epoch 90/100, train_loss: 192537.5700292787\n",
      "best_val_loss: 194679.23291, epoch: 90, best_epoch: 84, current_patience: 14\n"
     ]
    },
    {
     "name": "stderr",
     "output_type": "stream",
     "text": [
      "Epoch 91: 100%|███████████████████████████████████████████████████████████████████████████████████████████████████████████| 10/10 [00:02<00:00,  3.63batch/s]\n",
      "Epoch 91: 100%|█████████████████████████████████████████████████████████████████████████████████████████████████████████████| 1/1 [00:02<00:00,  2.63s/batch]\n"
     ]
    },
    {
     "name": "stdout",
     "output_type": "stream",
     "text": [
      "Epoch 91/100, train_loss: 194118.91246811868\n",
      "best_val_loss: 194679.23291, epoch: 91, best_epoch: 84, current_patience: 13\n"
     ]
    },
    {
     "name": "stderr",
     "output_type": "stream",
     "text": [
      "Epoch 92: 100%|███████████████████████████████████████████████████████████████████████████████████████████████████████████| 10/10 [00:02<00:00,  3.68batch/s]\n",
      "Epoch 92: 100%|█████████████████████████████████████████████████████████████████████████████████████████████████████████████| 1/1 [00:02<00:00,  2.63s/batch]\n"
     ]
    },
    {
     "name": "stdout",
     "output_type": "stream",
     "text": [
      "Epoch 92/100, train_loss: 194051.60374225207\n",
      "best_val_loss: 194679.23291, epoch: 92, best_epoch: 84, current_patience: 12\n"
     ]
    },
    {
     "name": "stderr",
     "output_type": "stream",
     "text": [
      "Epoch 93: 100%|███████████████████████████████████████████████████████████████████████████████████████████████████████████| 10/10 [00:02<00:00,  3.63batch/s]\n",
      "Epoch 93: 100%|█████████████████████████████████████████████████████████████████████████████████████████████████████████████| 1/1 [00:02<00:00,  2.65s/batch]\n"
     ]
    },
    {
     "name": "stdout",
     "output_type": "stream",
     "text": [
      "Epoch 93/100, train_loss: 193941.37931612498\n",
      "best_val_loss: 194679.23291, epoch: 93, best_epoch: 84, current_patience: 11\n"
     ]
    },
    {
     "name": "stderr",
     "output_type": "stream",
     "text": [
      "Epoch 94: 100%|███████████████████████████████████████████████████████████████████████████████████████████████████████████| 10/10 [00:02<00:00,  3.61batch/s]\n",
      "Epoch 94: 100%|█████████████████████████████████████████████████████████████████████████████████████████████████████████████| 1/1 [00:02<00:00,  2.61s/batch]\n"
     ]
    },
    {
     "name": "stdout",
     "output_type": "stream",
     "text": [
      "Epoch 94/100, train_loss: 193403.7126908851\n",
      "best_val_loss: 194679.23291, epoch: 94, best_epoch: 84, current_patience: 10\n"
     ]
    },
    {
     "name": "stderr",
     "output_type": "stream",
     "text": [
      "Epoch 95: 100%|███████████████████████████████████████████████████████████████████████████████████████████████████████████| 10/10 [00:02<00:00,  3.59batch/s]\n",
      "Epoch 95: 100%|█████████████████████████████████████████████████████████████████████████████████████████████████████████████| 1/1 [00:02<00:00,  2.67s/batch]\n"
     ]
    },
    {
     "name": "stdout",
     "output_type": "stream",
     "text": [
      "Epoch 95/100, train_loss: 192886.94019110285\n",
      "best_val_loss: 194679.23291, epoch: 95, best_epoch: 84, current_patience: 9\n"
     ]
    },
    {
     "name": "stderr",
     "output_type": "stream",
     "text": [
      "Epoch 96: 100%|███████████████████████████████████████████████████████████████████████████████████████████████████████████| 10/10 [00:02<00:00,  3.69batch/s]\n",
      "Epoch 96: 100%|█████████████████████████████████████████████████████████████████████████████████████████████████████████████| 1/1 [00:02<00:00,  2.62s/batch]\n"
     ]
    },
    {
     "name": "stdout",
     "output_type": "stream",
     "text": [
      "Epoch 96/100, train_loss: 193702.80547832898\n",
      "best_val_loss: 194679.23291, epoch: 96, best_epoch: 84, current_patience: 8\n"
     ]
    },
    {
     "name": "stderr",
     "output_type": "stream",
     "text": [
      "Epoch 97: 100%|███████████████████████████████████████████████████████████████████████████████████████████████████████████| 10/10 [00:02<00:00,  3.62batch/s]\n",
      "Epoch 97: 100%|█████████████████████████████████████████████████████████████████████████████████████████████████████████████| 1/1 [00:02<00:00,  2.61s/batch]\n"
     ]
    },
    {
     "name": "stdout",
     "output_type": "stream",
     "text": [
      "Epoch 97/100, train_loss: 192979.76844604567\n",
      "best_val_loss: 194679.23291, epoch: 97, best_epoch: 84, current_patience: 7\n"
     ]
    },
    {
     "name": "stderr",
     "output_type": "stream",
     "text": [
      "Epoch 98: 100%|███████████████████████████████████████████████████████████████████████████████████████████████████████████| 10/10 [00:02<00:00,  3.62batch/s]\n",
      "Epoch 98: 100%|█████████████████████████████████████████████████████████████████████████████████████████████████████████████| 1/1 [00:02<00:00,  2.63s/batch]\n"
     ]
    },
    {
     "name": "stdout",
     "output_type": "stream",
     "text": [
      "Epoch 98/100, train_loss: 193007.98674856802\n",
      "best_val_loss: 194679.23291, epoch: 98, best_epoch: 84, current_patience: 6\n"
     ]
    },
    {
     "name": "stderr",
     "output_type": "stream",
     "text": [
      "Epoch 99: 100%|███████████████████████████████████████████████████████████████████████████████████████████████████████████| 10/10 [00:02<00:00,  3.68batch/s]\n",
      "Epoch 99: 100%|█████████████████████████████████████████████████████████████████████████████████████████████████████████████| 1/1 [00:02<00:00,  2.62s/batch]\n"
     ]
    },
    {
     "name": "stdout",
     "output_type": "stream",
     "text": [
      "Epoch 99/100, train_loss: 193409.11364959655\n",
      "best_val_loss: 194679.23291, epoch: 99, best_epoch: 84, current_patience: 5\n"
     ]
    },
    {
     "name": "stderr",
     "output_type": "stream",
     "text": [
      "Epoch 100: 100%|██████████████████████████████████████████████████████████████████████████████████████████████████████████| 10/10 [00:02<00:00,  3.69batch/s]\n",
      "Epoch 100: 100%|████████████████████████████████████████████████████████████████████████████████████████████████████████████| 1/1 [00:02<00:00,  2.68s/batch]"
     ]
    },
    {
     "name": "stdout",
     "output_type": "stream",
     "text": [
      "Epoch 100/100, train_loss: 197945.78299172653\n",
      "best_val_loss: 194679.23291, epoch: 100, best_epoch: 84, current_patience: 4\n"
     ]
    },
    {
     "name": "stderr",
     "output_type": "stream",
     "text": [
      "\n"
     ]
    }
   ],
   "source": [
    "NAME = \"AE-{:%Y-%b-%d %H:%M:%S}\".format(datetime.now())\n",
    "writer = SummaryWriter(log_dir=f'logs_and_weights/{NAME}')\n",
    "fit(model, criterion, dataloaders, optimizer, device, writer, NAME, 100, 20)\n",
    "writer.close()"
   ]
  },
  {
   "cell_type": "markdown",
   "id": "64af503c",
   "metadata": {},
   "source": [
    "Compute whether embedding of new sample is within convex hull of training samples."
   ]
  },
  {
   "cell_type": "code",
   "execution_count": 58,
   "id": "e6b98279",
   "metadata": {},
   "outputs": [],
   "source": [
    "def in_hull(p, hull):\n",
    "    \"\"\"\n",
    "    Test if points in `p` are in `hull`\n",
    "\n",
    "    `p` should be a `NxK` coordinates of `N` points in `K` dimensions\n",
    "    `hull` is either a scipy.spatial.Delaunay object or the `MxK` array of the \n",
    "    coordinates of `M` points in `K`dimensions for which Delaunay triangulation\n",
    "    will be computed\n",
    "    \"\"\"\n",
    "    from scipy.spatial import Delaunay\n",
    "    if not isinstance(hull,Delaunay):\n",
    "        hull = Delaunay(hull)\n",
    "\n",
    "    return hull.find_simplex(p)>=0"
   ]
  },
  {
   "cell_type": "code",
   "execution_count": 59,
   "id": "827ecd76",
   "metadata": {},
   "outputs": [],
   "source": [
    "new_point = dspl[111, :, :, :]"
   ]
  },
  {
   "cell_type": "code",
   "execution_count": 61,
   "id": "7c4ae054",
   "metadata": {},
   "outputs": [],
   "source": [
    "new_point = np.moveaxis(np.array(new_point[np.newaxis]),3 ,1)"
   ]
  },
  {
   "cell_type": "code",
   "execution_count": 62,
   "id": "165c9315",
   "metadata": {},
   "outputs": [],
   "source": [
    "new_point = torch.from_numpy(new_point).double()"
   ]
  },
  {
   "cell_type": "code",
   "execution_count": 63,
   "id": "a1c7d1c8",
   "metadata": {},
   "outputs": [],
   "source": [
    "new_point_rep = representation_extractor(new_point)"
   ]
  },
  {
   "cell_type": "markdown",
   "id": "df1497d3",
   "metadata": {},
   "source": [
    "### Dense prediction Transformer"
   ]
  },
  {
   "cell_type": "code",
   "execution_count": 25,
   "id": "1f2db0b0",
   "metadata": {},
   "outputs": [],
   "source": [
    "dspl_test = h5py.File('/home/alexrichard/PycharmProjects/UQ_DL-TFM/mltfm/displacements_res_104_num_50000.h5')[\"data\"]\n",
    "trac_test = h5py.File('/home/alexrichard/PycharmProjects/UQ_DL-TFM/mltfm/tractions_res_104_num_50000.h5')[\"data\"]"
   ]
  },
  {
   "cell_type": "code",
   "execution_count": 26,
   "id": "ca0cce2d",
   "metadata": {},
   "outputs": [],
   "source": [
    "dspl_test_ = np.moveaxis(np.array(dspl_test),3 ,1)\n",
    "trac_test_ = np.moveaxis(np.array(trac_test),3 ,1)"
   ]
  },
  {
   "cell_type": "code",
   "execution_count": 28,
   "id": "6c9435d9",
   "metadata": {},
   "outputs": [],
   "source": [
    "X_test = torch.from_numpy(dspl_test_[0:100, :, :, :]).float()\n",
    "Y_test = torch.from_numpy(trac_test_[0:100, :, :, :]).float()"
   ]
  },
  {
   "cell_type": "code",
   "execution_count": 29,
   "id": "77974428",
   "metadata": {},
   "outputs": [
    {
     "name": "stdout",
     "output_type": "stream",
     "text": [
      "rectrachead weights init successsful!\n"
     ]
    }
   ],
   "source": [
    "dpt_weights = DPT.DPT().float()"
   ]
  },
  {
   "cell_type": "code",
   "execution_count": 30,
   "id": "78e5ff2f",
   "metadata": {},
   "outputs": [],
   "source": [
    "vit_weights = vit.VisionTransformer().float()"
   ]
  },
  {
   "cell_type": "code",
   "execution_count": 31,
   "id": "a0322569",
   "metadata": {},
   "outputs": [],
   "source": [
    "path_to_dpt = '/home/alexrichard/PycharmProjects/UQ_DL-TFM/ViT-TFM/DPT/logs_and_weights/DPT-2022-Dec-03 21:17:26/DPT-2022-Dec-03 21:17:26_best_val_loss_0.00442.pth'"
   ]
  },
  {
   "cell_type": "code",
   "execution_count": 32,
   "id": "f7e20cbd",
   "metadata": {},
   "outputs": [],
   "source": [
    "path_to_vit = '/home/alexrichard/PycharmProjects/UQ_DL-TFM/ViT-TFM/logs_and_weights/best_so_far/ViT-2022-Nov-03 09 55 11_best_val_loss_2e-05.pth'"
   ]
  },
  {
   "cell_type": "code",
   "execution_count": 33,
   "id": "4c351a61",
   "metadata": {},
   "outputs": [],
   "source": [
    "if torch.cuda.is_available():\n",
    "    dpt_weights.load_state_dict(torch.load(path_to_dpt)['best_model_weights'], strict=False)\n",
    "    vit_weights.load_state_dict(torch.load(path_to_vit)['best_model_weights'], strict=False)\n",
    "else:\n",
    "    dpt_weights.load_state_dict(torch.load(path_to_dpt, map_location=torch.device('cpu'))['best_model_weights'], strict=False)\n",
    "    vit_weights.load_state_dict(torch.load(path_to_vit, map_location=torch.device('cpu'))['best_model_weights'], strict=False)        "
   ]
  },
  {
   "cell_type": "code",
   "execution_count": 34,
   "id": "8471734b",
   "metadata": {},
   "outputs": [],
   "source": [
    "dpt_weights.eval()\n",
    "pred_dpt = dpt_weights(X_test)\n",
    "\n",
    "vit_weights.eval()\n",
    "pred_vit = vit_weights(X_test)"
   ]
  },
  {
   "cell_type": "code",
   "execution_count": 39,
   "id": "7000e605",
   "metadata": {},
   "outputs": [],
   "source": [
    "loss = torch.nn.MSELoss(reduction='none')"
   ]
  },
  {
   "cell_type": "code",
   "execution_count": 40,
   "id": "0ad36637",
   "metadata": {},
   "outputs": [],
   "source": [
    "loss = torch.nn.MSELoss(reduction='none')\n",
    "\n",
    "loss_dpt = torch.sum(loss(pred_dpt, Y_test), (1, 2, 3))\n",
    "loss_dpt = torch.reshape(loss_dpt, (100, 1))\n",
    "\n",
    "loss_vit = torch.sum(loss(pred_vit, Y_test), (1, 2, 3))\n",
    "loss_vit = torch.reshape(loss_vit, (100, 1))"
   ]
  },
  {
   "cell_type": "code",
   "execution_count": 41,
   "id": "633b9212",
   "metadata": {
    "scrolled": true
   },
   "outputs": [
    {
     "data": {
      "text/plain": [
       "tensor([[162.6528],\n",
       "        [143.8423],\n",
       "        [181.7465],\n",
       "        [181.8855],\n",
       "        [156.8173],\n",
       "        [158.0834],\n",
       "        [125.9210],\n",
       "        [127.5601],\n",
       "        [156.8446],\n",
       "        [136.2142],\n",
       "        [125.3330],\n",
       "        [142.1759],\n",
       "        [182.1125],\n",
       "        [130.0499],\n",
       "        [161.3401],\n",
       "        [140.6420],\n",
       "        [132.3218],\n",
       "        [156.9597],\n",
       "        [179.7295],\n",
       "        [174.8461],\n",
       "        [130.9956],\n",
       "        [146.0687],\n",
       "        [142.4419],\n",
       "        [161.5128],\n",
       "        [152.9499],\n",
       "        [141.2213],\n",
       "        [183.8745],\n",
       "        [129.2159],\n",
       "        [178.5058],\n",
       "        [159.8897],\n",
       "        [119.9090],\n",
       "        [134.8571],\n",
       "        [136.3681],\n",
       "        [144.6497],\n",
       "        [133.8141],\n",
       "        [160.5836],\n",
       "        [119.6910],\n",
       "        [146.0819],\n",
       "        [150.2032],\n",
       "        [142.2448],\n",
       "        [164.9062],\n",
       "        [165.6733],\n",
       "        [153.1857],\n",
       "        [129.0192],\n",
       "        [135.3416],\n",
       "        [176.8605],\n",
       "        [128.1350],\n",
       "        [169.0310],\n",
       "        [148.6391],\n",
       "        [162.5478],\n",
       "        [156.8982],\n",
       "        [167.0515],\n",
       "        [170.9866],\n",
       "        [126.7711],\n",
       "        [137.0350],\n",
       "        [119.1525],\n",
       "        [159.2768],\n",
       "        [149.9869],\n",
       "        [158.6211],\n",
       "        [138.0862],\n",
       "        [135.8642],\n",
       "        [143.8238],\n",
       "        [148.3380],\n",
       "        [157.0650],\n",
       "        [134.6015],\n",
       "        [163.7971],\n",
       "        [169.8785],\n",
       "        [156.3352],\n",
       "        [123.1302],\n",
       "        [124.9655],\n",
       "        [159.0290],\n",
       "        [137.7386],\n",
       "        [133.2095],\n",
       "        [143.0591],\n",
       "        [160.1167],\n",
       "        [144.6973],\n",
       "        [175.0418],\n",
       "        [159.8241],\n",
       "        [189.7883],\n",
       "        [155.8197],\n",
       "        [136.5913],\n",
       "        [155.9607],\n",
       "        [139.2193],\n",
       "        [149.8265],\n",
       "        [164.2773],\n",
       "        [141.2722],\n",
       "        [166.9511],\n",
       "        [131.2307],\n",
       "        [167.1108],\n",
       "        [138.2689],\n",
       "        [144.6528],\n",
       "        [128.7354],\n",
       "        [145.1821],\n",
       "        [159.2866],\n",
       "        [172.9428],\n",
       "        [147.9884],\n",
       "        [158.1311],\n",
       "        [142.8113],\n",
       "        [159.2930],\n",
       "        [191.8047]], grad_fn=<ReshapeAliasBackward0>)"
      ]
     },
     "execution_count": 41,
     "metadata": {},
     "output_type": "execute_result"
    }
   ],
   "source": [
    "loss_dpt"
   ]
  },
  {
   "cell_type": "code",
   "execution_count": 42,
   "id": "a506ddb1",
   "metadata": {
    "scrolled": true
   },
   "outputs": [
    {
     "data": {
      "text/plain": [
       "tensor([[6.6031],\n",
       "        [3.5736],\n",
       "        [6.8726],\n",
       "        [7.4348],\n",
       "        [5.4744],\n",
       "        [3.7306],\n",
       "        [2.3536],\n",
       "        [2.4102],\n",
       "        [4.0893],\n",
       "        [4.1210],\n",
       "        [2.3707],\n",
       "        [3.4493],\n",
       "        [6.4225],\n",
       "        [4.2278],\n",
       "        [4.1464],\n",
       "        [2.9263],\n",
       "        [3.5122],\n",
       "        [3.9547],\n",
       "        [6.1241],\n",
       "        [5.7520],\n",
       "        [2.9488],\n",
       "        [3.4095],\n",
       "        [3.7934],\n",
       "        [3.6764],\n",
       "        [4.2163],\n",
       "        [3.5006],\n",
       "        [4.8437],\n",
       "        [2.9005],\n",
       "        [7.6740],\n",
       "        [5.0465],\n",
       "        [2.3207],\n",
       "        [2.4063],\n",
       "        [4.0054],\n",
       "        [3.0789],\n",
       "        [2.8223],\n",
       "        [5.8175],\n",
       "        [1.9547],\n",
       "        [3.4319],\n",
       "        [3.1417],\n",
       "        [3.4637],\n",
       "        [5.2059],\n",
       "        [5.1778],\n",
       "        [3.1707],\n",
       "        [2.5904],\n",
       "        [3.2303],\n",
       "        [5.4913],\n",
       "        [3.5961],\n",
       "        [4.7797],\n",
       "        [3.6348],\n",
       "        [6.4892],\n",
       "        [5.8984],\n",
       "        [5.2197],\n",
       "        [4.9565],\n",
       "        [2.4659],\n",
       "        [4.1166],\n",
       "        [1.3131],\n",
       "        [4.9667],\n",
       "        [3.1859],\n",
       "        [4.1158],\n",
       "        [2.9295],\n",
       "        [3.2787],\n",
       "        [5.2053],\n",
       "        [3.3691],\n",
       "        [5.1587],\n",
       "        [2.6865],\n",
       "        [5.1494],\n",
       "        [5.5821],\n",
       "        [4.7321],\n",
       "        [1.8722],\n",
       "        [1.6424],\n",
       "        [5.7336],\n",
       "        [3.3000],\n",
       "        [3.7905],\n",
       "        [3.8946],\n",
       "        [5.0658],\n",
       "        [3.3395],\n",
       "        [4.8320],\n",
       "        [4.6274],\n",
       "        [6.0982],\n",
       "        [3.5544],\n",
       "        [3.1486],\n",
       "        [3.0470],\n",
       "        [3.4681],\n",
       "        [4.8926],\n",
       "        [4.6832],\n",
       "        [4.2295],\n",
       "        [6.3554],\n",
       "        [2.3180],\n",
       "        [5.2071],\n",
       "        [2.4828],\n",
       "        [3.5599],\n",
       "        [2.7848],\n",
       "        [4.3611],\n",
       "        [4.8301],\n",
       "        [4.9613],\n",
       "        [5.1119],\n",
       "        [3.3990],\n",
       "        [5.1132],\n",
       "        [4.9780],\n",
       "        [7.9757]], grad_fn=<ReshapeAliasBackward0>)"
      ]
     },
     "execution_count": 42,
     "metadata": {},
     "output_type": "execute_result"
    }
   ],
   "source": [
    "loss_vit"
   ]
  },
  {
   "cell_type": "code",
   "execution_count": 47,
   "id": "6ce76153",
   "metadata": {
    "scrolled": false
   },
   "outputs": [
    {
     "data": {
      "application/javascript": [
       "/* Put everything inside the global mpl namespace */\n",
       "/* global mpl */\n",
       "window.mpl = {};\n",
       "\n",
       "mpl.get_websocket_type = function () {\n",
       "    if (typeof WebSocket !== 'undefined') {\n",
       "        return WebSocket;\n",
       "    } else if (typeof MozWebSocket !== 'undefined') {\n",
       "        return MozWebSocket;\n",
       "    } else {\n",
       "        alert(\n",
       "            'Your browser does not have WebSocket support. ' +\n",
       "                'Please try Chrome, Safari or Firefox ≥ 6. ' +\n",
       "                'Firefox 4 and 5 are also supported but you ' +\n",
       "                'have to enable WebSockets in about:config.'\n",
       "        );\n",
       "    }\n",
       "};\n",
       "\n",
       "mpl.figure = function (figure_id, websocket, ondownload, parent_element) {\n",
       "    this.id = figure_id;\n",
       "\n",
       "    this.ws = websocket;\n",
       "\n",
       "    this.supports_binary = this.ws.binaryType !== undefined;\n",
       "\n",
       "    if (!this.supports_binary) {\n",
       "        var warnings = document.getElementById('mpl-warnings');\n",
       "        if (warnings) {\n",
       "            warnings.style.display = 'block';\n",
       "            warnings.textContent =\n",
       "                'This browser does not support binary websocket messages. ' +\n",
       "                'Performance may be slow.';\n",
       "        }\n",
       "    }\n",
       "\n",
       "    this.imageObj = new Image();\n",
       "\n",
       "    this.context = undefined;\n",
       "    this.message = undefined;\n",
       "    this.canvas = undefined;\n",
       "    this.rubberband_canvas = undefined;\n",
       "    this.rubberband_context = undefined;\n",
       "    this.format_dropdown = undefined;\n",
       "\n",
       "    this.image_mode = 'full';\n",
       "\n",
       "    this.root = document.createElement('div');\n",
       "    this.root.setAttribute('style', 'display: inline-block');\n",
       "    this._root_extra_style(this.root);\n",
       "\n",
       "    parent_element.appendChild(this.root);\n",
       "\n",
       "    this._init_header(this);\n",
       "    this._init_canvas(this);\n",
       "    this._init_toolbar(this);\n",
       "\n",
       "    var fig = this;\n",
       "\n",
       "    this.waiting = false;\n",
       "\n",
       "    this.ws.onopen = function () {\n",
       "        fig.send_message('supports_binary', { value: fig.supports_binary });\n",
       "        fig.send_message('send_image_mode', {});\n",
       "        if (fig.ratio !== 1) {\n",
       "            fig.send_message('set_device_pixel_ratio', {\n",
       "                device_pixel_ratio: fig.ratio,\n",
       "            });\n",
       "        }\n",
       "        fig.send_message('refresh', {});\n",
       "    };\n",
       "\n",
       "    this.imageObj.onload = function () {\n",
       "        if (fig.image_mode === 'full') {\n",
       "            // Full images could contain transparency (where diff images\n",
       "            // almost always do), so we need to clear the canvas so that\n",
       "            // there is no ghosting.\n",
       "            fig.context.clearRect(0, 0, fig.canvas.width, fig.canvas.height);\n",
       "        }\n",
       "        fig.context.drawImage(fig.imageObj, 0, 0);\n",
       "    };\n",
       "\n",
       "    this.imageObj.onunload = function () {\n",
       "        fig.ws.close();\n",
       "    };\n",
       "\n",
       "    this.ws.onmessage = this._make_on_message_function(this);\n",
       "\n",
       "    this.ondownload = ondownload;\n",
       "};\n",
       "\n",
       "mpl.figure.prototype._init_header = function () {\n",
       "    var titlebar = document.createElement('div');\n",
       "    titlebar.classList =\n",
       "        'ui-dialog-titlebar ui-widget-header ui-corner-all ui-helper-clearfix';\n",
       "    var titletext = document.createElement('div');\n",
       "    titletext.classList = 'ui-dialog-title';\n",
       "    titletext.setAttribute(\n",
       "        'style',\n",
       "        'width: 100%; text-align: center; padding: 3px;'\n",
       "    );\n",
       "    titlebar.appendChild(titletext);\n",
       "    this.root.appendChild(titlebar);\n",
       "    this.header = titletext;\n",
       "};\n",
       "\n",
       "mpl.figure.prototype._canvas_extra_style = function (_canvas_div) {};\n",
       "\n",
       "mpl.figure.prototype._root_extra_style = function (_canvas_div) {};\n",
       "\n",
       "mpl.figure.prototype._init_canvas = function () {\n",
       "    var fig = this;\n",
       "\n",
       "    var canvas_div = (this.canvas_div = document.createElement('div'));\n",
       "    canvas_div.setAttribute(\n",
       "        'style',\n",
       "        'border: 1px solid #ddd;' +\n",
       "            'box-sizing: content-box;' +\n",
       "            'clear: both;' +\n",
       "            'min-height: 1px;' +\n",
       "            'min-width: 1px;' +\n",
       "            'outline: 0;' +\n",
       "            'overflow: hidden;' +\n",
       "            'position: relative;' +\n",
       "            'resize: both;'\n",
       "    );\n",
       "\n",
       "    function on_keyboard_event_closure(name) {\n",
       "        return function (event) {\n",
       "            return fig.key_event(event, name);\n",
       "        };\n",
       "    }\n",
       "\n",
       "    canvas_div.addEventListener(\n",
       "        'keydown',\n",
       "        on_keyboard_event_closure('key_press')\n",
       "    );\n",
       "    canvas_div.addEventListener(\n",
       "        'keyup',\n",
       "        on_keyboard_event_closure('key_release')\n",
       "    );\n",
       "\n",
       "    this._canvas_extra_style(canvas_div);\n",
       "    this.root.appendChild(canvas_div);\n",
       "\n",
       "    var canvas = (this.canvas = document.createElement('canvas'));\n",
       "    canvas.classList.add('mpl-canvas');\n",
       "    canvas.setAttribute('style', 'box-sizing: content-box;');\n",
       "\n",
       "    this.context = canvas.getContext('2d');\n",
       "\n",
       "    var backingStore =\n",
       "        this.context.backingStorePixelRatio ||\n",
       "        this.context.webkitBackingStorePixelRatio ||\n",
       "        this.context.mozBackingStorePixelRatio ||\n",
       "        this.context.msBackingStorePixelRatio ||\n",
       "        this.context.oBackingStorePixelRatio ||\n",
       "        this.context.backingStorePixelRatio ||\n",
       "        1;\n",
       "\n",
       "    this.ratio = (window.devicePixelRatio || 1) / backingStore;\n",
       "\n",
       "    var rubberband_canvas = (this.rubberband_canvas = document.createElement(\n",
       "        'canvas'\n",
       "    ));\n",
       "    rubberband_canvas.setAttribute(\n",
       "        'style',\n",
       "        'box-sizing: content-box; position: absolute; left: 0; top: 0; z-index: 1;'\n",
       "    );\n",
       "\n",
       "    // Apply a ponyfill if ResizeObserver is not implemented by browser.\n",
       "    if (this.ResizeObserver === undefined) {\n",
       "        if (window.ResizeObserver !== undefined) {\n",
       "            this.ResizeObserver = window.ResizeObserver;\n",
       "        } else {\n",
       "            var obs = _JSXTOOLS_RESIZE_OBSERVER({});\n",
       "            this.ResizeObserver = obs.ResizeObserver;\n",
       "        }\n",
       "    }\n",
       "\n",
       "    this.resizeObserverInstance = new this.ResizeObserver(function (entries) {\n",
       "        var nentries = entries.length;\n",
       "        for (var i = 0; i < nentries; i++) {\n",
       "            var entry = entries[i];\n",
       "            var width, height;\n",
       "            if (entry.contentBoxSize) {\n",
       "                if (entry.contentBoxSize instanceof Array) {\n",
       "                    // Chrome 84 implements new version of spec.\n",
       "                    width = entry.contentBoxSize[0].inlineSize;\n",
       "                    height = entry.contentBoxSize[0].blockSize;\n",
       "                } else {\n",
       "                    // Firefox implements old version of spec.\n",
       "                    width = entry.contentBoxSize.inlineSize;\n",
       "                    height = entry.contentBoxSize.blockSize;\n",
       "                }\n",
       "            } else {\n",
       "                // Chrome <84 implements even older version of spec.\n",
       "                width = entry.contentRect.width;\n",
       "                height = entry.contentRect.height;\n",
       "            }\n",
       "\n",
       "            // Keep the size of the canvas and rubber band canvas in sync with\n",
       "            // the canvas container.\n",
       "            if (entry.devicePixelContentBoxSize) {\n",
       "                // Chrome 84 implements new version of spec.\n",
       "                canvas.setAttribute(\n",
       "                    'width',\n",
       "                    entry.devicePixelContentBoxSize[0].inlineSize\n",
       "                );\n",
       "                canvas.setAttribute(\n",
       "                    'height',\n",
       "                    entry.devicePixelContentBoxSize[0].blockSize\n",
       "                );\n",
       "            } else {\n",
       "                canvas.setAttribute('width', width * fig.ratio);\n",
       "                canvas.setAttribute('height', height * fig.ratio);\n",
       "            }\n",
       "            canvas.setAttribute(\n",
       "                'style',\n",
       "                'width: ' + width + 'px; height: ' + height + 'px;'\n",
       "            );\n",
       "\n",
       "            rubberband_canvas.setAttribute('width', width);\n",
       "            rubberband_canvas.setAttribute('height', height);\n",
       "\n",
       "            // And update the size in Python. We ignore the initial 0/0 size\n",
       "            // that occurs as the element is placed into the DOM, which should\n",
       "            // otherwise not happen due to the minimum size styling.\n",
       "            if (fig.ws.readyState == 1 && width != 0 && height != 0) {\n",
       "                fig.request_resize(width, height);\n",
       "            }\n",
       "        }\n",
       "    });\n",
       "    this.resizeObserverInstance.observe(canvas_div);\n",
       "\n",
       "    function on_mouse_event_closure(name) {\n",
       "        return function (event) {\n",
       "            return fig.mouse_event(event, name);\n",
       "        };\n",
       "    }\n",
       "\n",
       "    rubberband_canvas.addEventListener(\n",
       "        'mousedown',\n",
       "        on_mouse_event_closure('button_press')\n",
       "    );\n",
       "    rubberband_canvas.addEventListener(\n",
       "        'mouseup',\n",
       "        on_mouse_event_closure('button_release')\n",
       "    );\n",
       "    rubberband_canvas.addEventListener(\n",
       "        'dblclick',\n",
       "        on_mouse_event_closure('dblclick')\n",
       "    );\n",
       "    // Throttle sequential mouse events to 1 every 20ms.\n",
       "    rubberband_canvas.addEventListener(\n",
       "        'mousemove',\n",
       "        on_mouse_event_closure('motion_notify')\n",
       "    );\n",
       "\n",
       "    rubberband_canvas.addEventListener(\n",
       "        'mouseenter',\n",
       "        on_mouse_event_closure('figure_enter')\n",
       "    );\n",
       "    rubberband_canvas.addEventListener(\n",
       "        'mouseleave',\n",
       "        on_mouse_event_closure('figure_leave')\n",
       "    );\n",
       "\n",
       "    canvas_div.addEventListener('wheel', function (event) {\n",
       "        if (event.deltaY < 0) {\n",
       "            event.step = 1;\n",
       "        } else {\n",
       "            event.step = -1;\n",
       "        }\n",
       "        on_mouse_event_closure('scroll')(event);\n",
       "    });\n",
       "\n",
       "    canvas_div.appendChild(canvas);\n",
       "    canvas_div.appendChild(rubberband_canvas);\n",
       "\n",
       "    this.rubberband_context = rubberband_canvas.getContext('2d');\n",
       "    this.rubberband_context.strokeStyle = '#000000';\n",
       "\n",
       "    this._resize_canvas = function (width, height, forward) {\n",
       "        if (forward) {\n",
       "            canvas_div.style.width = width + 'px';\n",
       "            canvas_div.style.height = height + 'px';\n",
       "        }\n",
       "    };\n",
       "\n",
       "    // Disable right mouse context menu.\n",
       "    this.rubberband_canvas.addEventListener('contextmenu', function (_e) {\n",
       "        event.preventDefault();\n",
       "        return false;\n",
       "    });\n",
       "\n",
       "    function set_focus() {\n",
       "        canvas.focus();\n",
       "        canvas_div.focus();\n",
       "    }\n",
       "\n",
       "    window.setTimeout(set_focus, 100);\n",
       "};\n",
       "\n",
       "mpl.figure.prototype._init_toolbar = function () {\n",
       "    var fig = this;\n",
       "\n",
       "    var toolbar = document.createElement('div');\n",
       "    toolbar.classList = 'mpl-toolbar';\n",
       "    this.root.appendChild(toolbar);\n",
       "\n",
       "    function on_click_closure(name) {\n",
       "        return function (_event) {\n",
       "            return fig.toolbar_button_onclick(name);\n",
       "        };\n",
       "    }\n",
       "\n",
       "    function on_mouseover_closure(tooltip) {\n",
       "        return function (event) {\n",
       "            if (!event.currentTarget.disabled) {\n",
       "                return fig.toolbar_button_onmouseover(tooltip);\n",
       "            }\n",
       "        };\n",
       "    }\n",
       "\n",
       "    fig.buttons = {};\n",
       "    var buttonGroup = document.createElement('div');\n",
       "    buttonGroup.classList = 'mpl-button-group';\n",
       "    for (var toolbar_ind in mpl.toolbar_items) {\n",
       "        var name = mpl.toolbar_items[toolbar_ind][0];\n",
       "        var tooltip = mpl.toolbar_items[toolbar_ind][1];\n",
       "        var image = mpl.toolbar_items[toolbar_ind][2];\n",
       "        var method_name = mpl.toolbar_items[toolbar_ind][3];\n",
       "\n",
       "        if (!name) {\n",
       "            /* Instead of a spacer, we start a new button group. */\n",
       "            if (buttonGroup.hasChildNodes()) {\n",
       "                toolbar.appendChild(buttonGroup);\n",
       "            }\n",
       "            buttonGroup = document.createElement('div');\n",
       "            buttonGroup.classList = 'mpl-button-group';\n",
       "            continue;\n",
       "        }\n",
       "\n",
       "        var button = (fig.buttons[name] = document.createElement('button'));\n",
       "        button.classList = 'mpl-widget';\n",
       "        button.setAttribute('role', 'button');\n",
       "        button.setAttribute('aria-disabled', 'false');\n",
       "        button.addEventListener('click', on_click_closure(method_name));\n",
       "        button.addEventListener('mouseover', on_mouseover_closure(tooltip));\n",
       "\n",
       "        var icon_img = document.createElement('img');\n",
       "        icon_img.src = '_images/' + image + '.png';\n",
       "        icon_img.srcset = '_images/' + image + '_large.png 2x';\n",
       "        icon_img.alt = tooltip;\n",
       "        button.appendChild(icon_img);\n",
       "\n",
       "        buttonGroup.appendChild(button);\n",
       "    }\n",
       "\n",
       "    if (buttonGroup.hasChildNodes()) {\n",
       "        toolbar.appendChild(buttonGroup);\n",
       "    }\n",
       "\n",
       "    var fmt_picker = document.createElement('select');\n",
       "    fmt_picker.classList = 'mpl-widget';\n",
       "    toolbar.appendChild(fmt_picker);\n",
       "    this.format_dropdown = fmt_picker;\n",
       "\n",
       "    for (var ind in mpl.extensions) {\n",
       "        var fmt = mpl.extensions[ind];\n",
       "        var option = document.createElement('option');\n",
       "        option.selected = fmt === mpl.default_extension;\n",
       "        option.innerHTML = fmt;\n",
       "        fmt_picker.appendChild(option);\n",
       "    }\n",
       "\n",
       "    var status_bar = document.createElement('span');\n",
       "    status_bar.classList = 'mpl-message';\n",
       "    toolbar.appendChild(status_bar);\n",
       "    this.message = status_bar;\n",
       "};\n",
       "\n",
       "mpl.figure.prototype.request_resize = function (x_pixels, y_pixels) {\n",
       "    // Request matplotlib to resize the figure. Matplotlib will then trigger a resize in the client,\n",
       "    // which will in turn request a refresh of the image.\n",
       "    this.send_message('resize', { width: x_pixels, height: y_pixels });\n",
       "};\n",
       "\n",
       "mpl.figure.prototype.send_message = function (type, properties) {\n",
       "    properties['type'] = type;\n",
       "    properties['figure_id'] = this.id;\n",
       "    this.ws.send(JSON.stringify(properties));\n",
       "};\n",
       "\n",
       "mpl.figure.prototype.send_draw_message = function () {\n",
       "    if (!this.waiting) {\n",
       "        this.waiting = true;\n",
       "        this.ws.send(JSON.stringify({ type: 'draw', figure_id: this.id }));\n",
       "    }\n",
       "};\n",
       "\n",
       "mpl.figure.prototype.handle_save = function (fig, _msg) {\n",
       "    var format_dropdown = fig.format_dropdown;\n",
       "    var format = format_dropdown.options[format_dropdown.selectedIndex].value;\n",
       "    fig.ondownload(fig, format);\n",
       "};\n",
       "\n",
       "mpl.figure.prototype.handle_resize = function (fig, msg) {\n",
       "    var size = msg['size'];\n",
       "    if (size[0] !== fig.canvas.width || size[1] !== fig.canvas.height) {\n",
       "        fig._resize_canvas(size[0], size[1], msg['forward']);\n",
       "        fig.send_message('refresh', {});\n",
       "    }\n",
       "};\n",
       "\n",
       "mpl.figure.prototype.handle_rubberband = function (fig, msg) {\n",
       "    var x0 = msg['x0'] / fig.ratio;\n",
       "    var y0 = (fig.canvas.height - msg['y0']) / fig.ratio;\n",
       "    var x1 = msg['x1'] / fig.ratio;\n",
       "    var y1 = (fig.canvas.height - msg['y1']) / fig.ratio;\n",
       "    x0 = Math.floor(x0) + 0.5;\n",
       "    y0 = Math.floor(y0) + 0.5;\n",
       "    x1 = Math.floor(x1) + 0.5;\n",
       "    y1 = Math.floor(y1) + 0.5;\n",
       "    var min_x = Math.min(x0, x1);\n",
       "    var min_y = Math.min(y0, y1);\n",
       "    var width = Math.abs(x1 - x0);\n",
       "    var height = Math.abs(y1 - y0);\n",
       "\n",
       "    fig.rubberband_context.clearRect(\n",
       "        0,\n",
       "        0,\n",
       "        fig.canvas.width / fig.ratio,\n",
       "        fig.canvas.height / fig.ratio\n",
       "    );\n",
       "\n",
       "    fig.rubberband_context.strokeRect(min_x, min_y, width, height);\n",
       "};\n",
       "\n",
       "mpl.figure.prototype.handle_figure_label = function (fig, msg) {\n",
       "    // Updates the figure title.\n",
       "    fig.header.textContent = msg['label'];\n",
       "};\n",
       "\n",
       "mpl.figure.prototype.handle_cursor = function (fig, msg) {\n",
       "    fig.rubberband_canvas.style.cursor = msg['cursor'];\n",
       "};\n",
       "\n",
       "mpl.figure.prototype.handle_message = function (fig, msg) {\n",
       "    fig.message.textContent = msg['message'];\n",
       "};\n",
       "\n",
       "mpl.figure.prototype.handle_draw = function (fig, _msg) {\n",
       "    // Request the server to send over a new figure.\n",
       "    fig.send_draw_message();\n",
       "};\n",
       "\n",
       "mpl.figure.prototype.handle_image_mode = function (fig, msg) {\n",
       "    fig.image_mode = msg['mode'];\n",
       "};\n",
       "\n",
       "mpl.figure.prototype.handle_history_buttons = function (fig, msg) {\n",
       "    for (var key in msg) {\n",
       "        if (!(key in fig.buttons)) {\n",
       "            continue;\n",
       "        }\n",
       "        fig.buttons[key].disabled = !msg[key];\n",
       "        fig.buttons[key].setAttribute('aria-disabled', !msg[key]);\n",
       "    }\n",
       "};\n",
       "\n",
       "mpl.figure.prototype.handle_navigate_mode = function (fig, msg) {\n",
       "    if (msg['mode'] === 'PAN') {\n",
       "        fig.buttons['Pan'].classList.add('active');\n",
       "        fig.buttons['Zoom'].classList.remove('active');\n",
       "    } else if (msg['mode'] === 'ZOOM') {\n",
       "        fig.buttons['Pan'].classList.remove('active');\n",
       "        fig.buttons['Zoom'].classList.add('active');\n",
       "    } else {\n",
       "        fig.buttons['Pan'].classList.remove('active');\n",
       "        fig.buttons['Zoom'].classList.remove('active');\n",
       "    }\n",
       "};\n",
       "\n",
       "mpl.figure.prototype.updated_canvas_event = function () {\n",
       "    // Called whenever the canvas gets updated.\n",
       "    this.send_message('ack', {});\n",
       "};\n",
       "\n",
       "// A function to construct a web socket function for onmessage handling.\n",
       "// Called in the figure constructor.\n",
       "mpl.figure.prototype._make_on_message_function = function (fig) {\n",
       "    return function socket_on_message(evt) {\n",
       "        if (evt.data instanceof Blob) {\n",
       "            var img = evt.data;\n",
       "            if (img.type !== 'image/png') {\n",
       "                /* FIXME: We get \"Resource interpreted as Image but\n",
       "                 * transferred with MIME type text/plain:\" errors on\n",
       "                 * Chrome.  But how to set the MIME type?  It doesn't seem\n",
       "                 * to be part of the websocket stream */\n",
       "                img.type = 'image/png';\n",
       "            }\n",
       "\n",
       "            /* Free the memory for the previous frames */\n",
       "            if (fig.imageObj.src) {\n",
       "                (window.URL || window.webkitURL).revokeObjectURL(\n",
       "                    fig.imageObj.src\n",
       "                );\n",
       "            }\n",
       "\n",
       "            fig.imageObj.src = (window.URL || window.webkitURL).createObjectURL(\n",
       "                img\n",
       "            );\n",
       "            fig.updated_canvas_event();\n",
       "            fig.waiting = false;\n",
       "            return;\n",
       "        } else if (\n",
       "            typeof evt.data === 'string' &&\n",
       "            evt.data.slice(0, 21) === 'data:image/png;base64'\n",
       "        ) {\n",
       "            fig.imageObj.src = evt.data;\n",
       "            fig.updated_canvas_event();\n",
       "            fig.waiting = false;\n",
       "            return;\n",
       "        }\n",
       "\n",
       "        var msg = JSON.parse(evt.data);\n",
       "        var msg_type = msg['type'];\n",
       "\n",
       "        // Call the  \"handle_{type}\" callback, which takes\n",
       "        // the figure and JSON message as its only arguments.\n",
       "        try {\n",
       "            var callback = fig['handle_' + msg_type];\n",
       "        } catch (e) {\n",
       "            console.log(\n",
       "                \"No handler for the '\" + msg_type + \"' message type: \",\n",
       "                msg\n",
       "            );\n",
       "            return;\n",
       "        }\n",
       "\n",
       "        if (callback) {\n",
       "            try {\n",
       "                // console.log(\"Handling '\" + msg_type + \"' message: \", msg);\n",
       "                callback(fig, msg);\n",
       "            } catch (e) {\n",
       "                console.log(\n",
       "                    \"Exception inside the 'handler_\" + msg_type + \"' callback:\",\n",
       "                    e,\n",
       "                    e.stack,\n",
       "                    msg\n",
       "                );\n",
       "            }\n",
       "        }\n",
       "    };\n",
       "};\n",
       "\n",
       "// from https://stackoverflow.com/questions/1114465/getting-mouse-location-in-canvas\n",
       "mpl.findpos = function (e) {\n",
       "    //this section is from http://www.quirksmode.org/js/events_properties.html\n",
       "    var targ;\n",
       "    if (!e) {\n",
       "        e = window.event;\n",
       "    }\n",
       "    if (e.target) {\n",
       "        targ = e.target;\n",
       "    } else if (e.srcElement) {\n",
       "        targ = e.srcElement;\n",
       "    }\n",
       "    if (targ.nodeType === 3) {\n",
       "        // defeat Safari bug\n",
       "        targ = targ.parentNode;\n",
       "    }\n",
       "\n",
       "    // pageX,Y are the mouse positions relative to the document\n",
       "    var boundingRect = targ.getBoundingClientRect();\n",
       "    var x = e.pageX - (boundingRect.left + document.body.scrollLeft);\n",
       "    var y = e.pageY - (boundingRect.top + document.body.scrollTop);\n",
       "\n",
       "    return { x: x, y: y };\n",
       "};\n",
       "\n",
       "/*\n",
       " * return a copy of an object with only non-object keys\n",
       " * we need this to avoid circular references\n",
       " * https://stackoverflow.com/a/24161582/3208463\n",
       " */\n",
       "function simpleKeys(original) {\n",
       "    return Object.keys(original).reduce(function (obj, key) {\n",
       "        if (typeof original[key] !== 'object') {\n",
       "            obj[key] = original[key];\n",
       "        }\n",
       "        return obj;\n",
       "    }, {});\n",
       "}\n",
       "\n",
       "mpl.figure.prototype.mouse_event = function (event, name) {\n",
       "    var canvas_pos = mpl.findpos(event);\n",
       "\n",
       "    if (name === 'button_press') {\n",
       "        this.canvas.focus();\n",
       "        this.canvas_div.focus();\n",
       "    }\n",
       "\n",
       "    var x = canvas_pos.x * this.ratio;\n",
       "    var y = canvas_pos.y * this.ratio;\n",
       "\n",
       "    this.send_message(name, {\n",
       "        x: x,\n",
       "        y: y,\n",
       "        button: event.button,\n",
       "        step: event.step,\n",
       "        guiEvent: simpleKeys(event),\n",
       "    });\n",
       "\n",
       "    /* This prevents the web browser from automatically changing to\n",
       "     * the text insertion cursor when the button is pressed.  We want\n",
       "     * to control all of the cursor setting manually through the\n",
       "     * 'cursor' event from matplotlib */\n",
       "    event.preventDefault();\n",
       "    return false;\n",
       "};\n",
       "\n",
       "mpl.figure.prototype._key_event_extra = function (_event, _name) {\n",
       "    // Handle any extra behaviour associated with a key event\n",
       "};\n",
       "\n",
       "mpl.figure.prototype.key_event = function (event, name) {\n",
       "    // Prevent repeat events\n",
       "    if (name === 'key_press') {\n",
       "        if (event.key === this._key) {\n",
       "            return;\n",
       "        } else {\n",
       "            this._key = event.key;\n",
       "        }\n",
       "    }\n",
       "    if (name === 'key_release') {\n",
       "        this._key = null;\n",
       "    }\n",
       "\n",
       "    var value = '';\n",
       "    if (event.ctrlKey && event.key !== 'Control') {\n",
       "        value += 'ctrl+';\n",
       "    }\n",
       "    else if (event.altKey && event.key !== 'Alt') {\n",
       "        value += 'alt+';\n",
       "    }\n",
       "    else if (event.shiftKey && event.key !== 'Shift') {\n",
       "        value += 'shift+';\n",
       "    }\n",
       "\n",
       "    value += 'k' + event.key;\n",
       "\n",
       "    this._key_event_extra(event, name);\n",
       "\n",
       "    this.send_message(name, { key: value, guiEvent: simpleKeys(event) });\n",
       "    return false;\n",
       "};\n",
       "\n",
       "mpl.figure.prototype.toolbar_button_onclick = function (name) {\n",
       "    if (name === 'download') {\n",
       "        this.handle_save(this, null);\n",
       "    } else {\n",
       "        this.send_message('toolbar_button', { name: name });\n",
       "    }\n",
       "};\n",
       "\n",
       "mpl.figure.prototype.toolbar_button_onmouseover = function (tooltip) {\n",
       "    this.message.textContent = tooltip;\n",
       "};\n",
       "\n",
       "///////////////// REMAINING CONTENT GENERATED BY embed_js.py /////////////////\n",
       "// prettier-ignore\n",
       "var _JSXTOOLS_RESIZE_OBSERVER=function(A){var t,i=new WeakMap,n=new WeakMap,a=new WeakMap,r=new WeakMap,o=new Set;function s(e){if(!(this instanceof s))throw new TypeError(\"Constructor requires 'new' operator\");i.set(this,e)}function h(){throw new TypeError(\"Function is not a constructor\")}function c(e,t,i,n){e=0 in arguments?Number(arguments[0]):0,t=1 in arguments?Number(arguments[1]):0,i=2 in arguments?Number(arguments[2]):0,n=3 in arguments?Number(arguments[3]):0,this.right=(this.x=this.left=e)+(this.width=i),this.bottom=(this.y=this.top=t)+(this.height=n),Object.freeze(this)}function d(){t=requestAnimationFrame(d);var s=new WeakMap,p=new Set;o.forEach((function(t){r.get(t).forEach((function(i){var r=t instanceof window.SVGElement,o=a.get(t),d=r?0:parseFloat(o.paddingTop),f=r?0:parseFloat(o.paddingRight),l=r?0:parseFloat(o.paddingBottom),u=r?0:parseFloat(o.paddingLeft),g=r?0:parseFloat(o.borderTopWidth),m=r?0:parseFloat(o.borderRightWidth),w=r?0:parseFloat(o.borderBottomWidth),b=u+f,F=d+l,v=(r?0:parseFloat(o.borderLeftWidth))+m,W=g+w,y=r?0:t.offsetHeight-W-t.clientHeight,E=r?0:t.offsetWidth-v-t.clientWidth,R=b+v,z=F+W,M=r?t.width:parseFloat(o.width)-R-E,O=r?t.height:parseFloat(o.height)-z-y;if(n.has(t)){var k=n.get(t);if(k[0]===M&&k[1]===O)return}n.set(t,[M,O]);var S=Object.create(h.prototype);S.target=t,S.contentRect=new c(u,d,M,O),s.has(i)||(s.set(i,[]),p.add(i)),s.get(i).push(S)}))})),p.forEach((function(e){i.get(e).call(e,s.get(e),e)}))}return s.prototype.observe=function(i){if(i instanceof window.Element){r.has(i)||(r.set(i,new Set),o.add(i),a.set(i,window.getComputedStyle(i)));var n=r.get(i);n.has(this)||n.add(this),cancelAnimationFrame(t),t=requestAnimationFrame(d)}},s.prototype.unobserve=function(i){if(i instanceof window.Element&&r.has(i)){var n=r.get(i);n.has(this)&&(n.delete(this),n.size||(r.delete(i),o.delete(i))),n.size||r.delete(i),o.size||cancelAnimationFrame(t)}},A.DOMRectReadOnly=c,A.ResizeObserver=s,A.ResizeObserverEntry=h,A}; // eslint-disable-line\n",
       "mpl.toolbar_items = [[\"Home\", \"Reset original view\", \"fa fa-home\", \"home\"], [\"Back\", \"Back to previous view\", \"fa fa-arrow-left\", \"back\"], [\"Forward\", \"Forward to next view\", \"fa fa-arrow-right\", \"forward\"], [\"\", \"\", \"\", \"\"], [\"Pan\", \"Left button pans, Right button zooms\\nx/y fixes axis, CTRL fixes aspect\", \"fa fa-arrows\", \"pan\"], [\"Zoom\", \"Zoom to rectangle\\nx/y fixes axis\", \"fa fa-square-o\", \"zoom\"], [\"\", \"\", \"\", \"\"], [\"Download\", \"Download plot\", \"fa fa-floppy-o\", \"download\"]];\n",
       "\n",
       "mpl.extensions = [\"eps\", \"jpeg\", \"pgf\", \"pdf\", \"png\", \"ps\", \"raw\", \"svg\", \"tif\", \"webp\"];\n",
       "\n",
       "mpl.default_extension = \"png\";/* global mpl */\n",
       "\n",
       "var comm_websocket_adapter = function (comm) {\n",
       "    // Create a \"websocket\"-like object which calls the given IPython comm\n",
       "    // object with the appropriate methods. Currently this is a non binary\n",
       "    // socket, so there is still some room for performance tuning.\n",
       "    var ws = {};\n",
       "\n",
       "    ws.binaryType = comm.kernel.ws.binaryType;\n",
       "    ws.readyState = comm.kernel.ws.readyState;\n",
       "    function updateReadyState(_event) {\n",
       "        if (comm.kernel.ws) {\n",
       "            ws.readyState = comm.kernel.ws.readyState;\n",
       "        } else {\n",
       "            ws.readyState = 3; // Closed state.\n",
       "        }\n",
       "    }\n",
       "    comm.kernel.ws.addEventListener('open', updateReadyState);\n",
       "    comm.kernel.ws.addEventListener('close', updateReadyState);\n",
       "    comm.kernel.ws.addEventListener('error', updateReadyState);\n",
       "\n",
       "    ws.close = function () {\n",
       "        comm.close();\n",
       "    };\n",
       "    ws.send = function (m) {\n",
       "        //console.log('sending', m);\n",
       "        comm.send(m);\n",
       "    };\n",
       "    // Register the callback with on_msg.\n",
       "    comm.on_msg(function (msg) {\n",
       "        //console.log('receiving', msg['content']['data'], msg);\n",
       "        var data = msg['content']['data'];\n",
       "        if (data['blob'] !== undefined) {\n",
       "            data = {\n",
       "                data: new Blob(msg['buffers'], { type: data['blob'] }),\n",
       "            };\n",
       "        }\n",
       "        // Pass the mpl event to the overridden (by mpl) onmessage function.\n",
       "        ws.onmessage(data);\n",
       "    });\n",
       "    return ws;\n",
       "};\n",
       "\n",
       "mpl.mpl_figure_comm = function (comm, msg) {\n",
       "    // This is the function which gets called when the mpl process\n",
       "    // starts-up an IPython Comm through the \"matplotlib\" channel.\n",
       "\n",
       "    var id = msg.content.data.id;\n",
       "    // Get hold of the div created by the display call when the Comm\n",
       "    // socket was opened in Python.\n",
       "    var element = document.getElementById(id);\n",
       "    var ws_proxy = comm_websocket_adapter(comm);\n",
       "\n",
       "    function ondownload(figure, _format) {\n",
       "        window.open(figure.canvas.toDataURL());\n",
       "    }\n",
       "\n",
       "    var fig = new mpl.figure(id, ws_proxy, ondownload, element);\n",
       "\n",
       "    // Call onopen now - mpl needs it, as it is assuming we've passed it a real\n",
       "    // web socket which is closed, not our websocket->open comm proxy.\n",
       "    ws_proxy.onopen();\n",
       "\n",
       "    fig.parent_element = element;\n",
       "    fig.cell_info = mpl.find_output_cell(\"<div id='\" + id + \"'></div>\");\n",
       "    if (!fig.cell_info) {\n",
       "        console.error('Failed to find cell for figure', id, fig);\n",
       "        return;\n",
       "    }\n",
       "    fig.cell_info[0].output_area.element.on(\n",
       "        'cleared',\n",
       "        { fig: fig },\n",
       "        fig._remove_fig_handler\n",
       "    );\n",
       "};\n",
       "\n",
       "mpl.figure.prototype.handle_close = function (fig, msg) {\n",
       "    var width = fig.canvas.width / fig.ratio;\n",
       "    fig.cell_info[0].output_area.element.off(\n",
       "        'cleared',\n",
       "        fig._remove_fig_handler\n",
       "    );\n",
       "    fig.resizeObserverInstance.unobserve(fig.canvas_div);\n",
       "\n",
       "    // Update the output cell to use the data from the current canvas.\n",
       "    fig.push_to_output();\n",
       "    var dataURL = fig.canvas.toDataURL();\n",
       "    // Re-enable the keyboard manager in IPython - without this line, in FF,\n",
       "    // the notebook keyboard shortcuts fail.\n",
       "    IPython.keyboard_manager.enable();\n",
       "    fig.parent_element.innerHTML =\n",
       "        '<img src=\"' + dataURL + '\" width=\"' + width + '\">';\n",
       "    fig.close_ws(fig, msg);\n",
       "};\n",
       "\n",
       "mpl.figure.prototype.close_ws = function (fig, msg) {\n",
       "    fig.send_message('closing', msg);\n",
       "    // fig.ws.close()\n",
       "};\n",
       "\n",
       "mpl.figure.prototype.push_to_output = function (_remove_interactive) {\n",
       "    // Turn the data on the canvas into data in the output cell.\n",
       "    var width = this.canvas.width / this.ratio;\n",
       "    var dataURL = this.canvas.toDataURL();\n",
       "    this.cell_info[1]['text/html'] =\n",
       "        '<img src=\"' + dataURL + '\" width=\"' + width + '\">';\n",
       "};\n",
       "\n",
       "mpl.figure.prototype.updated_canvas_event = function () {\n",
       "    // Tell IPython that the notebook contents must change.\n",
       "    IPython.notebook.set_dirty(true);\n",
       "    this.send_message('ack', {});\n",
       "    var fig = this;\n",
       "    // Wait a second, then push the new image to the DOM so\n",
       "    // that it is saved nicely (might be nice to debounce this).\n",
       "    setTimeout(function () {\n",
       "        fig.push_to_output();\n",
       "    }, 1000);\n",
       "};\n",
       "\n",
       "mpl.figure.prototype._init_toolbar = function () {\n",
       "    var fig = this;\n",
       "\n",
       "    var toolbar = document.createElement('div');\n",
       "    toolbar.classList = 'btn-toolbar';\n",
       "    this.root.appendChild(toolbar);\n",
       "\n",
       "    function on_click_closure(name) {\n",
       "        return function (_event) {\n",
       "            return fig.toolbar_button_onclick(name);\n",
       "        };\n",
       "    }\n",
       "\n",
       "    function on_mouseover_closure(tooltip) {\n",
       "        return function (event) {\n",
       "            if (!event.currentTarget.disabled) {\n",
       "                return fig.toolbar_button_onmouseover(tooltip);\n",
       "            }\n",
       "        };\n",
       "    }\n",
       "\n",
       "    fig.buttons = {};\n",
       "    var buttonGroup = document.createElement('div');\n",
       "    buttonGroup.classList = 'btn-group';\n",
       "    var button;\n",
       "    for (var toolbar_ind in mpl.toolbar_items) {\n",
       "        var name = mpl.toolbar_items[toolbar_ind][0];\n",
       "        var tooltip = mpl.toolbar_items[toolbar_ind][1];\n",
       "        var image = mpl.toolbar_items[toolbar_ind][2];\n",
       "        var method_name = mpl.toolbar_items[toolbar_ind][3];\n",
       "\n",
       "        if (!name) {\n",
       "            /* Instead of a spacer, we start a new button group. */\n",
       "            if (buttonGroup.hasChildNodes()) {\n",
       "                toolbar.appendChild(buttonGroup);\n",
       "            }\n",
       "            buttonGroup = document.createElement('div');\n",
       "            buttonGroup.classList = 'btn-group';\n",
       "            continue;\n",
       "        }\n",
       "\n",
       "        button = fig.buttons[name] = document.createElement('button');\n",
       "        button.classList = 'btn btn-default';\n",
       "        button.href = '#';\n",
       "        button.title = name;\n",
       "        button.innerHTML = '<i class=\"fa ' + image + ' fa-lg\"></i>';\n",
       "        button.addEventListener('click', on_click_closure(method_name));\n",
       "        button.addEventListener('mouseover', on_mouseover_closure(tooltip));\n",
       "        buttonGroup.appendChild(button);\n",
       "    }\n",
       "\n",
       "    if (buttonGroup.hasChildNodes()) {\n",
       "        toolbar.appendChild(buttonGroup);\n",
       "    }\n",
       "\n",
       "    // Add the status bar.\n",
       "    var status_bar = document.createElement('span');\n",
       "    status_bar.classList = 'mpl-message pull-right';\n",
       "    toolbar.appendChild(status_bar);\n",
       "    this.message = status_bar;\n",
       "\n",
       "    // Add the close button to the window.\n",
       "    var buttongrp = document.createElement('div');\n",
       "    buttongrp.classList = 'btn-group inline pull-right';\n",
       "    button = document.createElement('button');\n",
       "    button.classList = 'btn btn-mini btn-primary';\n",
       "    button.href = '#';\n",
       "    button.title = 'Stop Interaction';\n",
       "    button.innerHTML = '<i class=\"fa fa-power-off icon-remove icon-large\"></i>';\n",
       "    button.addEventListener('click', function (_evt) {\n",
       "        fig.handle_close(fig, {});\n",
       "    });\n",
       "    button.addEventListener(\n",
       "        'mouseover',\n",
       "        on_mouseover_closure('Stop Interaction')\n",
       "    );\n",
       "    buttongrp.appendChild(button);\n",
       "    var titlebar = this.root.querySelector('.ui-dialog-titlebar');\n",
       "    titlebar.insertBefore(buttongrp, titlebar.firstChild);\n",
       "};\n",
       "\n",
       "mpl.figure.prototype._remove_fig_handler = function (event) {\n",
       "    var fig = event.data.fig;\n",
       "    if (event.target !== this) {\n",
       "        // Ignore bubbled events from children.\n",
       "        return;\n",
       "    }\n",
       "    fig.close_ws(fig, {});\n",
       "};\n",
       "\n",
       "mpl.figure.prototype._root_extra_style = function (el) {\n",
       "    el.style.boxSizing = 'content-box'; // override notebook setting of border-box.\n",
       "};\n",
       "\n",
       "mpl.figure.prototype._canvas_extra_style = function (el) {\n",
       "    // this is important to make the div 'focusable\n",
       "    el.setAttribute('tabindex', 0);\n",
       "    // reach out to IPython and tell the keyboard manager to turn it's self\n",
       "    // off when our div gets focus\n",
       "\n",
       "    // location in version 3\n",
       "    if (IPython.notebook.keyboard_manager) {\n",
       "        IPython.notebook.keyboard_manager.register_events(el);\n",
       "    } else {\n",
       "        // location in version 2\n",
       "        IPython.keyboard_manager.register_events(el);\n",
       "    }\n",
       "};\n",
       "\n",
       "mpl.figure.prototype._key_event_extra = function (event, _name) {\n",
       "    // Check for shift+enter\n",
       "    if (event.shiftKey && event.which === 13) {\n",
       "        this.canvas_div.blur();\n",
       "        // select the cell after this one\n",
       "        var index = IPython.notebook.find_cell_index(this.cell_info[0]);\n",
       "        IPython.notebook.select(index + 1);\n",
       "    }\n",
       "};\n",
       "\n",
       "mpl.figure.prototype.handle_save = function (fig, _msg) {\n",
       "    fig.ondownload(fig, null);\n",
       "};\n",
       "\n",
       "mpl.find_output_cell = function (html_output) {\n",
       "    // Return the cell and output element which can be found *uniquely* in the notebook.\n",
       "    // Note - this is a bit hacky, but it is done because the \"notebook_saving.Notebook\"\n",
       "    // IPython event is triggered only after the cells have been serialised, which for\n",
       "    // our purposes (turning an active figure into a static one), is too late.\n",
       "    var cells = IPython.notebook.get_cells();\n",
       "    var ncells = cells.length;\n",
       "    for (var i = 0; i < ncells; i++) {\n",
       "        var cell = cells[i];\n",
       "        if (cell.cell_type === 'code') {\n",
       "            for (var j = 0; j < cell.output_area.outputs.length; j++) {\n",
       "                var data = cell.output_area.outputs[j];\n",
       "                if (data.data) {\n",
       "                    // IPython >= 3 moved mimebundle to data attribute of output\n",
       "                    data = data.data;\n",
       "                }\n",
       "                if (data['text/html'] === html_output) {\n",
       "                    return [cell, data, j];\n",
       "                }\n",
       "            }\n",
       "        }\n",
       "    }\n",
       "};\n",
       "\n",
       "// Register the function which deals with the matplotlib target/channel.\n",
       "// The kernel may be null if the page has been refreshed.\n",
       "if (IPython.notebook.kernel !== null) {\n",
       "    IPython.notebook.kernel.comm_manager.register_target(\n",
       "        'matplotlib',\n",
       "        mpl.mpl_figure_comm\n",
       "    );\n",
       "}\n"
      ],
      "text/plain": [
       "<IPython.core.display.Javascript object>"
      ]
     },
     "metadata": {},
     "output_type": "display_data"
    },
    {
     "data": {
      "text/html": [
       "<img src=\"data:image/png;base64,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\" width=\"900\">"
      ],
      "text/plain": [
       "<IPython.core.display.HTML object>"
      ]
     },
     "metadata": {},
     "output_type": "display_data"
    },
    {
     "data": {
      "text/plain": [
       "Text(0.5, 1.0, 'ViT prediction (loss: 3.5739998817443848)')"
      ]
     },
     "execution_count": 47,
     "metadata": {},
     "output_type": "execute_result"
    }
   ],
   "source": [
    "get_ipython().run_line_magic('matplotlib', 'notebook')\n",
    "\n",
    "# Plots\n",
    "fig, axs = plt.subplots(2,2, figsize=(9, 9))\n",
    "fig.tight_layout(pad=3, w_pad=3, h_pad=3)\n",
    "axs[0, 0].quiver(dspl_test_[1,0,:,:], dspl_test_[1,1,:,:], scale=1)\n",
    "axs[0, 0].set_title('Input (test_sample_00)', {'fontsize': 11})\n",
    "\n",
    "axs[0, 1].quiver(trac_test_[1,0,:,:], trac_test_[1,1,:,:], scale=1)\n",
    "axs[0, 1].set_title('Ground truth (test_sample_00)', {'fontsize': 11})\n",
    "\n",
    "axs[1, 0].quiver(pred_dpt[1,0,:,:].detach().numpy(), pred_dpt[1,1,:,:].detach().numpy(), scale=10)\n",
    "axs[1, 0].set_title(f'DPT prediction (loss: {torch.round(loss_dpt[1,0], decimals=3)})', {'fontsize': 11})\n",
    "\n",
    "axs[1, 1].quiver(pred_vit[1,0,:,:].detach().numpy(), pred_vit[1,1,:,:].detach().numpy(), scale=1)\n",
    "axs[1, 1].set_title(f'ViT prediction (loss: {torch.round(loss_vit[1,0], decimals=3)})', {'fontsize': 11})"
   ]
  },
  {
   "cell_type": "code",
   "execution_count": 46,
   "id": "42849260",
   "metadata": {
    "scrolled": true
   },
   "outputs": [],
   "source": [
    "optimizer_settings_vit = torch.optim.AdamW(vit_weights.parameters())\n",
    "optimizer_settings_vit.load_state_dict(torch.load(path_to_vit)['optimizer_state_dict_in_best_epoch'])"
   ]
  },
  {
   "cell_type": "code",
   "execution_count": 69,
   "id": "360c7839",
   "metadata": {},
   "outputs": [
    {
     "data": {
      "text/plain": [
       "AdamW (\n",
       "Parameter Group 0\n",
       "    amsgrad: False\n",
       "    betas: (0.9, 0.999)\n",
       "    capturable: False\n",
       "    eps: 1e-08\n",
       "    foreach: None\n",
       "    lr: 0.001\n",
       "    maximize: False\n",
       "    weight_decay: 0.0005\n",
       ")"
      ]
     },
     "execution_count": 69,
     "metadata": {},
     "output_type": "execute_result"
    }
   ],
   "source": [
    "optimizer_settings_vit"
   ]
  },
  {
   "cell_type": "code",
   "execution_count": 50,
   "id": "c3e0e436",
   "metadata": {},
   "outputs": [],
   "source": [
    "n_params_vit = sum(p.numel() for p in vit_weights.parameters() if p.requires_grad)"
   ]
  },
  {
   "cell_type": "code",
   "execution_count": 51,
   "id": "cc29b338",
   "metadata": {},
   "outputs": [
    {
     "data": {
      "text/plain": [
       "2467074"
      ]
     },
     "execution_count": 51,
     "metadata": {},
     "output_type": "execute_result"
    }
   ],
   "source": [
    "n_params_vit"
   ]
  },
  {
   "cell_type": "code",
   "execution_count": 52,
   "id": "3ba37210",
   "metadata": {},
   "outputs": [],
   "source": [
    "n_params_dpt = sum(p.numel() for p in dpt_weights.parameters() if p.requires_grad)"
   ]
  },
  {
   "cell_type": "code",
   "execution_count": 53,
   "id": "3641fdae",
   "metadata": {},
   "outputs": [
    {
     "data": {
      "text/plain": [
       "5325976"
      ]
     },
     "execution_count": 53,
     "metadata": {},
     "output_type": "execute_result"
    }
   ],
   "source": [
    "n_params_dpt"
   ]
  },
  {
   "cell_type": "code",
   "execution_count": 54,
   "id": "05bb83f5",
   "metadata": {
    "scrolled": true
   },
   "outputs": [
    {
     "data": {
      "text/plain": [
       "DPT(\n",
       "  (encoder): Encoder(\n",
       "    (patch_embed): PatchEmbed(\n",
       "      (proj): Conv2d(2, 128, kernel_size=(8, 8), stride=(8, 8))\n",
       "    )\n",
       "    (pos_drop): Dropout(p=0.0, inplace=False)\n",
       "    (encoder_block): Block(\n",
       "      (norm1): LayerNorm((128,), eps=1e-05, elementwise_affine=True)\n",
       "      (attn): Attention(\n",
       "        (qkv): Linear(in_features=128, out_features=384, bias=False)\n",
       "        (attn_drop): Dropout(p=0.0, inplace=False)\n",
       "        (proj): Linear(in_features=128, out_features=128, bias=True)\n",
       "        (proj_drop): Dropout(p=0.0, inplace=False)\n",
       "      )\n",
       "      (norm2): LayerNorm((128,), eps=1e-05, elementwise_affine=True)\n",
       "      (mlp): Mlp(\n",
       "        (fc1): Linear(in_features=128, out_features=512, bias=True)\n",
       "        (act): GELU(approximate='none')\n",
       "        (drop1): Dropout(p=0.0, inplace=False)\n",
       "        (fc2): Linear(in_features=512, out_features=128, bias=True)\n",
       "        (drop2): Dropout(p=0.0, inplace=False)\n",
       "      )\n",
       "    )\n",
       "    (norm): LayerNorm((128,), eps=1e-05, elementwise_affine=True)\n",
       "  )\n",
       "  (act_postprocess1): Sequential(\n",
       "    (0): Slice()\n",
       "    (1): Transpose()\n",
       "    (2): Unflatten(dim=2, unflattened_size=torch.Size([13, 13]))\n",
       "    (3): Conv2d(128, 128, kernel_size=(1, 1), stride=(1, 1))\n",
       "    (4): ConvTranspose2d(128, 128, kernel_size=(4, 4), stride=(4, 4))\n",
       "  )\n",
       "  (act_postprocess2): Sequential(\n",
       "    (0): Slice()\n",
       "    (1): Transpose()\n",
       "    (2): Unflatten(dim=2, unflattened_size=torch.Size([13, 13]))\n",
       "    (3): Conv2d(128, 256, kernel_size=(1, 1), stride=(1, 1))\n",
       "    (4): ConvTranspose2d(256, 256, kernel_size=(2, 2), stride=(2, 2))\n",
       "  )\n",
       "  (act_postprocess3): Sequential(\n",
       "    (0): Slice()\n",
       "    (1): Transpose()\n",
       "    (2): Unflatten(dim=2, unflattened_size=torch.Size([13, 13]))\n",
       "    (3): Conv2d(128, 512, kernel_size=(1, 1), stride=(1, 1))\n",
       "  )\n",
       "  (layer1_rn): Conv2d(128, 169, kernel_size=(3, 3), stride=(1, 1), padding=(1, 1), bias=False)\n",
       "  (layer2_rn): Conv2d(256, 169, kernel_size=(3, 3), stride=(1, 1), padding=(1, 1), bias=False)\n",
       "  (layer3_rn): Conv2d(512, 169, kernel_size=(3, 3), stride=(1, 1), padding=(1, 1), bias=False)\n",
       "  (refinenet1): FeatureFusionBlock(\n",
       "    (resConfUnit1): ResidualConvUnit(\n",
       "      (conv1): Conv2d(169, 169, kernel_size=(3, 3), stride=(1, 1), padding=(1, 1))\n",
       "      (conv2): Conv2d(169, 169, kernel_size=(3, 3), stride=(1, 1), padding=(1, 1))\n",
       "      (relu): ReLU(inplace=True)\n",
       "    )\n",
       "    (resConfUnit2): ResidualConvUnit(\n",
       "      (conv1): Conv2d(169, 169, kernel_size=(3, 3), stride=(1, 1), padding=(1, 1))\n",
       "      (conv2): Conv2d(169, 169, kernel_size=(3, 3), stride=(1, 1), padding=(1, 1))\n",
       "      (relu): ReLU(inplace=True)\n",
       "    )\n",
       "  )\n",
       "  (refinenet2): FeatureFusionBlock(\n",
       "    (resConfUnit1): ResidualConvUnit(\n",
       "      (conv1): Conv2d(169, 169, kernel_size=(3, 3), stride=(1, 1), padding=(1, 1))\n",
       "      (conv2): Conv2d(169, 169, kernel_size=(3, 3), stride=(1, 1), padding=(1, 1))\n",
       "      (relu): ReLU(inplace=True)\n",
       "    )\n",
       "    (resConfUnit2): ResidualConvUnit(\n",
       "      (conv1): Conv2d(169, 169, kernel_size=(3, 3), stride=(1, 1), padding=(1, 1))\n",
       "      (conv2): Conv2d(169, 169, kernel_size=(3, 3), stride=(1, 1), padding=(1, 1))\n",
       "      (relu): ReLU(inplace=True)\n",
       "    )\n",
       "  )\n",
       "  (refinenet3): FeatureFusionBlock(\n",
       "    (resConfUnit1): ResidualConvUnit(\n",
       "      (conv1): Conv2d(169, 169, kernel_size=(3, 3), stride=(1, 1), padding=(1, 1))\n",
       "      (conv2): Conv2d(169, 169, kernel_size=(3, 3), stride=(1, 1), padding=(1, 1))\n",
       "      (relu): ReLU(inplace=True)\n",
       "    )\n",
       "    (resConfUnit2): ResidualConvUnit(\n",
       "      (conv1): Conv2d(169, 169, kernel_size=(3, 3), stride=(1, 1), padding=(1, 1))\n",
       "      (conv2): Conv2d(169, 169, kernel_size=(3, 3), stride=(1, 1), padding=(1, 1))\n",
       "      (relu): ReLU(inplace=True)\n",
       "    )\n",
       "  )\n",
       "  (head): RecTracHead()\n",
       ")"
      ]
     },
     "execution_count": 54,
     "metadata": {},
     "output_type": "execute_result"
    }
   ],
   "source": [
    "dpt_weights"
   ]
  },
  {
   "cell_type": "code",
   "execution_count": 70,
   "id": "249d54b8",
   "metadata": {},
   "outputs": [],
   "source": [
    "dpt_params = list(dpt_weights.parameters())"
   ]
  },
  {
   "cell_type": "code",
   "execution_count": 73,
   "id": "2f9f48de",
   "metadata": {},
   "outputs": [],
   "source": [
    "vit_params = list(vit_weights.parameters())"
   ]
  },
  {
   "cell_type": "code",
   "execution_count": null,
   "id": "a78f4393",
   "metadata": {},
   "outputs": [],
   "source": [
    "for param in dpt_params:\n",
    "    print(param.grad)"
   ]
  },
  {
   "cell_type": "code",
   "execution_count": 76,
   "id": "e45e2296",
   "metadata": {},
   "outputs": [
    {
     "name": "stdout",
     "output_type": "stream",
     "text": [
      "None\n",
      "None\n",
      "None\n",
      "None\n",
      "None\n",
      "None\n",
      "None\n",
      "None\n",
      "None\n",
      "None\n",
      "None\n",
      "None\n",
      "None\n",
      "None\n",
      "None\n",
      "None\n",
      "None\n",
      "None\n",
      "None\n",
      "None\n",
      "None\n",
      "None\n",
      "None\n",
      "None\n",
      "None\n",
      "None\n",
      "None\n",
      "None\n",
      "None\n",
      "None\n",
      "None\n",
      "None\n",
      "None\n",
      "None\n",
      "None\n",
      "None\n",
      "None\n",
      "None\n",
      "None\n",
      "None\n",
      "None\n",
      "None\n",
      "None\n",
      "None\n",
      "None\n",
      "None\n",
      "None\n",
      "None\n",
      "None\n",
      "None\n",
      "None\n",
      "None\n",
      "None\n",
      "None\n",
      "None\n",
      "None\n",
      "None\n",
      "None\n",
      "None\n",
      "None\n",
      "None\n",
      "None\n",
      "None\n",
      "None\n",
      "None\n",
      "None\n",
      "None\n",
      "None\n",
      "None\n",
      "None\n",
      "None\n",
      "None\n",
      "None\n",
      "None\n",
      "None\n",
      "None\n",
      "None\n",
      "None\n",
      "None\n",
      "None\n",
      "None\n",
      "None\n",
      "None\n",
      "None\n",
      "None\n",
      "None\n",
      "None\n",
      "None\n",
      "None\n",
      "None\n",
      "None\n",
      "None\n",
      "None\n",
      "None\n",
      "None\n",
      "None\n",
      "None\n",
      "None\n",
      "None\n",
      "None\n",
      "None\n",
      "None\n",
      "None\n",
      "None\n",
      "None\n",
      "None\n",
      "None\n",
      "None\n",
      "None\n",
      "None\n",
      "None\n",
      "None\n",
      "None\n",
      "None\n",
      "None\n",
      "None\n",
      "None\n",
      "None\n",
      "None\n",
      "None\n",
      "None\n",
      "None\n",
      "None\n",
      "None\n",
      "None\n",
      "None\n",
      "None\n",
      "None\n",
      "None\n",
      "None\n",
      "None\n",
      "None\n",
      "None\n",
      "None\n",
      "None\n",
      "None\n",
      "None\n",
      "None\n",
      "None\n",
      "None\n",
      "None\n",
      "None\n",
      "None\n",
      "None\n",
      "None\n",
      "None\n",
      "None\n",
      "None\n",
      "None\n",
      "None\n",
      "None\n",
      "None\n",
      "None\n",
      "None\n",
      "None\n"
     ]
    }
   ],
   "source": [
    "for param in vit_params:\n",
    "    print(param.grad)"
   ]
  },
  {
   "cell_type": "code",
   "execution_count": null,
   "id": "9c2d93dd",
   "metadata": {},
   "outputs": [],
   "source": []
  }
 ],
 "metadata": {
  "kernelspec": {
   "display_name": "Python 3 (ipykernel)",
   "language": "python",
   "name": "python3"
  },
  "language_info": {
   "codemirror_mode": {
    "name": "ipython",
    "version": 3
   },
   "file_extension": ".py",
   "mimetype": "text/x-python",
   "name": "python",
   "nbconvert_exporter": "python",
   "pygments_lexer": "ipython3",
   "version": "3.8.10"
  }
 },
 "nbformat": 4,
 "nbformat_minor": 5
}
