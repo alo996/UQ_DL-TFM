{
 "cells": [
  {
   "cell_type": "code",
   "execution_count": 1,
   "id": "4e6799e0",
   "metadata": {},
   "outputs": [
    {
     "name": "stderr",
     "output_type": "stream",
     "text": [
      "2022-11-30 09:54:18.092722: I tensorflow/core/platform/cpu_feature_guard.cc:193] This TensorFlow binary is optimized with oneAPI Deep Neural Network Library (oneDNN) to use the following CPU instructions in performance-critical operations:  AVX2 FMA\n",
      "To enable them in other operations, rebuild TensorFlow with the appropriate compiler flags.\n",
      "2022-11-30 09:54:18.183772: W tensorflow/stream_executor/platform/default/dso_loader.cc:64] Could not load dynamic library 'libcudart.so.11.0'; dlerror: libcudart.so.11.0: cannot open shared object file: No such file or directory\n",
      "2022-11-30 09:54:18.183789: I tensorflow/stream_executor/cuda/cudart_stub.cc:29] Ignore above cudart dlerror if you do not have a GPU set up on your machine.\n",
      "2022-11-30 09:54:18.207687: E tensorflow/stream_executor/cuda/cuda_blas.cc:2981] Unable to register cuBLAS factory: Attempting to register factory for plugin cuBLAS when one has already been registered\n",
      "2022-11-30 09:54:18.637248: W tensorflow/stream_executor/platform/default/dso_loader.cc:64] Could not load dynamic library 'libnvinfer.so.7'; dlerror: libnvinfer.so.7: cannot open shared object file: No such file or directory\n",
      "2022-11-30 09:54:18.637300: W tensorflow/stream_executor/platform/default/dso_loader.cc:64] Could not load dynamic library 'libnvinfer_plugin.so.7'; dlerror: libnvinfer_plugin.so.7: cannot open shared object file: No such file or directory\n",
      "2022-11-30 09:54:18.637305: W tensorflow/compiler/tf2tensorrt/utils/py_utils.cc:38] TF-TRT Warning: Cannot dlopen some TensorRT libraries. If you would like to use Nvidia GPU with TensorRT, please make sure the missing libraries mentioned above are installed properly.\n"
     ]
    }
   ],
   "source": [
    "import copy\n",
    "import datetime\n",
    "import h5py\n",
    "import keras\n",
    "import matplotlib.pyplot as plt\n",
    "import numpy as np\n",
    "import pandas as pd\n",
    "import os\n",
    "import torch\n",
    "import torch.nn as nn\n",
    "import torch.backends.cudnn as cudnn\n",
    "import torch.nn.functional as F\n",
    "import sys\n",
    "\n",
    "from cv2 import resize\n",
    "from datetime import datetime\n",
    "from gc import collect\n",
    "from os import cpu_count\n",
    "from sklearn.model_selection import train_test_split\n",
    "from time import sleep\n",
    "from torch.optim.lr_scheduler import StepLR\n",
    "from torch.utils.data import TensorDataset, DataLoader\n",
    "from torch.utils.tensorboard import SummaryWriter\n",
    "from torchinfo import summary\n",
    "from tqdm import tqdm\n",
    "\n",
    "sys.path.append(f\"{os.getcwd()}/ViT-TFM/\")\n",
    "sys.path.append(f\"{os.getcwd()}/mltfm/\")\n",
    "import VisionTransformer as vit"
   ]
  },
  {
   "cell_type": "code",
   "execution_count": 2,
   "id": "1ca71087",
   "metadata": {},
   "outputs": [],
   "source": [
    "random_seed = 1\n",
    "np.random.seed(random_seed)\n",
    "torch.manual_seed(random_seed)\n",
    "torch.cuda.manual_seed(random_seed)\n",
    "cudnn.benchmark = True"
   ]
  },
  {
   "cell_type": "code",
   "execution_count": 3,
   "id": "0dc9f29c",
   "metadata": {},
   "outputs": [
    {
     "name": "stdout",
     "output_type": "stream",
     "text": [
      "Running on device: cuda\n"
     ]
    }
   ],
   "source": [
    "collect()\n",
    "torch.cuda.empty_cache()\n",
    "device = torch.device('cuda') if torch.cuda.is_available() else torch.device('cpu')\n",
    "print(f\"Running on device: {device}\")"
   ]
  },
  {
   "cell_type": "code",
   "execution_count": 4,
   "id": "7b9882e7",
   "metadata": {},
   "outputs": [],
   "source": [
    "vit_weights = vit.VisionTransformer(dspl_size=104, patch_size=8, embed_dim=128, depth=12, n_heads=8, mlp_ratio=4.,p=0., attn_p=0.,drop_path=0).double()"
   ]
  },
  {
   "cell_type": "code",
   "execution_count": 5,
   "id": "b686ba33",
   "metadata": {},
   "outputs": [],
   "source": [
    "path_to_pth = 'ViT-TFM/logs_and_weights/ViT-2022-Nov-24 20:44:29/ViT-2022-Nov-24 20:44:29_best_val_loss_0.000204.pth'"
   ]
  },
  {
   "cell_type": "code",
   "execution_count": 6,
   "id": "6c190f47",
   "metadata": {},
   "outputs": [
    {
     "ename": "FileNotFoundError",
     "evalue": "[Errno 2] No such file or directory: 'ViT-TFM/logs_and_weights/ViT-2022-Nov-24 20:44:29/ViT-2022-Nov-24 20:44:29_best_val_loss_0.000204.pth'",
     "output_type": "error",
     "traceback": [
      "\u001B[0;31m---------------------------------------------------------------------------\u001B[0m",
      "\u001B[0;31mFileNotFoundError\u001B[0m                         Traceback (most recent call last)",
      "Cell \u001B[0;32mIn [6], line 2\u001B[0m\n\u001B[1;32m      1\u001B[0m \u001B[38;5;28;01mif\u001B[39;00m torch\u001B[38;5;241m.\u001B[39mcuda\u001B[38;5;241m.\u001B[39mis_available():\n\u001B[0;32m----> 2\u001B[0m     vit_weights\u001B[38;5;241m.\u001B[39mload_state_dict(\u001B[43mtorch\u001B[49m\u001B[38;5;241;43m.\u001B[39;49m\u001B[43mload\u001B[49m\u001B[43m(\u001B[49m\u001B[43mpath_to_pth\u001B[49m\u001B[43m)\u001B[49m[\u001B[38;5;124m'\u001B[39m\u001B[38;5;124mbest_model_weights\u001B[39m\u001B[38;5;124m'\u001B[39m], strict\u001B[38;5;241m=\u001B[39m\u001B[38;5;28;01mFalse\u001B[39;00m)\n\u001B[1;32m      3\u001B[0m \u001B[38;5;28;01melse\u001B[39;00m:\n\u001B[1;32m      4\u001B[0m     vit_weights\u001B[38;5;241m.\u001B[39mload_state_dict(torch\u001B[38;5;241m.\u001B[39mload(path_to_pth, map_location\u001B[38;5;241m=\u001B[39mtorch\u001B[38;5;241m.\u001B[39mdevice(\u001B[38;5;124m'\u001B[39m\u001B[38;5;124mcpu\u001B[39m\u001B[38;5;124m'\u001B[39m))[\u001B[38;5;124m'\u001B[39m\u001B[38;5;124mbest_model_weights\u001B[39m\u001B[38;5;124m'\u001B[39m], strict\u001B[38;5;241m=\u001B[39m\u001B[38;5;28;01mFalse\u001B[39;00m)        \n",
      "File \u001B[0;32m~/PycharmProjects/UQ_DL-TFM/venv/lib/python3.8/site-packages/torch/serialization.py:771\u001B[0m, in \u001B[0;36mload\u001B[0;34m(f, map_location, pickle_module, weights_only, **pickle_load_args)\u001B[0m\n\u001B[1;32m    768\u001B[0m \u001B[38;5;28;01mif\u001B[39;00m \u001B[38;5;124m'\u001B[39m\u001B[38;5;124mencoding\u001B[39m\u001B[38;5;124m'\u001B[39m \u001B[38;5;129;01mnot\u001B[39;00m \u001B[38;5;129;01min\u001B[39;00m pickle_load_args\u001B[38;5;241m.\u001B[39mkeys():\n\u001B[1;32m    769\u001B[0m     pickle_load_args[\u001B[38;5;124m'\u001B[39m\u001B[38;5;124mencoding\u001B[39m\u001B[38;5;124m'\u001B[39m] \u001B[38;5;241m=\u001B[39m \u001B[38;5;124m'\u001B[39m\u001B[38;5;124mutf-8\u001B[39m\u001B[38;5;124m'\u001B[39m\n\u001B[0;32m--> 771\u001B[0m \u001B[38;5;28;01mwith\u001B[39;00m \u001B[43m_open_file_like\u001B[49m\u001B[43m(\u001B[49m\u001B[43mf\u001B[49m\u001B[43m,\u001B[49m\u001B[43m \u001B[49m\u001B[38;5;124;43m'\u001B[39;49m\u001B[38;5;124;43mrb\u001B[39;49m\u001B[38;5;124;43m'\u001B[39;49m\u001B[43m)\u001B[49m \u001B[38;5;28;01mas\u001B[39;00m opened_file:\n\u001B[1;32m    772\u001B[0m     \u001B[38;5;28;01mif\u001B[39;00m _is_zipfile(opened_file):\n\u001B[1;32m    773\u001B[0m         \u001B[38;5;66;03m# The zipfile reader is going to advance the current file position.\u001B[39;00m\n\u001B[1;32m    774\u001B[0m         \u001B[38;5;66;03m# If we want to actually tail call to torch.jit.load, we need to\u001B[39;00m\n\u001B[1;32m    775\u001B[0m         \u001B[38;5;66;03m# reset back to the original position.\u001B[39;00m\n\u001B[1;32m    776\u001B[0m         orig_position \u001B[38;5;241m=\u001B[39m opened_file\u001B[38;5;241m.\u001B[39mtell()\n",
      "File \u001B[0;32m~/PycharmProjects/UQ_DL-TFM/venv/lib/python3.8/site-packages/torch/serialization.py:270\u001B[0m, in \u001B[0;36m_open_file_like\u001B[0;34m(name_or_buffer, mode)\u001B[0m\n\u001B[1;32m    268\u001B[0m \u001B[38;5;28;01mdef\u001B[39;00m \u001B[38;5;21m_open_file_like\u001B[39m(name_or_buffer, mode):\n\u001B[1;32m    269\u001B[0m     \u001B[38;5;28;01mif\u001B[39;00m _is_path(name_or_buffer):\n\u001B[0;32m--> 270\u001B[0m         \u001B[38;5;28;01mreturn\u001B[39;00m \u001B[43m_open_file\u001B[49m\u001B[43m(\u001B[49m\u001B[43mname_or_buffer\u001B[49m\u001B[43m,\u001B[49m\u001B[43m \u001B[49m\u001B[43mmode\u001B[49m\u001B[43m)\u001B[49m\n\u001B[1;32m    271\u001B[0m     \u001B[38;5;28;01melse\u001B[39;00m:\n\u001B[1;32m    272\u001B[0m         \u001B[38;5;28;01mif\u001B[39;00m \u001B[38;5;124m'\u001B[39m\u001B[38;5;124mw\u001B[39m\u001B[38;5;124m'\u001B[39m \u001B[38;5;129;01min\u001B[39;00m mode:\n",
      "File \u001B[0;32m~/PycharmProjects/UQ_DL-TFM/venv/lib/python3.8/site-packages/torch/serialization.py:251\u001B[0m, in \u001B[0;36m_open_file.__init__\u001B[0;34m(self, name, mode)\u001B[0m\n\u001B[1;32m    250\u001B[0m \u001B[38;5;28;01mdef\u001B[39;00m \u001B[38;5;21m__init__\u001B[39m(\u001B[38;5;28mself\u001B[39m, name, mode):\n\u001B[0;32m--> 251\u001B[0m     \u001B[38;5;28msuper\u001B[39m(_open_file, \u001B[38;5;28mself\u001B[39m)\u001B[38;5;241m.\u001B[39m\u001B[38;5;21m__init__\u001B[39m(\u001B[38;5;28;43mopen\u001B[39;49m\u001B[43m(\u001B[49m\u001B[43mname\u001B[49m\u001B[43m,\u001B[49m\u001B[43m \u001B[49m\u001B[43mmode\u001B[49m\u001B[43m)\u001B[49m)\n",
      "\u001B[0;31mFileNotFoundError\u001B[0m: [Errno 2] No such file or directory: 'ViT-TFM/logs_and_weights/ViT-2022-Nov-24 20:44:29/ViT-2022-Nov-24 20:44:29_best_val_loss_0.000204.pth'"
     ]
    }
   ],
   "source": [
    "if torch.cuda.is_available():\n",
    "    vit_weights.load_state_dict(torch.load(path_to_pth)['best_model_weights'], strict=False)\n",
    "else:\n",
    "    vit_weights.load_state_dict(torch.load(path_to_pth, map_location=torch.device('cpu'))['best_model_weights'], strict=False)        "
   ]
  },
  {
   "cell_type": "markdown",
   "id": "d8740b00",
   "metadata": {},
   "source": [
    "## 1. [Gaussian process layers](https://arxiv.org/pdf/2106.00638.pdf)"
   ]
  },
  {
   "cell_type": "markdown",
   "id": "5b8b644f",
   "metadata": {},
   "source": [
    "__Goal__: Use variance of GP as distance measure between new input and already observed training data."
   ]
  },
  {
   "cell_type": "markdown",
   "id": "aad32e6f",
   "metadata": {},
   "source": [
    "__Idea__: \n",
    "  1. Combination of Deep Neural Networks (DNNs) and Gaussian Processes (GPs)\n",
    "  2. Scalable Variational Gaussian Processes (SVGPs): Complexity of O(m³) with m as number of inducing points\n",
    "  3. Use the outputs of a neural network as the input to an uncertainty aware GP\n",
    "  4. Given a new input sample, the GP model provides a predictive distribution over (univariate!) target variable"
   ]
  },
  {
   "cell_type": "markdown",
   "id": "a185e5fe",
   "metadata": {},
   "source": [
    "__Algorithm__: \n",
    "  1. Train backbone (e.g. CNN, Transformer) on some problem\n",
    "  2. Generate inducing points by feeding images into the model and embed them\n",
    "  3. Use these embedding points as inducing points for SVGP\n",
    "  4. Maximize SVGP parameters (e.g. scaling parameter of RBF kernel) by maximizing ELBO"
   ]
  },
  {
   "cell_type": "markdown",
   "id": "11cc3cab",
   "metadata": {},
   "source": [
    "__Problem__: For every target variable, one SVGP has to be trained. Furthermore, SVGPs assume independence between the target variables."
   ]
  },
  {
   "cell_type": "markdown",
   "id": "55c15b5b",
   "metadata": {},
   "source": [
    "## 2. Distance in latent space"
   ]
  },
  {
   "cell_type": "markdown",
   "id": "ee69979b",
   "metadata": {},
   "source": [
    "\"What the neural net is essentially doing is stripping away details from the features that are not helpful and amplifying the most important ones, and by the time we get to the latent space, it’s basically the way the model sees the molecule to make the prediction.\""
   ]
  },
  {
   "cell_type": "code",
   "execution_count": 7,
   "id": "1e07ce9a",
   "metadata": {},
   "outputs": [],
   "source": [
    "dspl = h5py.File('mltfm/displacements_res_104_num_50000.h5')[\"data\"]"
   ]
  },
  {
   "cell_type": "code",
   "execution_count": 8,
   "id": "f20474d8",
   "metadata": {},
   "outputs": [],
   "source": [
    "dspl_ae = np.array(dspl[0:110, :, :, :])\n",
    "dspl_vit = np.moveaxis(np.array(dspl_ae),3 ,1)\n",
    "\n",
    "X_train_ae = torch.from_numpy(dspl_ae).double()\n",
    "X_test_vit = torch.from_numpy(dspl_vit).double()"
   ]
  },
  {
   "cell_type": "code",
   "execution_count": 9,
   "id": "c258e681",
   "metadata": {},
   "outputs": [],
   "source": [
    "class LatentRepresentationExtractor(nn.Module):\n",
    "    def __init__(self, patch_embed, pos_embed, blocks):\n",
    "        super().__init__()\n",
    "        self.patch_embed = patch_embed\n",
    "        self.pos_embed = pos_embed\n",
    "        self.blocks = blocks\n",
    "        \n",
    "    def forward(self, x):\n",
    "        x = self.patch_embed(x)\n",
    "        x = x + self.pos_embed  # (n_samples, n_patches, embed_dim)\n",
    "\n",
    "        for block in self.blocks:\n",
    "            x, _ = block(x)\n",
    "        \n",
    "        return x"
   ]
  },
  {
   "cell_type": "code",
   "execution_count": 10,
   "id": "404cf287",
   "metadata": {},
   "outputs": [],
   "source": [
    "representation_extractor = LatentRepresentationExtractor(vit_weights.patch_embed, vit_weights.pos_embed, vit_weights.blocks)"
   ]
  },
  {
   "cell_type": "code",
   "execution_count": 46,
   "id": "0cc86f37",
   "metadata": {},
   "outputs": [],
   "source": [
    "representations = representation_extractor(X_test_vit)"
   ]
  },
  {
   "cell_type": "code",
   "execution_count": 50,
   "id": "a960e44f",
   "metadata": {},
   "outputs": [],
   "source": [
    "representations = representations.detach()"
   ]
  },
  {
   "cell_type": "code",
   "execution_count": 51,
   "id": "220ff22f",
   "metadata": {},
   "outputs": [],
   "source": [
    "class DeepAutoencoder(nn.Module):\n",
    "    def __init__(self):\n",
    "        super().__init__()\n",
    "        self.encoder = torch.nn.Sequential(\n",
    "            torch.nn.Linear(10 * 169 , 128),\n",
    "            torch.nn.ReLU(),\n",
    "            torch.nn.Linear(128, 64),\n",
    "            torch.nn.ReLU(),\n",
    "            torch.nn.Linear(64, 32),\n",
    "            torch.nn.ReLU(),\n",
    "            torch.nn.Linear(32, 8)\n",
    "        )\n",
    "        \n",
    "        self.decoder = torch.nn.Sequential(\n",
    "            torch.nn.Linear(8, 32),\n",
    "        torch.nn.ReLU(),\n",
    "        torch.nn.Linear(32, 64),\n",
    "        torch.nn.ReLU(),\n",
    "        torch.nn.Linear(64, 128),\n",
    "        torch.nn.ReLU(),\n",
    "        torch.nn.Linear(128, 10 * 169),\n",
    "        )\n",
    "\n",
    "    def forward(self, x):\n",
    "        x = x.reshape(-1, 10 * 169)\n",
    "        encoded = self.encoder(x)\n",
    "        decoded = self.decoder(encoded)\n",
    "        return decoded"
   ]
  },
  {
   "cell_type": "code",
   "execution_count": 52,
   "id": "4825f151",
   "metadata": {},
   "outputs": [],
   "source": [
    "#  use gpu if available\n",
    "device = torch.device(\"cuda\" if torch.cuda.is_available() else \"cpu\")\n",
    "\n",
    "# create a model from `AE` autoencoder class\n",
    "# load it to the specified device, either gpu or cpu\n",
    "model = DeepAutoencoder().to(device).double()\n",
    "\n",
    "# create an optimizer object\n",
    "# Adam optimizer with learning rate 1e-3\n",
    "optimizer = torch.optim.Adam(model.parameters(), lr=1e-3)\n",
    "\n",
    "# mean-squared error loss\n",
    "criterion = nn.MSELoss()"
   ]
  },
  {
   "cell_type": "code",
   "execution_count": 53,
   "id": "86ab61a3",
   "metadata": {},
   "outputs": [],
   "source": [
    "X_train = representations[0:100, :, :].double()\n",
    "X_val = representations[100:, :, :].double()\n",
    "\n",
    "train_set = TensorDataset(X_train, X_train)\n",
    "val_set = TensorDataset(X_val, X_val)\n",
    "\n",
    "dataloader_kwargs = {'batch_size': 10,\n",
    "                     'num_workers': 10,\n",
    "                     'pin_memory': False,\n",
    "                     'shuffle': True}\n",
    "dataloaders = {'train': DataLoader(train_set, **dataloader_kwargs),\n",
    "               'val': DataLoader(val_set, **dataloader_kwargs)}"
   ]
  },
  {
   "cell_type": "code",
   "execution_count": 54,
   "id": "463717b0",
   "metadata": {},
   "outputs": [],
   "source": [
    "def run_epoch(model, loss_fn, dataloader, device, epoch, optimizer, train, visualize_attn=False):\n",
    "    # Set model to training mode\n",
    "    if train:\n",
    "        model.train()\n",
    "    else:\n",
    "        model.eval()\n",
    "\n",
    "    epoch_loss = 0.0\n",
    "\n",
    "    with tqdm(dataloader, unit=\"batch\") as tepoch:\n",
    "        # Iterate over data\n",
    "        for xb, yb in tepoch:\n",
    "            tepoch.set_description(f\"Epoch {epoch}\")\n",
    "\n",
    "            xb, yb = xb.to(device), yb.to(device)\n",
    "            yb = yb.reshape(-1, 10 * 169)\n",
    "\n",
    "            # zero the parameters\n",
    "            if train:\n",
    "                optimizer.zero_grad(set_to_none=True)\n",
    "\n",
    "            # forward\n",
    "            if visualize_attn:\n",
    "                pred, attn_scores = model(xb)  # attn_scores: [attn_1, ..., attn_depth]\n",
    "            else:\n",
    "                pred = model(xb)\n",
    "            if not train and visualize_attn:\n",
    "                with torch.set_grad_enabled(not train):\n",
    "                    attn_mat = torch.stack(attn_scores) # attn_mat.shape==(depth, samples, n_heads, n_patches**0.5, n_patches**0.5)\n",
    "                    attn_mat = attn_mat.squeeze(1) # shape remains unchanged unless samples==1, then: (depth, n_heads, n_patches**0.5, n_patches**0.5)\n",
    "                    attn_mat = torch.mean(attn_mat, dim=1) # if samples==1: attn_mat.shape==(depth, n_patches**0.5,n_patches**0.5)\n",
    "\n",
    "            with torch.set_grad_enabled(train):\n",
    "                loss = loss_fn(pred, yb)\n",
    "\n",
    "                # backward + optimize if in training phase\n",
    "                if train:\n",
    "                    loss.backward()\n",
    "                    torch.nn.utils.clip_grad_norm_(model.parameters(), max_norm=1.0, norm_type=2)\n",
    "                    optimizer.step()\n",
    "\n",
    "            # statistics\n",
    "            epoch_loss += loss.item()\n",
    "\n",
    "        epoch_loss /= len(dataloader.dataset)\n",
    "        tepoch.set_postfix(loss=epoch_loss)\n",
    "        sleep(0.01)\n",
    "    return epoch_loss"
   ]
  },
  {
   "cell_type": "code",
   "execution_count": 55,
   "id": "01291dd1",
   "metadata": {},
   "outputs": [],
   "source": [
    "def fit(model, loss_fn, dataloaders, optimizer, device, writer, NAME, max_epochs, patience):\n",
    "    best_val_loss = np.inf\n",
    "    best_epoch = -1\n",
    "    best_model_weights = {}\n",
    "    optimizer_state_dict_in_best_epoch = {}\n",
    "    model.to(device)\n",
    "    example_input, example_value = next(iter(dataloaders['train']))\n",
    "    writer.add_graph(model, example_input.to(device))\n",
    "\n",
    "    for epoch in range(1, max_epochs + 1):\n",
    "        train_loss = run_epoch(model, loss_fn, dataloaders['train'], device, epoch, optimizer, train=True)\n",
    "        val_loss = run_epoch(model, loss_fn, dataloaders['val'], device, epoch, optimizer=None, train=False)\n",
    "        print(\n",
    "            f\"Epoch {epoch}/{max_epochs}, train_loss: {train_loss}\")\n",
    "\n",
    "        writer.add_scalar('train_loss', train_loss, epoch)\n",
    "        writer.add_scalar('val_loss', val_loss, epoch)\n",
    "\n",
    "        # Save best weights\n",
    "        if val_loss < best_val_loss:\n",
    "            best_val_loss = val_loss\n",
    "            best_epoch = epoch\n",
    "            best_model_weights = copy.deepcopy(model.state_dict())\n",
    "            optimizer_state_dict_in_best_epoch = copy.deepcopy(optimizer.state_dict())\n",
    "\n",
    "        # Early stopping\n",
    "        print(\n",
    "            f\"best_val_loss: {np.round(best_val_loss, 6)}, \"\n",
    "            f\"epoch: {epoch}, best_epoch: {best_epoch}, \"\n",
    "            f\"current_patience: {patience - (epoch - best_epoch)}\")\n",
    "        if epoch - best_epoch >= patience:\n",
    "            break\n",
    "\n",
    "    torch.save({\n",
    "        'best_epoch': best_epoch,\n",
    "        'best_model_weights': best_model_weights,\n",
    "        'optimizer_state_dict_in_best_epoch': optimizer_state_dict_in_best_epoch,\n",
    "        'best_val_loss': best_val_loss\n",
    "    },\n",
    "        f'logs_and_weights/{NAME}/{NAME}_best_val_loss_{np.round(best_val_loss, 6)}.pth')\n",
    "\n"
   ]
  },
  {
   "cell_type": "code",
   "execution_count": 56,
   "id": "34f8f517",
   "metadata": {
    "scrolled": false
   },
   "outputs": [
    {
     "name": "stderr",
     "output_type": "stream",
     "text": [
      "Epoch 1: 100%|████████████████████████████████████████████████████████████████████████████████████████████████████████████| 10/10 [00:02<00:00,  3.65batch/s]\n",
      "Epoch 1: 100%|██████████████████████████████████████████████████████████████████████████████████████████████████████████████| 1/1 [00:02<00:00,  2.65s/batch]\n"
     ]
    },
    {
     "name": "stdout",
     "output_type": "stream",
     "text": [
      "Epoch 1/100, train_loss: 13165307.046131387\n",
      "best_val_loss: 12974643.249953, epoch: 1, best_epoch: 1, current_patience: 20\n"
     ]
    },
    {
     "name": "stderr",
     "output_type": "stream",
     "text": [
      "Epoch 2: 100%|████████████████████████████████████████████████████████████████████████████████████████████████████████████| 10/10 [00:02<00:00,  3.64batch/s]\n",
      "Epoch 2: 100%|██████████████████████████████████████████████████████████████████████████████████████████████████████████████| 1/1 [00:02<00:00,  2.62s/batch]\n"
     ]
    },
    {
     "name": "stdout",
     "output_type": "stream",
     "text": [
      "Epoch 2/100, train_loss: 12800090.42457653\n",
      "best_val_loss: 12384418.159308, epoch: 2, best_epoch: 2, current_patience: 20\n"
     ]
    },
    {
     "name": "stderr",
     "output_type": "stream",
     "text": [
      "Epoch 3: 100%|████████████████████████████████████████████████████████████████████████████████████████████████████████████| 10/10 [00:02<00:00,  3.63batch/s]\n",
      "Epoch 3: 100%|██████████████████████████████████████████████████████████████████████████████████████████████████████████████| 1/1 [00:02<00:00,  2.66s/batch]\n"
     ]
    },
    {
     "name": "stdout",
     "output_type": "stream",
     "text": [
      "Epoch 3/100, train_loss: 12158740.66801406\n",
      "best_val_loss: 11737359.231812, epoch: 3, best_epoch: 3, current_patience: 20\n"
     ]
    },
    {
     "name": "stderr",
     "output_type": "stream",
     "text": [
      "Epoch 4: 100%|████████████████████████████████████████████████████████████████████████████████████████████████████████████| 10/10 [00:02<00:00,  3.65batch/s]\n",
      "Epoch 4: 100%|██████████████████████████████████████████████████████████████████████████████████████████████████████████████| 1/1 [00:02<00:00,  2.68s/batch]\n"
     ]
    },
    {
     "name": "stdout",
     "output_type": "stream",
     "text": [
      "Epoch 4/100, train_loss: 11481203.169079639\n",
      "best_val_loss: 11027754.918364, epoch: 4, best_epoch: 4, current_patience: 20\n"
     ]
    },
    {
     "name": "stderr",
     "output_type": "stream",
     "text": [
      "Epoch 5: 100%|████████████████████████████████████████████████████████████████████████████████████████████████████████████| 10/10 [00:02<00:00,  3.70batch/s]\n",
      "Epoch 5: 100%|██████████████████████████████████████████████████████████████████████████████████████████████████████████████| 1/1 [00:02<00:00,  2.64s/batch]\n"
     ]
    },
    {
     "name": "stdout",
     "output_type": "stream",
     "text": [
      "Epoch 5/100, train_loss: 10753720.633011946\n",
      "best_val_loss: 10311021.753192, epoch: 5, best_epoch: 5, current_patience: 20\n"
     ]
    },
    {
     "name": "stderr",
     "output_type": "stream",
     "text": [
      "Epoch 6: 100%|████████████████████████████████████████████████████████████████████████████████████████████████████████████| 10/10 [00:02<00:00,  3.65batch/s]\n",
      "Epoch 6: 100%|██████████████████████████████████████████████████████████████████████████████████████████████████████████████| 1/1 [00:02<00:00,  2.62s/batch]\n"
     ]
    },
    {
     "name": "stdout",
     "output_type": "stream",
     "text": [
      "Epoch 6/100, train_loss: 10048227.08264399\n",
      "best_val_loss: 9629039.342949, epoch: 6, best_epoch: 6, current_patience: 20\n"
     ]
    },
    {
     "name": "stderr",
     "output_type": "stream",
     "text": [
      "Epoch 7: 100%|████████████████████████████████████████████████████████████████████████████████████████████████████████████| 10/10 [00:02<00:00,  3.64batch/s]\n",
      "Epoch 7: 100%|██████████████████████████████████████████████████████████████████████████████████████████████████████████████| 1/1 [00:02<00:00,  2.63s/batch]\n"
     ]
    },
    {
     "name": "stdout",
     "output_type": "stream",
     "text": [
      "Epoch 7/100, train_loss: 9374383.70585267\n",
      "best_val_loss: 8983305.219729, epoch: 7, best_epoch: 7, current_patience: 20\n"
     ]
    },
    {
     "name": "stderr",
     "output_type": "stream",
     "text": [
      "Epoch 8: 100%|████████████████████████████████████████████████████████████████████████████████████████████████████████████| 10/10 [00:02<00:00,  3.72batch/s]\n",
      "Epoch 8: 100%|██████████████████████████████████████████████████████████████████████████████████████████████████████████████| 1/1 [00:02<00:00,  2.65s/batch]\n"
     ]
    },
    {
     "name": "stdout",
     "output_type": "stream",
     "text": [
      "Epoch 8/100, train_loss: 8730130.173967557\n",
      "best_val_loss: 8317166.958788, epoch: 8, best_epoch: 8, current_patience: 20\n"
     ]
    },
    {
     "name": "stderr",
     "output_type": "stream",
     "text": [
      "Epoch 9: 100%|████████████████████████████████████████████████████████████████████████████████████████████████████████████| 10/10 [00:02<00:00,  3.69batch/s]\n",
      "Epoch 9: 100%|██████████████████████████████████████████████████████████████████████████████████████████████████████████████| 1/1 [00:02<00:00,  2.60s/batch]\n"
     ]
    },
    {
     "name": "stdout",
     "output_type": "stream",
     "text": [
      "Epoch 9/100, train_loss: 8028944.74523119\n",
      "best_val_loss: 7602330.258682, epoch: 9, best_epoch: 9, current_patience: 20\n"
     ]
    },
    {
     "name": "stderr",
     "output_type": "stream",
     "text": [
      "Epoch 10: 100%|███████████████████████████████████████████████████████████████████████████████████████████████████████████| 10/10 [00:02<00:00,  3.68batch/s]\n",
      "Epoch 10: 100%|█████████████████████████████████████████████████████████████████████████████████████████████████████████████| 1/1 [00:02<00:00,  2.65s/batch]\n"
     ]
    },
    {
     "name": "stdout",
     "output_type": "stream",
     "text": [
      "Epoch 10/100, train_loss: 7347292.560687024\n",
      "best_val_loss: 6978705.549279, epoch: 10, best_epoch: 10, current_patience: 20\n"
     ]
    },
    {
     "name": "stderr",
     "output_type": "stream",
     "text": [
      "Epoch 11: 100%|███████████████████████████████████████████████████████████████████████████████████████████████████████████| 10/10 [00:02<00:00,  3.67batch/s]\n",
      "Epoch 11: 100%|█████████████████████████████████████████████████████████████████████████████████████████████████████████████| 1/1 [00:02<00:00,  2.57s/batch]\n"
     ]
    },
    {
     "name": "stdout",
     "output_type": "stream",
     "text": [
      "Epoch 11/100, train_loss: 6745214.905763991\n",
      "best_val_loss: 6397562.495266, epoch: 11, best_epoch: 11, current_patience: 20\n"
     ]
    },
    {
     "name": "stderr",
     "output_type": "stream",
     "text": [
      "Epoch 12: 100%|███████████████████████████████████████████████████████████████████████████████████████████████████████████| 10/10 [00:02<00:00,  3.70batch/s]\n",
      "Epoch 12: 100%|█████████████████████████████████████████████████████████████████████████████████████████████████████████████| 1/1 [00:02<00:00,  2.61s/batch]\n"
     ]
    },
    {
     "name": "stdout",
     "output_type": "stream",
     "text": [
      "Epoch 12/100, train_loss: 6158376.994100103\n",
      "best_val_loss: 5803673.178313, epoch: 12, best_epoch: 12, current_patience: 20\n"
     ]
    },
    {
     "name": "stderr",
     "output_type": "stream",
     "text": [
      "Epoch 13: 100%|███████████████████████████████████████████████████████████████████████████████████████████████████████████| 10/10 [00:02<00:00,  3.68batch/s]\n",
      "Epoch 13: 100%|█████████████████████████████████████████████████████████████████████████████████████████████████████████████| 1/1 [00:02<00:00,  2.62s/batch]\n"
     ]
    },
    {
     "name": "stdout",
     "output_type": "stream",
     "text": [
      "Epoch 13/100, train_loss: 5548735.054409495\n",
      "best_val_loss: 5179142.557662, epoch: 13, best_epoch: 13, current_patience: 20\n"
     ]
    },
    {
     "name": "stderr",
     "output_type": "stream",
     "text": [
      "Epoch 14: 100%|███████████████████████████████████████████████████████████████████████████████████████████████████████████| 10/10 [00:02<00:00,  3.65batch/s]\n",
      "Epoch 14: 100%|█████████████████████████████████████████████████████████████████████████████████████████████████████████████| 1/1 [00:02<00:00,  2.68s/batch]\n"
     ]
    },
    {
     "name": "stdout",
     "output_type": "stream",
     "text": [
      "Epoch 14/100, train_loss: 4937961.331538299\n",
      "best_val_loss: 4604536.887999, epoch: 14, best_epoch: 14, current_patience: 20\n"
     ]
    },
    {
     "name": "stderr",
     "output_type": "stream",
     "text": [
      "Epoch 15: 100%|███████████████████████████████████████████████████████████████████████████████████████████████████████████| 10/10 [00:02<00:00,  3.62batch/s]\n",
      "Epoch 15: 100%|█████████████████████████████████████████████████████████████████████████████████████████████████████████████| 1/1 [00:02<00:00,  2.65s/batch]\n"
     ]
    },
    {
     "name": "stdout",
     "output_type": "stream",
     "text": [
      "Epoch 15/100, train_loss: 4386468.73204012\n",
      "best_val_loss: 4079777.805632, epoch: 15, best_epoch: 15, current_patience: 20\n"
     ]
    },
    {
     "name": "stderr",
     "output_type": "stream",
     "text": [
      "Epoch 16: 100%|███████████████████████████████████████████████████████████████████████████████████████████████████████████| 10/10 [00:02<00:00,  3.65batch/s]\n",
      "Epoch 16: 100%|█████████████████████████████████████████████████████████████████████████████████████████████████████████████| 1/1 [00:02<00:00,  2.62s/batch]\n"
     ]
    },
    {
     "name": "stdout",
     "output_type": "stream",
     "text": [
      "Epoch 16/100, train_loss: 3894575.2919711433\n",
      "best_val_loss: 3643346.170393, epoch: 16, best_epoch: 16, current_patience: 20\n"
     ]
    },
    {
     "name": "stderr",
     "output_type": "stream",
     "text": [
      "Epoch 17: 100%|███████████████████████████████████████████████████████████████████████████████████████████████████████████| 10/10 [00:02<00:00,  3.58batch/s]\n",
      "Epoch 17: 100%|█████████████████████████████████████████████████████████████████████████████████████████████████████████████| 1/1 [00:02<00:00,  2.61s/batch]\n"
     ]
    },
    {
     "name": "stdout",
     "output_type": "stream",
     "text": [
      "Epoch 17/100, train_loss: 3472827.8126060083\n",
      "best_val_loss: 3241650.664038, epoch: 17, best_epoch: 17, current_patience: 20\n"
     ]
    },
    {
     "name": "stderr",
     "output_type": "stream",
     "text": [
      "Epoch 18: 100%|███████████████████████████████████████████████████████████████████████████████████████████████████████████| 10/10 [00:02<00:00,  3.68batch/s]\n",
      "Epoch 18: 100%|█████████████████████████████████████████████████████████████████████████████████████████████████████████████| 1/1 [00:02<00:00,  2.64s/batch]\n"
     ]
    },
    {
     "name": "stdout",
     "output_type": "stream",
     "text": [
      "Epoch 18/100, train_loss: 3086662.0857348545\n",
      "best_val_loss: 2866779.899259, epoch: 18, best_epoch: 18, current_patience: 20\n"
     ]
    },
    {
     "name": "stderr",
     "output_type": "stream",
     "text": [
      "Epoch 19: 100%|███████████████████████████████████████████████████████████████████████████████████████████████████████████| 10/10 [00:02<00:00,  3.62batch/s]\n",
      "Epoch 19: 100%|█████████████████████████████████████████████████████████████████████████████████████████████████████████████| 1/1 [00:02<00:00,  2.59s/batch]\n"
     ]
    },
    {
     "name": "stdout",
     "output_type": "stream",
     "text": [
      "Epoch 19/100, train_loss: 2715350.149288714\n",
      "best_val_loss: 2523998.630157, epoch: 19, best_epoch: 19, current_patience: 20\n"
     ]
    },
    {
     "name": "stderr",
     "output_type": "stream",
     "text": [
      "Epoch 20: 100%|███████████████████████████████████████████████████████████████████████████████████████████████████████████| 10/10 [00:02<00:00,  3.68batch/s]\n",
      "Epoch 20: 100%|█████████████████████████████████████████████████████████████████████████████████████████████████████████████| 1/1 [00:02<00:00,  2.65s/batch]\n"
     ]
    },
    {
     "name": "stdout",
     "output_type": "stream",
     "text": [
      "Epoch 20/100, train_loss: 2383789.881842511\n",
      "best_val_loss: 2209511.704736, epoch: 20, best_epoch: 20, current_patience: 20\n"
     ]
    },
    {
     "name": "stderr",
     "output_type": "stream",
     "text": [
      "Epoch 21: 100%|███████████████████████████████████████████████████████████████████████████████████████████████████████████| 10/10 [00:02<00:00,  3.71batch/s]\n",
      "Epoch 21: 100%|█████████████████████████████████████████████████████████████████████████████████████████████████████████████| 1/1 [00:02<00:00,  2.63s/batch]\n"
     ]
    },
    {
     "name": "stdout",
     "output_type": "stream",
     "text": [
      "Epoch 21/100, train_loss: 2084659.5484111982\n",
      "best_val_loss: 1924058.433499, epoch: 21, best_epoch: 21, current_patience: 20\n"
     ]
    },
    {
     "name": "stderr",
     "output_type": "stream",
     "text": [
      "Epoch 22: 100%|███████████████████████████████████████████████████████████████████████████████████████████████████████████| 10/10 [00:02<00:00,  3.73batch/s]\n",
      "Epoch 22: 100%|█████████████████████████████████████████████████████████████████████████████████████████████████████████████| 1/1 [00:02<00:00,  2.66s/batch]\n"
     ]
    },
    {
     "name": "stdout",
     "output_type": "stream",
     "text": [
      "Epoch 22/100, train_loss: 1812933.0279368311\n",
      "best_val_loss: 1673927.400288, epoch: 22, best_epoch: 22, current_patience: 20\n"
     ]
    },
    {
     "name": "stderr",
     "output_type": "stream",
     "text": [
      "Epoch 23: 100%|███████████████████████████████████████████████████████████████████████████████████████████████████████████| 10/10 [00:02<00:00,  3.62batch/s]\n",
      "Epoch 23: 100%|█████████████████████████████████████████████████████████████████████████████████████████████████████████████| 1/1 [00:02<00:00,  2.63s/batch]\n"
     ]
    },
    {
     "name": "stdout",
     "output_type": "stream",
     "text": [
      "Epoch 23/100, train_loss: 1579360.4143240177\n",
      "best_val_loss: 1453625.600878, epoch: 23, best_epoch: 23, current_patience: 20\n"
     ]
    },
    {
     "name": "stderr",
     "output_type": "stream",
     "text": [
      "Epoch 24: 100%|███████████████████████████████████████████████████████████████████████████████████████████████████████████| 10/10 [00:02<00:00,  3.62batch/s]\n",
      "Epoch 24: 100%|█████████████████████████████████████████████████████████████████████████████████████████████████████████████| 1/1 [00:02<00:00,  2.63s/batch]\n"
     ]
    },
    {
     "name": "stdout",
     "output_type": "stream",
     "text": [
      "Epoch 24/100, train_loss: 1367075.732591137\n",
      "best_val_loss: 1260655.856385, epoch: 24, best_epoch: 24, current_patience: 20\n"
     ]
    },
    {
     "name": "stderr",
     "output_type": "stream",
     "text": [
      "Epoch 25: 100%|███████████████████████████████████████████████████████████████████████████████████████████████████████████| 10/10 [00:02<00:00,  3.58batch/s]\n",
      "Epoch 25: 100%|█████████████████████████████████████████████████████████████████████████████████████████████████████████████| 1/1 [00:02<00:00,  2.58s/batch]\n"
     ]
    },
    {
     "name": "stdout",
     "output_type": "stream",
     "text": [
      "Epoch 25/100, train_loss: 1181817.6603891347\n",
      "best_val_loss: 1090605.414046, epoch: 25, best_epoch: 25, current_patience: 20\n"
     ]
    },
    {
     "name": "stderr",
     "output_type": "stream",
     "text": [
      "Epoch 26: 100%|███████████████████████████████████████████████████████████████████████████████████████████████████████████| 10/10 [00:02<00:00,  3.68batch/s]\n",
      "Epoch 26: 100%|█████████████████████████████████████████████████████████████████████████████████████████████████████████████| 1/1 [00:02<00:00,  2.66s/batch]\n"
     ]
    },
    {
     "name": "stdout",
     "output_type": "stream",
     "text": [
      "Epoch 26/100, train_loss: 1016073.9265359336\n",
      "best_val_loss: 938316.633756, epoch: 26, best_epoch: 26, current_patience: 20\n"
     ]
    },
    {
     "name": "stderr",
     "output_type": "stream",
     "text": [
      "Epoch 27: 100%|███████████████████████████████████████████████████████████████████████████████████████████████████████████| 10/10 [00:02<00:00,  3.64batch/s]\n",
      "Epoch 27: 100%|█████████████████████████████████████████████████████████████████████████████████████████████████████████████| 1/1 [00:02<00:00,  2.57s/batch]\n"
     ]
    },
    {
     "name": "stdout",
     "output_type": "stream",
     "text": [
      "Epoch 27/100, train_loss: 871887.9871126903\n",
      "best_val_loss: 812915.073652, epoch: 27, best_epoch: 27, current_patience: 20\n"
     ]
    },
    {
     "name": "stderr",
     "output_type": "stream",
     "text": [
      "Epoch 28: 100%|███████████████████████████████████████████████████████████████████████████████████████████████████████████| 10/10 [00:02<00:00,  3.70batch/s]\n",
      "Epoch 28: 100%|█████████████████████████████████████████████████████████████████████████████████████████████████████████████| 1/1 [00:02<00:00,  2.68s/batch]\n"
     ]
    },
    {
     "name": "stdout",
     "output_type": "stream",
     "text": [
      "Epoch 28/100, train_loss: 753505.2830048666\n",
      "best_val_loss: 686981.956099, epoch: 28, best_epoch: 28, current_patience: 20\n"
     ]
    },
    {
     "name": "stderr",
     "output_type": "stream",
     "text": [
      "Epoch 29: 100%|███████████████████████████████████████████████████████████████████████████████████████████████████████████| 10/10 [00:02<00:00,  3.73batch/s]\n",
      "Epoch 29: 100%|█████████████████████████████████████████████████████████████████████████████████████████████████████████████| 1/1 [00:02<00:00,  2.63s/batch]\n"
     ]
    },
    {
     "name": "stdout",
     "output_type": "stream",
     "text": [
      "Epoch 29/100, train_loss: 652444.4463822161\n",
      "best_val_loss: 608095.856408, epoch: 29, best_epoch: 29, current_patience: 20\n"
     ]
    },
    {
     "name": "stderr",
     "output_type": "stream",
     "text": [
      "Epoch 30: 100%|███████████████████████████████████████████████████████████████████████████████████████████████████████████| 10/10 [00:02<00:00,  3.60batch/s]\n",
      "Epoch 30: 100%|█████████████████████████████████████████████████████████████████████████████████████████████████████████████| 1/1 [00:02<00:00,  2.60s/batch]\n"
     ]
    },
    {
     "name": "stdout",
     "output_type": "stream",
     "text": [
      "Epoch 30/100, train_loss: 570129.9186110653\n",
      "best_val_loss: 531323.999434, epoch: 30, best_epoch: 30, current_patience: 20\n"
     ]
    },
    {
     "name": "stderr",
     "output_type": "stream",
     "text": [
      "Epoch 31: 100%|███████████████████████████████████████████████████████████████████████████████████████████████████████████| 10/10 [00:02<00:00,  3.73batch/s]\n",
      "Epoch 31: 100%|█████████████████████████████████████████████████████████████████████████████████████████████████████████████| 1/1 [00:02<00:00,  2.64s/batch]\n"
     ]
    },
    {
     "name": "stdout",
     "output_type": "stream",
     "text": [
      "Epoch 31/100, train_loss: 501117.51135883766\n",
      "best_val_loss: 478327.046092, epoch: 31, best_epoch: 31, current_patience: 20\n"
     ]
    },
    {
     "name": "stderr",
     "output_type": "stream",
     "text": [
      "Epoch 32: 100%|███████████████████████████████████████████████████████████████████████████████████████████████████████████| 10/10 [00:02<00:00,  3.65batch/s]\n",
      "Epoch 32: 100%|█████████████████████████████████████████████████████████████████████████████████████████████████████████████| 1/1 [00:02<00:00,  2.67s/batch]\n"
     ]
    },
    {
     "name": "stdout",
     "output_type": "stream",
     "text": [
      "Epoch 32/100, train_loss: 447964.4964607507\n",
      "best_val_loss: 424545.569594, epoch: 32, best_epoch: 32, current_patience: 20\n"
     ]
    },
    {
     "name": "stderr",
     "output_type": "stream",
     "text": [
      "Epoch 33: 100%|███████████████████████████████████████████████████████████████████████████████████████████████████████████| 10/10 [00:02<00:00,  3.57batch/s]\n",
      "Epoch 33: 100%|█████████████████████████████████████████████████████████████████████████████████████████████████████████████| 1/1 [00:02<00:00,  2.62s/batch]\n"
     ]
    },
    {
     "name": "stdout",
     "output_type": "stream",
     "text": [
      "Epoch 33/100, train_loss: 400786.1666676797\n",
      "best_val_loss: 381772.605048, epoch: 33, best_epoch: 33, current_patience: 20\n"
     ]
    },
    {
     "name": "stderr",
     "output_type": "stream",
     "text": [
      "Epoch 34: 100%|███████████████████████████████████████████████████████████████████████████████████████████████████████████| 10/10 [00:02<00:00,  3.64batch/s]\n",
      "Epoch 34: 100%|█████████████████████████████████████████████████████████████████████████████████████████████████████████████| 1/1 [00:02<00:00,  2.63s/batch]\n"
     ]
    },
    {
     "name": "stdout",
     "output_type": "stream",
     "text": [
      "Epoch 34/100, train_loss: 362984.087279273\n",
      "best_val_loss: 346566.92267, epoch: 34, best_epoch: 34, current_patience: 20\n"
     ]
    },
    {
     "name": "stderr",
     "output_type": "stream",
     "text": [
      "Epoch 35: 100%|███████████████████████████████████████████████████████████████████████████████████████████████████████████| 10/10 [00:02<00:00,  3.59batch/s]\n",
      "Epoch 35: 100%|█████████████████████████████████████████████████████████████████████████████████████████████████████████████| 1/1 [00:02<00:00,  2.62s/batch]\n"
     ]
    },
    {
     "name": "stdout",
     "output_type": "stream",
     "text": [
      "Epoch 35/100, train_loss: 331871.9593307438\n",
      "best_val_loss: 318762.179081, epoch: 35, best_epoch: 35, current_patience: 20\n"
     ]
    },
    {
     "name": "stderr",
     "output_type": "stream",
     "text": [
      "Epoch 36: 100%|███████████████████████████████████████████████████████████████████████████████████████████████████████████| 10/10 [00:02<00:00,  3.63batch/s]\n",
      "Epoch 36: 100%|█████████████████████████████████████████████████████████████████████████████████████████████████████████████| 1/1 [00:02<00:00,  2.65s/batch]\n"
     ]
    },
    {
     "name": "stdout",
     "output_type": "stream",
     "text": [
      "Epoch 36/100, train_loss: 305179.91259512154\n",
      "best_val_loss: 300376.566317, epoch: 36, best_epoch: 36, current_patience: 20\n"
     ]
    },
    {
     "name": "stderr",
     "output_type": "stream",
     "text": [
      "Epoch 37: 100%|███████████████████████████████████████████████████████████████████████████████████████████████████████████| 10/10 [00:02<00:00,  3.76batch/s]\n",
      "Epoch 37: 100%|█████████████████████████████████████████████████████████████████████████████████████████████████████████████| 1/1 [00:02<00:00,  2.60s/batch]\n"
     ]
    },
    {
     "name": "stdout",
     "output_type": "stream",
     "text": [
      "Epoch 37/100, train_loss: 284401.98364885565\n",
      "best_val_loss: 278708.787662, epoch: 37, best_epoch: 37, current_patience: 20\n"
     ]
    },
    {
     "name": "stderr",
     "output_type": "stream",
     "text": [
      "Epoch 38: 100%|███████████████████████████████████████████████████████████████████████████████████████████████████████████| 10/10 [00:02<00:00,  3.72batch/s]\n",
      "Epoch 38: 100%|█████████████████████████████████████████████████████████████████████████████████████████████████████████████| 1/1 [00:02<00:00,  2.58s/batch]\n"
     ]
    },
    {
     "name": "stdout",
     "output_type": "stream",
     "text": [
      "Epoch 38/100, train_loss: 268804.1579307878\n",
      "best_val_loss: 268690.855156, epoch: 38, best_epoch: 38, current_patience: 20\n"
     ]
    },
    {
     "name": "stderr",
     "output_type": "stream",
     "text": [
      "Epoch 39: 100%|███████████████████████████████████████████████████████████████████████████████████████████████████████████| 10/10 [00:02<00:00,  3.66batch/s]\n",
      "Epoch 39: 100%|█████████████████████████████████████████████████████████████████████████████████████████████████████████████| 1/1 [00:02<00:00,  2.65s/batch]\n"
     ]
    },
    {
     "name": "stdout",
     "output_type": "stream",
     "text": [
      "Epoch 39/100, train_loss: 256001.30833072375\n",
      "best_val_loss: 251287.945349, epoch: 39, best_epoch: 39, current_patience: 20\n"
     ]
    },
    {
     "name": "stderr",
     "output_type": "stream",
     "text": [
      "Epoch 40: 100%|███████████████████████████████████████████████████████████████████████████████████████████████████████████| 10/10 [00:02<00:00,  3.59batch/s]\n",
      "Epoch 40: 100%|█████████████████████████████████████████████████████████████████████████████████████████████████████████████| 1/1 [00:02<00:00,  2.65s/batch]\n"
     ]
    },
    {
     "name": "stdout",
     "output_type": "stream",
     "text": [
      "Epoch 40/100, train_loss: 239110.95639893456\n",
      "best_val_loss: 233243.533079, epoch: 40, best_epoch: 40, current_patience: 20\n"
     ]
    },
    {
     "name": "stderr",
     "output_type": "stream",
     "text": [
      "Epoch 41: 100%|███████████████████████████████████████████████████████████████████████████████████████████████████████████| 10/10 [00:02<00:00,  3.65batch/s]\n",
      "Epoch 41: 100%|█████████████████████████████████████████████████████████████████████████████████████████████████████████████| 1/1 [00:02<00:00,  2.65s/batch]\n"
     ]
    },
    {
     "name": "stdout",
     "output_type": "stream",
     "text": [
      "Epoch 41/100, train_loss: 231486.5221916247\n",
      "best_val_loss: 233243.533079, epoch: 41, best_epoch: 40, current_patience: 19\n"
     ]
    },
    {
     "name": "stderr",
     "output_type": "stream",
     "text": [
      "Epoch 42: 100%|███████████████████████████████████████████████████████████████████████████████████████████████████████████| 10/10 [00:02<00:00,  3.70batch/s]\n",
      "Epoch 42: 100%|█████████████████████████████████████████████████████████████████████████████████████████████████████████████| 1/1 [00:02<00:00,  2.63s/batch]\n"
     ]
    },
    {
     "name": "stdout",
     "output_type": "stream",
     "text": [
      "Epoch 42/100, train_loss: 227936.96126156743\n",
      "best_val_loss: 228686.791241, epoch: 42, best_epoch: 42, current_patience: 20\n"
     ]
    },
    {
     "name": "stderr",
     "output_type": "stream",
     "text": [
      "Epoch 43: 100%|███████████████████████████████████████████████████████████████████████████████████████████████████████████| 10/10 [00:02<00:00,  3.64batch/s]\n",
      "Epoch 43: 100%|█████████████████████████████████████████████████████████████████████████████████████████████████████████████| 1/1 [00:02<00:00,  2.62s/batch]\n"
     ]
    },
    {
     "name": "stdout",
     "output_type": "stream",
     "text": [
      "Epoch 43/100, train_loss: 221459.1511819222\n",
      "best_val_loss: 222679.015539, epoch: 43, best_epoch: 43, current_patience: 20\n"
     ]
    },
    {
     "name": "stderr",
     "output_type": "stream",
     "text": [
      "Epoch 44: 100%|███████████████████████████████████████████████████████████████████████████████████████████████████████████| 10/10 [00:02<00:00,  3.57batch/s]\n",
      "Epoch 44: 100%|█████████████████████████████████████████████████████████████████████████████████████████████████████████████| 1/1 [00:02<00:00,  2.61s/batch]\n"
     ]
    },
    {
     "name": "stdout",
     "output_type": "stream",
     "text": [
      "Epoch 44/100, train_loss: 213565.45105686435\n",
      "best_val_loss: 215580.113511, epoch: 44, best_epoch: 44, current_patience: 20\n"
     ]
    },
    {
     "name": "stderr",
     "output_type": "stream",
     "text": [
      "Epoch 45: 100%|███████████████████████████████████████████████████████████████████████████████████████████████████████████| 10/10 [00:02<00:00,  3.66batch/s]\n",
      "Epoch 45: 100%|█████████████████████████████████████████████████████████████████████████████████████████████████████████████| 1/1 [00:02<00:00,  2.68s/batch]\n"
     ]
    },
    {
     "name": "stdout",
     "output_type": "stream",
     "text": [
      "Epoch 45/100, train_loss: 213248.59390739107\n",
      "best_val_loss: 215580.113511, epoch: 45, best_epoch: 44, current_patience: 19\n"
     ]
    },
    {
     "name": "stderr",
     "output_type": "stream",
     "text": [
      "Epoch 46: 100%|███████████████████████████████████████████████████████████████████████████████████████████████████████████| 10/10 [00:02<00:00,  3.67batch/s]\n",
      "Epoch 46: 100%|█████████████████████████████████████████████████████████████████████████████████████████████████████████████| 1/1 [00:02<00:00,  2.67s/batch]\n"
     ]
    },
    {
     "name": "stdout",
     "output_type": "stream",
     "text": [
      "Epoch 46/100, train_loss: 208054.42190023686\n",
      "best_val_loss: 207210.127242, epoch: 46, best_epoch: 46, current_patience: 20\n"
     ]
    },
    {
     "name": "stderr",
     "output_type": "stream",
     "text": [
      "Epoch 47: 100%|███████████████████████████████████████████████████████████████████████████████████████████████████████████| 10/10 [00:02<00:00,  3.68batch/s]\n",
      "Epoch 47: 100%|█████████████████████████████████████████████████████████████████████████████████████████████████████████████| 1/1 [00:02<00:00,  2.65s/batch]\n"
     ]
    },
    {
     "name": "stdout",
     "output_type": "stream",
     "text": [
      "Epoch 47/100, train_loss: 204540.598930482\n",
      "best_val_loss: 206391.702601, epoch: 47, best_epoch: 47, current_patience: 20\n"
     ]
    },
    {
     "name": "stderr",
     "output_type": "stream",
     "text": [
      "Epoch 48: 100%|███████████████████████████████████████████████████████████████████████████████████████████████████████████| 10/10 [00:02<00:00,  3.65batch/s]\n",
      "Epoch 48: 100%|█████████████████████████████████████████████████████████████████████████████████████████████████████████████| 1/1 [00:02<00:00,  2.59s/batch]\n"
     ]
    },
    {
     "name": "stdout",
     "output_type": "stream",
     "text": [
      "Epoch 48/100, train_loss: 204159.44769441048\n",
      "best_val_loss: 206391.702601, epoch: 48, best_epoch: 47, current_patience: 19\n"
     ]
    },
    {
     "name": "stderr",
     "output_type": "stream",
     "text": [
      "Epoch 49: 100%|███████████████████████████████████████████████████████████████████████████████████████████████████████████| 10/10 [00:02<00:00,  3.65batch/s]\n",
      "Epoch 49: 100%|█████████████████████████████████████████████████████████████████████████████████████████████████████████████| 1/1 [00:02<00:00,  2.63s/batch]\n"
     ]
    },
    {
     "name": "stdout",
     "output_type": "stream",
     "text": [
      "Epoch 49/100, train_loss: 203124.4082094656\n",
      "best_val_loss: 206391.702601, epoch: 49, best_epoch: 47, current_patience: 18\n"
     ]
    },
    {
     "name": "stderr",
     "output_type": "stream",
     "text": [
      "Epoch 50: 100%|███████████████████████████████████████████████████████████████████████████████████████████████████████████| 10/10 [00:02<00:00,  3.69batch/s]\n",
      "Epoch 50: 100%|█████████████████████████████████████████████████████████████████████████████████████████████████████████████| 1/1 [00:02<00:00,  2.61s/batch]\n"
     ]
    },
    {
     "name": "stdout",
     "output_type": "stream",
     "text": [
      "Epoch 50/100, train_loss: 203907.61350262334\n",
      "best_val_loss: 205629.774983, epoch: 50, best_epoch: 50, current_patience: 20\n"
     ]
    },
    {
     "name": "stderr",
     "output_type": "stream",
     "text": [
      "Epoch 51: 100%|███████████████████████████████████████████████████████████████████████████████████████████████████████████| 10/10 [00:02<00:00,  3.69batch/s]\n",
      "Epoch 51: 100%|█████████████████████████████████████████████████████████████████████████████████████████████████████████████| 1/1 [00:02<00:00,  2.64s/batch]\n"
     ]
    },
    {
     "name": "stdout",
     "output_type": "stream",
     "text": [
      "Epoch 51/100, train_loss: 204089.01299171953\n",
      "best_val_loss: 205629.774983, epoch: 51, best_epoch: 50, current_patience: 19\n"
     ]
    },
    {
     "name": "stderr",
     "output_type": "stream",
     "text": [
      "Epoch 52: 100%|███████████████████████████████████████████████████████████████████████████████████████████████████████████| 10/10 [00:02<00:00,  3.61batch/s]\n",
      "Epoch 52: 100%|█████████████████████████████████████████████████████████████████████████████████████████████████████████████| 1/1 [00:02<00:00,  2.64s/batch]\n"
     ]
    },
    {
     "name": "stdout",
     "output_type": "stream",
     "text": [
      "Epoch 52/100, train_loss: 203186.0158468885\n",
      "best_val_loss: 201866.343819, epoch: 52, best_epoch: 52, current_patience: 20\n"
     ]
    },
    {
     "name": "stderr",
     "output_type": "stream",
     "text": [
      "Epoch 53: 100%|███████████████████████████████████████████████████████████████████████████████████████████████████████████| 10/10 [00:02<00:00,  3.58batch/s]\n",
      "Epoch 53: 100%|█████████████████████████████████████████████████████████████████████████████████████████████████████████████| 1/1 [00:02<00:00,  2.64s/batch]\n"
     ]
    },
    {
     "name": "stdout",
     "output_type": "stream",
     "text": [
      "Epoch 53/100, train_loss: 199028.58032119434\n",
      "best_val_loss: 200641.449945, epoch: 53, best_epoch: 53, current_patience: 20\n"
     ]
    },
    {
     "name": "stderr",
     "output_type": "stream",
     "text": [
      "Epoch 54: 100%|███████████████████████████████████████████████████████████████████████████████████████████████████████████| 10/10 [00:02<00:00,  3.61batch/s]\n",
      "Epoch 54: 100%|█████████████████████████████████████████████████████████████████████████████████████████████████████████████| 1/1 [00:02<00:00,  2.61s/batch]\n"
     ]
    },
    {
     "name": "stdout",
     "output_type": "stream",
     "text": [
      "Epoch 54/100, train_loss: 199396.933363784\n",
      "best_val_loss: 200641.449945, epoch: 54, best_epoch: 53, current_patience: 19\n"
     ]
    },
    {
     "name": "stderr",
     "output_type": "stream",
     "text": [
      "Epoch 55: 100%|███████████████████████████████████████████████████████████████████████████████████████████████████████████| 10/10 [00:02<00:00,  3.67batch/s]\n",
      "Epoch 55: 100%|█████████████████████████████████████████████████████████████████████████████████████████████████████████████| 1/1 [00:02<00:00,  2.63s/batch]\n"
     ]
    },
    {
     "name": "stdout",
     "output_type": "stream",
     "text": [
      "Epoch 55/100, train_loss: 199186.45776082706\n",
      "best_val_loss: 200641.449945, epoch: 55, best_epoch: 53, current_patience: 18\n"
     ]
    },
    {
     "name": "stderr",
     "output_type": "stream",
     "text": [
      "Epoch 56: 100%|███████████████████████████████████████████████████████████████████████████████████████████████████████████| 10/10 [00:02<00:00,  3.66batch/s]\n",
      "Epoch 56: 100%|█████████████████████████████████████████████████████████████████████████████████████████████████████████████| 1/1 [00:02<00:00,  2.64s/batch]\n"
     ]
    },
    {
     "name": "stdout",
     "output_type": "stream",
     "text": [
      "Epoch 56/100, train_loss: 200527.48485648903\n",
      "best_val_loss: 200641.449945, epoch: 56, best_epoch: 53, current_patience: 17\n"
     ]
    },
    {
     "name": "stderr",
     "output_type": "stream",
     "text": [
      "Epoch 57: 100%|███████████████████████████████████████████████████████████████████████████████████████████████████████████| 10/10 [00:02<00:00,  3.69batch/s]\n",
      "Epoch 57: 100%|█████████████████████████████████████████████████████████████████████████████████████████████████████████████| 1/1 [00:02<00:00,  2.61s/batch]\n"
     ]
    },
    {
     "name": "stdout",
     "output_type": "stream",
     "text": [
      "Epoch 57/100, train_loss: 200459.64717879053\n",
      "best_val_loss: 200641.449945, epoch: 57, best_epoch: 53, current_patience: 16\n"
     ]
    },
    {
     "name": "stderr",
     "output_type": "stream",
     "text": [
      "Epoch 58: 100%|███████████████████████████████████████████████████████████████████████████████████████████████████████████| 10/10 [00:02<00:00,  3.60batch/s]\n",
      "Epoch 58: 100%|█████████████████████████████████████████████████████████████████████████████████████████████████████████████| 1/1 [00:02<00:00,  2.61s/batch]\n"
     ]
    },
    {
     "name": "stdout",
     "output_type": "stream",
     "text": [
      "Epoch 58/100, train_loss: 196242.68271637525\n",
      "best_val_loss: 200641.449945, epoch: 58, best_epoch: 53, current_patience: 15\n"
     ]
    },
    {
     "name": "stderr",
     "output_type": "stream",
     "text": [
      "Epoch 59: 100%|███████████████████████████████████████████████████████████████████████████████████████████████████████████| 10/10 [00:02<00:00,  3.66batch/s]\n",
      "Epoch 59: 100%|█████████████████████████████████████████████████████████████████████████████████████████████████████████████| 1/1 [00:02<00:00,  2.62s/batch]\n"
     ]
    },
    {
     "name": "stdout",
     "output_type": "stream",
     "text": [
      "Epoch 59/100, train_loss: 198916.81106912374\n",
      "best_val_loss: 199557.666948, epoch: 59, best_epoch: 59, current_patience: 20\n"
     ]
    },
    {
     "name": "stderr",
     "output_type": "stream",
     "text": [
      "Epoch 60: 100%|███████████████████████████████████████████████████████████████████████████████████████████████████████████| 10/10 [00:02<00:00,  3.71batch/s]\n",
      "Epoch 60: 100%|█████████████████████████████████████████████████████████████████████████████████████████████████████████████| 1/1 [00:02<00:00,  2.61s/batch]\n"
     ]
    },
    {
     "name": "stdout",
     "output_type": "stream",
     "text": [
      "Epoch 60/100, train_loss: 199996.98303006426\n",
      "best_val_loss: 199557.666948, epoch: 60, best_epoch: 59, current_patience: 19\n"
     ]
    },
    {
     "name": "stderr",
     "output_type": "stream",
     "text": [
      "Epoch 61: 100%|███████████████████████████████████████████████████████████████████████████████████████████████████████████| 10/10 [00:02<00:00,  3.67batch/s]\n",
      "Epoch 61: 100%|█████████████████████████████████████████████████████████████████████████████████████████████████████████████| 1/1 [00:02<00:00,  2.63s/batch]\n"
     ]
    },
    {
     "name": "stdout",
     "output_type": "stream",
     "text": [
      "Epoch 61/100, train_loss: 200902.62998609804\n",
      "best_val_loss: 199557.666948, epoch: 61, best_epoch: 59, current_patience: 18\n"
     ]
    },
    {
     "name": "stderr",
     "output_type": "stream",
     "text": [
      "Epoch 62: 100%|███████████████████████████████████████████████████████████████████████████████████████████████████████████| 10/10 [00:02<00:00,  3.71batch/s]\n",
      "Epoch 62: 100%|█████████████████████████████████████████████████████████████████████████████████████████████████████████████| 1/1 [00:02<00:00,  2.61s/batch]\n"
     ]
    },
    {
     "name": "stdout",
     "output_type": "stream",
     "text": [
      "Epoch 62/100, train_loss: 200903.05152525514\n",
      "best_val_loss: 199557.666948, epoch: 62, best_epoch: 59, current_patience: 17\n"
     ]
    },
    {
     "name": "stderr",
     "output_type": "stream",
     "text": [
      "Epoch 63: 100%|███████████████████████████████████████████████████████████████████████████████████████████████████████████| 10/10 [00:02<00:00,  3.66batch/s]\n",
      "Epoch 63: 100%|█████████████████████████████████████████████████████████████████████████████████████████████████████████████| 1/1 [00:02<00:00,  2.61s/batch]\n"
     ]
    },
    {
     "name": "stdout",
     "output_type": "stream",
     "text": [
      "Epoch 63/100, train_loss: 199758.04012416367\n",
      "best_val_loss: 199557.666948, epoch: 63, best_epoch: 59, current_patience: 16\n"
     ]
    },
    {
     "name": "stderr",
     "output_type": "stream",
     "text": [
      "Epoch 64: 100%|███████████████████████████████████████████████████████████████████████████████████████████████████████████| 10/10 [00:02<00:00,  3.69batch/s]\n",
      "Epoch 64: 100%|█████████████████████████████████████████████████████████████████████████████████████████████████████████████| 1/1 [00:02<00:00,  2.62s/batch]\n"
     ]
    },
    {
     "name": "stdout",
     "output_type": "stream",
     "text": [
      "Epoch 64/100, train_loss: 198710.46589607288\n",
      "best_val_loss: 199557.666948, epoch: 64, best_epoch: 59, current_patience: 15\n"
     ]
    },
    {
     "name": "stderr",
     "output_type": "stream",
     "text": [
      "Epoch 65: 100%|███████████████████████████████████████████████████████████████████████████████████████████████████████████| 10/10 [00:02<00:00,  3.66batch/s]\n",
      "Epoch 65: 100%|█████████████████████████████████████████████████████████████████████████████████████████████████████████████| 1/1 [00:02<00:00,  2.64s/batch]\n"
     ]
    },
    {
     "name": "stdout",
     "output_type": "stream",
     "text": [
      "Epoch 65/100, train_loss: 198961.06395979316\n",
      "best_val_loss: 199557.666948, epoch: 65, best_epoch: 59, current_patience: 14\n"
     ]
    },
    {
     "name": "stderr",
     "output_type": "stream",
     "text": [
      "Epoch 66: 100%|███████████████████████████████████████████████████████████████████████████████████████████████████████████| 10/10 [00:02<00:00,  3.68batch/s]\n",
      "Epoch 66: 100%|█████████████████████████████████████████████████████████████████████████████████████████████████████████████| 1/1 [00:02<00:00,  2.58s/batch]\n"
     ]
    },
    {
     "name": "stdout",
     "output_type": "stream",
     "text": [
      "Epoch 66/100, train_loss: 201551.28618819304\n",
      "best_val_loss: 199557.666948, epoch: 66, best_epoch: 59, current_patience: 13\n"
     ]
    },
    {
     "name": "stderr",
     "output_type": "stream",
     "text": [
      "Epoch 67: 100%|███████████████████████████████████████████████████████████████████████████████████████████████████████████| 10/10 [00:02<00:00,  3.61batch/s]\n",
      "Epoch 67: 100%|█████████████████████████████████████████████████████████████████████████████████████████████████████████████| 1/1 [00:02<00:00,  2.61s/batch]\n"
     ]
    },
    {
     "name": "stdout",
     "output_type": "stream",
     "text": [
      "Epoch 67/100, train_loss: 196755.6894573513\n",
      "best_val_loss: 199557.666948, epoch: 67, best_epoch: 59, current_patience: 12\n"
     ]
    },
    {
     "name": "stderr",
     "output_type": "stream",
     "text": [
      "Epoch 68: 100%|███████████████████████████████████████████████████████████████████████████████████████████████████████████| 10/10 [00:02<00:00,  3.61batch/s]\n",
      "Epoch 68: 100%|█████████████████████████████████████████████████████████████████████████████████████████████████████████████| 1/1 [00:02<00:00,  2.64s/batch]\n"
     ]
    },
    {
     "name": "stdout",
     "output_type": "stream",
     "text": [
      "Epoch 68/100, train_loss: 195015.70264748586\n",
      "best_val_loss: 199557.666948, epoch: 68, best_epoch: 59, current_patience: 11\n"
     ]
    },
    {
     "name": "stderr",
     "output_type": "stream",
     "text": [
      "Epoch 69: 100%|███████████████████████████████████████████████████████████████████████████████████████████████████████████| 10/10 [00:02<00:00,  3.62batch/s]\n",
      "Epoch 69: 100%|█████████████████████████████████████████████████████████████████████████████████████████████████████████████| 1/1 [00:02<00:00,  2.65s/batch]\n"
     ]
    },
    {
     "name": "stdout",
     "output_type": "stream",
     "text": [
      "Epoch 69/100, train_loss: 203294.07660691\n",
      "best_val_loss: 199557.666948, epoch: 69, best_epoch: 59, current_patience: 10\n"
     ]
    },
    {
     "name": "stderr",
     "output_type": "stream",
     "text": [
      "Epoch 70: 100%|███████████████████████████████████████████████████████████████████████████████████████████████████████████| 10/10 [00:02<00:00,  3.62batch/s]\n",
      "Epoch 70: 100%|█████████████████████████████████████████████████████████████████████████████████████████████████████████████| 1/1 [00:02<00:00,  2.60s/batch]\n"
     ]
    },
    {
     "name": "stdout",
     "output_type": "stream",
     "text": [
      "Epoch 70/100, train_loss: 197797.06595718133\n",
      "best_val_loss: 199361.298157, epoch: 70, best_epoch: 70, current_patience: 20\n"
     ]
    },
    {
     "name": "stderr",
     "output_type": "stream",
     "text": [
      "Epoch 71: 100%|███████████████████████████████████████████████████████████████████████████████████████████████████████████| 10/10 [00:02<00:00,  3.65batch/s]\n",
      "Epoch 71: 100%|█████████████████████████████████████████████████████████████████████████████████████████████████████████████| 1/1 [00:02<00:00,  2.61s/batch]\n"
     ]
    },
    {
     "name": "stdout",
     "output_type": "stream",
     "text": [
      "Epoch 71/100, train_loss: 197047.7833877056\n",
      "best_val_loss: 199361.298157, epoch: 71, best_epoch: 70, current_patience: 19\n"
     ]
    },
    {
     "name": "stderr",
     "output_type": "stream",
     "text": [
      "Epoch 72: 100%|███████████████████████████████████████████████████████████████████████████████████████████████████████████| 10/10 [00:02<00:00,  3.63batch/s]\n",
      "Epoch 72: 100%|█████████████████████████████████████████████████████████████████████████████████████████████████████████████| 1/1 [00:02<00:00,  2.62s/batch]\n"
     ]
    },
    {
     "name": "stdout",
     "output_type": "stream",
     "text": [
      "Epoch 72/100, train_loss: 197262.0631265015\n",
      "best_val_loss: 198606.257935, epoch: 72, best_epoch: 72, current_patience: 20\n"
     ]
    },
    {
     "name": "stderr",
     "output_type": "stream",
     "text": [
      "Epoch 73: 100%|███████████████████████████████████████████████████████████████████████████████████████████████████████████| 10/10 [00:02<00:00,  3.69batch/s]\n",
      "Epoch 73: 100%|█████████████████████████████████████████████████████████████████████████████████████████████████████████████| 1/1 [00:02<00:00,  2.64s/batch]\n"
     ]
    },
    {
     "name": "stdout",
     "output_type": "stream",
     "text": [
      "Epoch 73/100, train_loss: 199561.3420358284\n",
      "best_val_loss: 198606.257935, epoch: 73, best_epoch: 72, current_patience: 19\n"
     ]
    },
    {
     "name": "stderr",
     "output_type": "stream",
     "text": [
      "Epoch 74: 100%|███████████████████████████████████████████████████████████████████████████████████████████████████████████| 10/10 [00:02<00:00,  3.63batch/s]\n",
      "Epoch 74: 100%|█████████████████████████████████████████████████████████████████████████████████████████████████████████████| 1/1 [00:02<00:00,  2.65s/batch]\n"
     ]
    },
    {
     "name": "stdout",
     "output_type": "stream",
     "text": [
      "Epoch 74/100, train_loss: 197984.72813239787\n",
      "best_val_loss: 198606.257935, epoch: 74, best_epoch: 72, current_patience: 18\n"
     ]
    },
    {
     "name": "stderr",
     "output_type": "stream",
     "text": [
      "Epoch 75: 100%|███████████████████████████████████████████████████████████████████████████████████████████████████████████| 10/10 [00:02<00:00,  3.66batch/s]\n",
      "Epoch 75: 100%|█████████████████████████████████████████████████████████████████████████████████████████████████████████████| 1/1 [00:02<00:00,  2.63s/batch]\n"
     ]
    },
    {
     "name": "stdout",
     "output_type": "stream",
     "text": [
      "Epoch 75/100, train_loss: 197853.5811874222\n",
      "best_val_loss: 198606.257935, epoch: 75, best_epoch: 72, current_patience: 17\n"
     ]
    },
    {
     "name": "stderr",
     "output_type": "stream",
     "text": [
      "Epoch 76: 100%|███████████████████████████████████████████████████████████████████████████████████████████████████████████| 10/10 [00:02<00:00,  3.63batch/s]\n",
      "Epoch 76: 100%|█████████████████████████████████████████████████████████████████████████████████████████████████████████████| 1/1 [00:02<00:00,  2.64s/batch]\n"
     ]
    },
    {
     "name": "stdout",
     "output_type": "stream",
     "text": [
      "Epoch 76/100, train_loss: 194702.77571412738\n",
      "best_val_loss: 198606.257935, epoch: 76, best_epoch: 72, current_patience: 16\n"
     ]
    },
    {
     "name": "stderr",
     "output_type": "stream",
     "text": [
      "Epoch 77: 100%|███████████████████████████████████████████████████████████████████████████████████████████████████████████| 10/10 [00:02<00:00,  3.63batch/s]\n",
      "Epoch 77: 100%|█████████████████████████████████████████████████████████████████████████████████████████████████████████████| 1/1 [00:02<00:00,  2.66s/batch]\n"
     ]
    },
    {
     "name": "stdout",
     "output_type": "stream",
     "text": [
      "Epoch 77/100, train_loss: 198626.01790289723\n",
      "best_val_loss: 198606.257935, epoch: 77, best_epoch: 72, current_patience: 15\n"
     ]
    },
    {
     "name": "stderr",
     "output_type": "stream",
     "text": [
      "Epoch 78: 100%|███████████████████████████████████████████████████████████████████████████████████████████████████████████| 10/10 [00:02<00:00,  3.73batch/s]\n",
      "Epoch 78: 100%|█████████████████████████████████████████████████████████████████████████████████████████████████████████████| 1/1 [00:02<00:00,  2.64s/batch]\n"
     ]
    },
    {
     "name": "stdout",
     "output_type": "stream",
     "text": [
      "Epoch 78/100, train_loss: 200989.5336399761\n",
      "best_val_loss: 198606.257935, epoch: 78, best_epoch: 72, current_patience: 14\n"
     ]
    },
    {
     "name": "stderr",
     "output_type": "stream",
     "text": [
      "Epoch 79: 100%|███████████████████████████████████████████████████████████████████████████████████████████████████████████| 10/10 [00:02<00:00,  3.66batch/s]\n",
      "Epoch 79: 100%|█████████████████████████████████████████████████████████████████████████████████████████████████████████████| 1/1 [00:02<00:00,  2.64s/batch]\n"
     ]
    },
    {
     "name": "stdout",
     "output_type": "stream",
     "text": [
      "Epoch 79/100, train_loss: 198726.50947957445\n",
      "best_val_loss: 198606.257935, epoch: 79, best_epoch: 72, current_patience: 13\n"
     ]
    },
    {
     "name": "stderr",
     "output_type": "stream",
     "text": [
      "Epoch 80: 100%|███████████████████████████████████████████████████████████████████████████████████████████████████████████| 10/10 [00:02<00:00,  3.56batch/s]\n",
      "Epoch 80: 100%|█████████████████████████████████████████████████████████████████████████████████████████████████████████████| 1/1 [00:02<00:00,  2.61s/batch]\n"
     ]
    },
    {
     "name": "stdout",
     "output_type": "stream",
     "text": [
      "Epoch 80/100, train_loss: 196933.2488232952\n",
      "best_val_loss: 198606.257935, epoch: 80, best_epoch: 72, current_patience: 12\n"
     ]
    },
    {
     "name": "stderr",
     "output_type": "stream",
     "text": [
      "Epoch 81: 100%|███████████████████████████████████████████████████████████████████████████████████████████████████████████| 10/10 [00:02<00:00,  3.72batch/s]\n",
      "Epoch 81: 100%|█████████████████████████████████████████████████████████████████████████████████████████████████████████████| 1/1 [00:02<00:00,  2.61s/batch]\n"
     ]
    },
    {
     "name": "stdout",
     "output_type": "stream",
     "text": [
      "Epoch 81/100, train_loss: 194428.80414814717\n",
      "best_val_loss: 198606.257935, epoch: 81, best_epoch: 72, current_patience: 11\n"
     ]
    },
    {
     "name": "stderr",
     "output_type": "stream",
     "text": [
      "Epoch 82: 100%|███████████████████████████████████████████████████████████████████████████████████████████████████████████| 10/10 [00:02<00:00,  3.74batch/s]\n",
      "Epoch 82: 100%|█████████████████████████████████████████████████████████████████████████████████████████████████████████████| 1/1 [00:02<00:00,  2.61s/batch]\n"
     ]
    },
    {
     "name": "stdout",
     "output_type": "stream",
     "text": [
      "Epoch 82/100, train_loss: 197918.87348889132\n",
      "best_val_loss: 198606.257935, epoch: 82, best_epoch: 72, current_patience: 10\n"
     ]
    },
    {
     "name": "stderr",
     "output_type": "stream",
     "text": [
      "Epoch 83: 100%|███████████████████████████████████████████████████████████████████████████████████████████████████████████| 10/10 [00:02<00:00,  3.67batch/s]\n",
      "Epoch 83: 100%|█████████████████████████████████████████████████████████████████████████████████████████████████████████████| 1/1 [00:02<00:00,  2.61s/batch]\n"
     ]
    },
    {
     "name": "stdout",
     "output_type": "stream",
     "text": [
      "Epoch 83/100, train_loss: 196285.39282010257\n",
      "best_val_loss: 198606.257935, epoch: 83, best_epoch: 72, current_patience: 9\n"
     ]
    },
    {
     "name": "stderr",
     "output_type": "stream",
     "text": [
      "Epoch 84: 100%|███████████████████████████████████████████████████████████████████████████████████████████████████████████| 10/10 [00:02<00:00,  3.59batch/s]\n",
      "Epoch 84: 100%|█████████████████████████████████████████████████████████████████████████████████████████████████████████████| 1/1 [00:02<00:00,  2.61s/batch]\n"
     ]
    },
    {
     "name": "stdout",
     "output_type": "stream",
     "text": [
      "Epoch 84/100, train_loss: 195347.88909594377\n",
      "best_val_loss: 194679.23291, epoch: 84, best_epoch: 84, current_patience: 20\n"
     ]
    },
    {
     "name": "stderr",
     "output_type": "stream",
     "text": [
      "Epoch 85: 100%|███████████████████████████████████████████████████████████████████████████████████████████████████████████| 10/10 [00:02<00:00,  3.67batch/s]\n",
      "Epoch 85: 100%|█████████████████████████████████████████████████████████████████████████████████████████████████████████████| 1/1 [00:02<00:00,  2.59s/batch]\n"
     ]
    },
    {
     "name": "stdout",
     "output_type": "stream",
     "text": [
      "Epoch 85/100, train_loss: 193924.77129411884\n",
      "best_val_loss: 194679.23291, epoch: 85, best_epoch: 84, current_patience: 19\n"
     ]
    },
    {
     "name": "stderr",
     "output_type": "stream",
     "text": [
      "Epoch 86: 100%|███████████████████████████████████████████████████████████████████████████████████████████████████████████| 10/10 [00:02<00:00,  3.65batch/s]\n",
      "Epoch 86: 100%|█████████████████████████████████████████████████████████████████████████████████████████████████████████████| 1/1 [00:02<00:00,  2.64s/batch]\n"
     ]
    },
    {
     "name": "stdout",
     "output_type": "stream",
     "text": [
      "Epoch 86/100, train_loss: 194215.73926014977\n",
      "best_val_loss: 194679.23291, epoch: 86, best_epoch: 84, current_patience: 18\n"
     ]
    },
    {
     "name": "stderr",
     "output_type": "stream",
     "text": [
      "Epoch 87: 100%|███████████████████████████████████████████████████████████████████████████████████████████████████████████| 10/10 [00:02<00:00,  3.70batch/s]\n",
      "Epoch 87: 100%|█████████████████████████████████████████████████████████████████████████████████████████████████████████████| 1/1 [00:02<00:00,  2.66s/batch]\n"
     ]
    },
    {
     "name": "stdout",
     "output_type": "stream",
     "text": [
      "Epoch 87/100, train_loss: 193003.88543622586\n",
      "best_val_loss: 194679.23291, epoch: 87, best_epoch: 84, current_patience: 17\n"
     ]
    },
    {
     "name": "stderr",
     "output_type": "stream",
     "text": [
      "Epoch 88: 100%|███████████████████████████████████████████████████████████████████████████████████████████████████████████| 10/10 [00:02<00:00,  3.68batch/s]\n",
      "Epoch 88: 100%|█████████████████████████████████████████████████████████████████████████████████████████████████████████████| 1/1 [00:02<00:00,  2.65s/batch]\n"
     ]
    },
    {
     "name": "stdout",
     "output_type": "stream",
     "text": [
      "Epoch 88/100, train_loss: 193161.72340645432\n",
      "best_val_loss: 194679.23291, epoch: 88, best_epoch: 84, current_patience: 16\n"
     ]
    },
    {
     "name": "stderr",
     "output_type": "stream",
     "text": [
      "Epoch 89: 100%|███████████████████████████████████████████████████████████████████████████████████████████████████████████| 10/10 [00:02<00:00,  3.69batch/s]\n",
      "Epoch 89: 100%|█████████████████████████████████████████████████████████████████████████████████████████████████████████████| 1/1 [00:02<00:00,  2.65s/batch]\n"
     ]
    },
    {
     "name": "stdout",
     "output_type": "stream",
     "text": [
      "Epoch 89/100, train_loss: 192935.54581583626\n",
      "best_val_loss: 194679.23291, epoch: 89, best_epoch: 84, current_patience: 15\n"
     ]
    },
    {
     "name": "stderr",
     "output_type": "stream",
     "text": [
      "Epoch 90: 100%|███████████████████████████████████████████████████████████████████████████████████████████████████████████| 10/10 [00:02<00:00,  3.67batch/s]\n",
      "Epoch 90: 100%|█████████████████████████████████████████████████████████████████████████████████████████████████████████████| 1/1 [00:02<00:00,  2.63s/batch]\n"
     ]
    },
    {
     "name": "stdout",
     "output_type": "stream",
     "text": [
      "Epoch 90/100, train_loss: 192537.5700292787\n",
      "best_val_loss: 194679.23291, epoch: 90, best_epoch: 84, current_patience: 14\n"
     ]
    },
    {
     "name": "stderr",
     "output_type": "stream",
     "text": [
      "Epoch 91: 100%|███████████████████████████████████████████████████████████████████████████████████████████████████████████| 10/10 [00:02<00:00,  3.63batch/s]\n",
      "Epoch 91: 100%|█████████████████████████████████████████████████████████████████████████████████████████████████████████████| 1/1 [00:02<00:00,  2.63s/batch]\n"
     ]
    },
    {
     "name": "stdout",
     "output_type": "stream",
     "text": [
      "Epoch 91/100, train_loss: 194118.91246811868\n",
      "best_val_loss: 194679.23291, epoch: 91, best_epoch: 84, current_patience: 13\n"
     ]
    },
    {
     "name": "stderr",
     "output_type": "stream",
     "text": [
      "Epoch 92: 100%|███████████████████████████████████████████████████████████████████████████████████████████████████████████| 10/10 [00:02<00:00,  3.68batch/s]\n",
      "Epoch 92: 100%|█████████████████████████████████████████████████████████████████████████████████████████████████████████████| 1/1 [00:02<00:00,  2.63s/batch]\n"
     ]
    },
    {
     "name": "stdout",
     "output_type": "stream",
     "text": [
      "Epoch 92/100, train_loss: 194051.60374225207\n",
      "best_val_loss: 194679.23291, epoch: 92, best_epoch: 84, current_patience: 12\n"
     ]
    },
    {
     "name": "stderr",
     "output_type": "stream",
     "text": [
      "Epoch 93: 100%|███████████████████████████████████████████████████████████████████████████████████████████████████████████| 10/10 [00:02<00:00,  3.63batch/s]\n",
      "Epoch 93: 100%|█████████████████████████████████████████████████████████████████████████████████████████████████████████████| 1/1 [00:02<00:00,  2.65s/batch]\n"
     ]
    },
    {
     "name": "stdout",
     "output_type": "stream",
     "text": [
      "Epoch 93/100, train_loss: 193941.37931612498\n",
      "best_val_loss: 194679.23291, epoch: 93, best_epoch: 84, current_patience: 11\n"
     ]
    },
    {
     "name": "stderr",
     "output_type": "stream",
     "text": [
      "Epoch 94: 100%|███████████████████████████████████████████████████████████████████████████████████████████████████████████| 10/10 [00:02<00:00,  3.61batch/s]\n",
      "Epoch 94: 100%|█████████████████████████████████████████████████████████████████████████████████████████████████████████████| 1/1 [00:02<00:00,  2.61s/batch]\n"
     ]
    },
    {
     "name": "stdout",
     "output_type": "stream",
     "text": [
      "Epoch 94/100, train_loss: 193403.7126908851\n",
      "best_val_loss: 194679.23291, epoch: 94, best_epoch: 84, current_patience: 10\n"
     ]
    },
    {
     "name": "stderr",
     "output_type": "stream",
     "text": [
      "Epoch 95: 100%|███████████████████████████████████████████████████████████████████████████████████████████████████████████| 10/10 [00:02<00:00,  3.59batch/s]\n",
      "Epoch 95: 100%|█████████████████████████████████████████████████████████████████████████████████████████████████████████████| 1/1 [00:02<00:00,  2.67s/batch]\n"
     ]
    },
    {
     "name": "stdout",
     "output_type": "stream",
     "text": [
      "Epoch 95/100, train_loss: 192886.94019110285\n",
      "best_val_loss: 194679.23291, epoch: 95, best_epoch: 84, current_patience: 9\n"
     ]
    },
    {
     "name": "stderr",
     "output_type": "stream",
     "text": [
      "Epoch 96: 100%|███████████████████████████████████████████████████████████████████████████████████████████████████████████| 10/10 [00:02<00:00,  3.69batch/s]\n",
      "Epoch 96: 100%|█████████████████████████████████████████████████████████████████████████████████████████████████████████████| 1/1 [00:02<00:00,  2.62s/batch]\n"
     ]
    },
    {
     "name": "stdout",
     "output_type": "stream",
     "text": [
      "Epoch 96/100, train_loss: 193702.80547832898\n",
      "best_val_loss: 194679.23291, epoch: 96, best_epoch: 84, current_patience: 8\n"
     ]
    },
    {
     "name": "stderr",
     "output_type": "stream",
     "text": [
      "Epoch 97: 100%|███████████████████████████████████████████████████████████████████████████████████████████████████████████| 10/10 [00:02<00:00,  3.62batch/s]\n",
      "Epoch 97: 100%|█████████████████████████████████████████████████████████████████████████████████████████████████████████████| 1/1 [00:02<00:00,  2.61s/batch]\n"
     ]
    },
    {
     "name": "stdout",
     "output_type": "stream",
     "text": [
      "Epoch 97/100, train_loss: 192979.76844604567\n",
      "best_val_loss: 194679.23291, epoch: 97, best_epoch: 84, current_patience: 7\n"
     ]
    },
    {
     "name": "stderr",
     "output_type": "stream",
     "text": [
      "Epoch 98: 100%|███████████████████████████████████████████████████████████████████████████████████████████████████████████| 10/10 [00:02<00:00,  3.62batch/s]\n",
      "Epoch 98: 100%|█████████████████████████████████████████████████████████████████████████████████████████████████████████████| 1/1 [00:02<00:00,  2.63s/batch]\n"
     ]
    },
    {
     "name": "stdout",
     "output_type": "stream",
     "text": [
      "Epoch 98/100, train_loss: 193007.98674856802\n",
      "best_val_loss: 194679.23291, epoch: 98, best_epoch: 84, current_patience: 6\n"
     ]
    },
    {
     "name": "stderr",
     "output_type": "stream",
     "text": [
      "Epoch 99: 100%|███████████████████████████████████████████████████████████████████████████████████████████████████████████| 10/10 [00:02<00:00,  3.68batch/s]\n",
      "Epoch 99: 100%|█████████████████████████████████████████████████████████████████████████████████████████████████████████████| 1/1 [00:02<00:00,  2.62s/batch]\n"
     ]
    },
    {
     "name": "stdout",
     "output_type": "stream",
     "text": [
      "Epoch 99/100, train_loss: 193409.11364959655\n",
      "best_val_loss: 194679.23291, epoch: 99, best_epoch: 84, current_patience: 5\n"
     ]
    },
    {
     "name": "stderr",
     "output_type": "stream",
     "text": [
      "Epoch 100: 100%|██████████████████████████████████████████████████████████████████████████████████████████████████████████| 10/10 [00:02<00:00,  3.69batch/s]\n",
      "Epoch 100: 100%|████████████████████████████████████████████████████████████████████████████████████████████████████████████| 1/1 [00:02<00:00,  2.68s/batch]"
     ]
    },
    {
     "name": "stdout",
     "output_type": "stream",
     "text": [
      "Epoch 100/100, train_loss: 197945.78299172653\n",
      "best_val_loss: 194679.23291, epoch: 100, best_epoch: 84, current_patience: 4\n"
     ]
    },
    {
     "name": "stderr",
     "output_type": "stream",
     "text": [
      "\n"
     ]
    }
   ],
   "source": [
    "NAME = \"AE-{:%Y-%b-%d %H:%M:%S}\".format(datetime.now())\n",
    "writer = SummaryWriter(log_dir=f'logs_and_weights/{NAME}')\n",
    "fit(model, criterion, dataloaders, optimizer, device, writer, NAME, 100, 20)\n",
    "writer.close()"
   ]
  },
  {
   "cell_type": "markdown",
   "id": "64af503c",
   "metadata": {},
   "source": [
    "Compute whether embedding of new sample is within convex hull of training samples."
   ]
  },
  {
   "cell_type": "code",
   "execution_count": 58,
   "id": "e6b98279",
   "metadata": {},
   "outputs": [],
   "source": [
    "def in_hull(p, hull):\n",
    "    \"\"\"\n",
    "    Test if points in `p` are in `hull`\n",
    "\n",
    "    `p` should be a `NxK` coordinates of `N` points in `K` dimensions\n",
    "    `hull` is either a scipy.spatial.Delaunay object or the `MxK` array of the \n",
    "    coordinates of `M` points in `K`dimensions for which Delaunay triangulation\n",
    "    will be computed\n",
    "    \"\"\"\n",
    "    from scipy.spatial import Delaunay\n",
    "    if not isinstance(hull,Delaunay):\n",
    "        hull = Delaunay(hull)\n",
    "\n",
    "    return hull.find_simplex(p)>=0"
   ]
  },
  {
   "cell_type": "code",
   "execution_count": 59,
   "id": "827ecd76",
   "metadata": {},
   "outputs": [],
   "source": [
    "new_point = dspl[111, :, :, :]"
   ]
  },
  {
   "cell_type": "code",
   "execution_count": 61,
   "id": "7c4ae054",
   "metadata": {},
   "outputs": [],
   "source": [
    "new_point = np.moveaxis(np.array(new_point[np.newaxis]),3 ,1)"
   ]
  },
  {
   "cell_type": "code",
   "execution_count": 62,
   "id": "165c9315",
   "metadata": {},
   "outputs": [],
   "source": [
    "new_point = torch.from_numpy(new_point).double()"
   ]
  },
  {
   "cell_type": "code",
   "execution_count": 63,
   "id": "a1c7d1c8",
   "metadata": {},
   "outputs": [],
   "source": [
    "new_point_rep = representation_extractor(new_point)"
   ]
  }
 ],
 "metadata": {
  "kernelspec": {
   "display_name": "Python 3 (ipykernel)",
   "language": "python",
   "name": "python3"
  },
  "language_info": {
   "codemirror_mode": {
    "name": "ipython",
    "version": 3
   },
   "file_extension": ".py",
   "mimetype": "text/x-python",
   "name": "python",
   "nbconvert_exporter": "python",
   "pygments_lexer": "ipython3",
   "version": "3.8.10"
  }
 },
 "nbformat": 4,
 "nbformat_minor": 5
}
