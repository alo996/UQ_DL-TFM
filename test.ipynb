{
 "cells": [
  {
   "cell_type": "markdown",
   "id": "starting-apple",
   "metadata": {},
   "source": [
    "### Imports"
   ]
  },
  {
   "cell_type": "code",
   "execution_count": 26,
   "id": "accomplished-africa",
   "metadata": {},
   "outputs": [],
   "source": [
    "import mltfm.generate_data\n",
    "from DL_TFM.scripts.tracNet import TracNet\n",
    "\n",
    "import matplotlib.pyplot as plt\n",
    "import numpy as np\n",
    "import pandas as pd\n",
    "import torch\n",
    "import keras"
   ]
  },
  {
   "cell_type": "markdown",
   "id": "peaceful-carol",
   "metadata": {},
   "source": [
    "Set seeds for reproducability."
   ]
  },
  {
   "cell_type": "code",
   "execution_count": 24,
   "id": "personal-party",
   "metadata": {},
   "outputs": [
    {
     "data": {
      "text/plain": [
       "<torch._C.Generator at 0x11d7cf1b0>"
      ]
     },
     "execution_count": 24,
     "metadata": {},
     "output_type": "execute_result"
    }
   ],
   "source": [
    "random_seed = 2\n",
    "np.random.seed(random_seed)\n",
    "torch.manual_seed(random_seed)"
   ]
  },
  {
   "cell_type": "code",
   "execution_count": 29,
   "id": "minimal-pattern",
   "metadata": {},
   "outputs": [],
   "source": [
    "device = torch.device('cpu')"
   ]
  },
  {
   "cell_type": "markdown",
   "id": "joined-batch",
   "metadata": {},
   "source": [
    "### Evaluation"
   ]
  },
  {
   "cell_type": "markdown",
   "id": "needed-model",
   "metadata": {},
   "source": [
    "In this notebook I will compare the performance of five approaches to TFM, namely\n",
    "\n",
    "    1. TracNet_MATLAB by Wang & Lin\n",
    "    2. TracNet_Pytorch_SGD by Richard & Sabaß\n",
    "    3. TracNet_Pytorch_ADAM by Richard & Sabaß\n",
    "    4. Easy-to-use_TFM_package by Sabaß\n",
    "    5. Noisy_UNet by TU Dortmund\n",
    "    \n",
    "The test data includes both artificially created, labeled data from several research groups and experimental data. First, load the Pytorch and Keras based models."
   ]
  },
  {
   "cell_type": "code",
   "execution_count": 31,
   "id": "partial-start",
   "metadata": {},
   "outputs": [
    {
     "data": {
      "text/plain": [
       "<All keys matched successfully>"
      ]
     },
     "execution_count": 31,
     "metadata": {},
     "output_type": "execute_result"
    }
   ],
   "source": [
    "TracNet_Pytorch_SGD = TracNet(n_channels=1).double().to(device)\n",
    "TracNet_Pytorch_SGD.load_state_dict(torch.load('DL_TFM/models/TracNet104_best_val_rmse_2.601_SGD.pth'), strict=False)"
   ]
  },
  {
   "cell_type": "code",
   "execution_count": 32,
   "id": "balanced-movement",
   "metadata": {},
   "outputs": [
    {
     "data": {
      "text/plain": [
       "<All keys matched successfully>"
      ]
     },
     "execution_count": 32,
     "metadata": {},
     "output_type": "execute_result"
    }
   ],
   "source": [
    "TracNet_Pytorch_ADAM = TracNet(n_channels=1).double().to(device)\n",
    "TracNet_Pytorch_ADAM.load_state_dict(torch.load('DL_TFM/models/TracNet104_best_val_rmse_1.537_ADAM.pth'), strict=False)"
   ]
  },
  {
   "cell_type": "code",
   "execution_count": 33,
   "id": "dynamic-bearing",
   "metadata": {},
   "outputs": [],
   "source": [
    "Noisy_UNet = keras.models.load_model('mltfm/models/model_noise_1e-3.h5')"
   ]
  },
  {
   "cell_type": "markdown",
   "id": "overall-broadcast",
   "metadata": {},
   "source": [
    "## 1. Artificial test data from TU Dortmund"
   ]
  },
  {
   "cell_type": "code",
   "execution_count": 34,
   "id": "sought-criminal",
   "metadata": {},
   "outputs": [
    {
     "ename": "OSError",
     "evalue": "Unable to open file (unable to lock file, errno = 35, error message = 'Resource temporarily unavailable')",
     "output_type": "error",
     "traceback": [
      "\u001B[0;31m---------------------------------------------------------------------------\u001B[0m",
      "\u001B[0;31mOSError\u001B[0m                                   Traceback (most recent call last)",
      "\u001B[0;32m<ipython-input-34-2008beacee93>\u001B[0m in \u001B[0;36m<module>\u001B[0;34m\u001B[0m\n\u001B[1;32m      1\u001B[0m \u001B[0;32mimport\u001B[0m \u001B[0mh5py\u001B[0m\u001B[0;34m\u001B[0m\u001B[0;34m\u001B[0m\u001B[0m\n\u001B[1;32m      2\u001B[0m \u001B[0;34m\u001B[0m\u001B[0m\n\u001B[0;32m----> 3\u001B[0;31m \u001B[0mfn\u001B[0m \u001B[0;34m=\u001B[0m \u001B[0mh5py\u001B[0m\u001B[0;34m.\u001B[0m\u001B[0mFile\u001B[0m\u001B[0;34m(\u001B[0m\u001B[0;34m'displacement.h5'\u001B[0m\u001B[0;34m)\u001B[0m\u001B[0;34m\u001B[0m\u001B[0;34m\u001B[0m\u001B[0m\n\u001B[0m\u001B[1;32m      4\u001B[0m \u001B[0mlist\u001B[0m\u001B[0;34m(\u001B[0m\u001B[0mfn\u001B[0m\u001B[0;34m.\u001B[0m\u001B[0mkeys\u001B[0m\u001B[0;34m(\u001B[0m\u001B[0;34m)\u001B[0m\u001B[0;34m)\u001B[0m\u001B[0;34m\u001B[0m\u001B[0;34m\u001B[0m\u001B[0m\n\u001B[1;32m      5\u001B[0m \u001B[0;34m\u001B[0m\u001B[0m\n",
      "\u001B[0;32m/usr/local/lib/python3.9/site-packages/h5py/_hl/files.py\u001B[0m in \u001B[0;36m__init__\u001B[0;34m(self, name, mode, driver, libver, userblock_size, swmr, rdcc_nslots, rdcc_nbytes, rdcc_w0, track_order, fs_strategy, fs_persist, fs_threshold, **kwds)\u001B[0m\n\u001B[1;32m    422\u001B[0m             \u001B[0;32mwith\u001B[0m \u001B[0mphil\u001B[0m\u001B[0;34m:\u001B[0m\u001B[0;34m\u001B[0m\u001B[0;34m\u001B[0m\u001B[0m\n\u001B[1;32m    423\u001B[0m                 \u001B[0mfapl\u001B[0m \u001B[0;34m=\u001B[0m \u001B[0mmake_fapl\u001B[0m\u001B[0;34m(\u001B[0m\u001B[0mdriver\u001B[0m\u001B[0;34m,\u001B[0m \u001B[0mlibver\u001B[0m\u001B[0;34m,\u001B[0m \u001B[0mrdcc_nslots\u001B[0m\u001B[0;34m,\u001B[0m \u001B[0mrdcc_nbytes\u001B[0m\u001B[0;34m,\u001B[0m \u001B[0mrdcc_w0\u001B[0m\u001B[0;34m,\u001B[0m \u001B[0;34m**\u001B[0m\u001B[0mkwds\u001B[0m\u001B[0;34m)\u001B[0m\u001B[0;34m\u001B[0m\u001B[0;34m\u001B[0m\u001B[0m\n\u001B[0;32m--> 424\u001B[0;31m                 fid = make_fid(name, mode, userblock_size,\n\u001B[0m\u001B[1;32m    425\u001B[0m                                fapl, fcpl=make_fcpl(track_order=track_order, fs_strategy=fs_strategy,\n\u001B[1;32m    426\u001B[0m                                fs_persist=fs_persist, fs_threshold=fs_threshold),\n",
      "\u001B[0;32m/usr/local/lib/python3.9/site-packages/h5py/_hl/files.py\u001B[0m in \u001B[0;36mmake_fid\u001B[0;34m(name, mode, userblock_size, fapl, fcpl, swmr)\u001B[0m\n\u001B[1;32m    188\u001B[0m         \u001B[0;32mif\u001B[0m \u001B[0mswmr\u001B[0m \u001B[0;32mand\u001B[0m \u001B[0mswmr_support\u001B[0m\u001B[0;34m:\u001B[0m\u001B[0;34m\u001B[0m\u001B[0;34m\u001B[0m\u001B[0m\n\u001B[1;32m    189\u001B[0m             \u001B[0mflags\u001B[0m \u001B[0;34m|=\u001B[0m \u001B[0mh5f\u001B[0m\u001B[0;34m.\u001B[0m\u001B[0mACC_SWMR_READ\u001B[0m\u001B[0;34m\u001B[0m\u001B[0;34m\u001B[0m\u001B[0m\n\u001B[0;32m--> 190\u001B[0;31m         \u001B[0mfid\u001B[0m \u001B[0;34m=\u001B[0m \u001B[0mh5f\u001B[0m\u001B[0;34m.\u001B[0m\u001B[0mopen\u001B[0m\u001B[0;34m(\u001B[0m\u001B[0mname\u001B[0m\u001B[0;34m,\u001B[0m \u001B[0mflags\u001B[0m\u001B[0;34m,\u001B[0m \u001B[0mfapl\u001B[0m\u001B[0;34m=\u001B[0m\u001B[0mfapl\u001B[0m\u001B[0;34m)\u001B[0m\u001B[0;34m\u001B[0m\u001B[0;34m\u001B[0m\u001B[0m\n\u001B[0m\u001B[1;32m    191\u001B[0m     \u001B[0;32melif\u001B[0m \u001B[0mmode\u001B[0m \u001B[0;34m==\u001B[0m \u001B[0;34m'r+'\u001B[0m\u001B[0;34m:\u001B[0m\u001B[0;34m\u001B[0m\u001B[0;34m\u001B[0m\u001B[0m\n\u001B[1;32m    192\u001B[0m         \u001B[0mfid\u001B[0m \u001B[0;34m=\u001B[0m \u001B[0mh5f\u001B[0m\u001B[0;34m.\u001B[0m\u001B[0mopen\u001B[0m\u001B[0;34m(\u001B[0m\u001B[0mname\u001B[0m\u001B[0;34m,\u001B[0m \u001B[0mh5f\u001B[0m\u001B[0;34m.\u001B[0m\u001B[0mACC_RDWR\u001B[0m\u001B[0;34m,\u001B[0m \u001B[0mfapl\u001B[0m\u001B[0;34m=\u001B[0m\u001B[0mfapl\u001B[0m\u001B[0;34m)\u001B[0m\u001B[0;34m\u001B[0m\u001B[0;34m\u001B[0m\u001B[0m\n",
      "\u001B[0;32mh5py/_objects.pyx\u001B[0m in \u001B[0;36mh5py._objects.with_phil.wrapper\u001B[0;34m()\u001B[0m\n",
      "\u001B[0;32mh5py/_objects.pyx\u001B[0m in \u001B[0;36mh5py._objects.with_phil.wrapper\u001B[0;34m()\u001B[0m\n",
      "\u001B[0;32mh5py/h5f.pyx\u001B[0m in \u001B[0;36mh5py.h5f.open\u001B[0;34m()\u001B[0m\n",
      "\u001B[0;31mOSError\u001B[0m: Unable to open file (unable to lock file, errno = 35, error message = 'Resource temporarily unavailable')"
     ]
    }
   ],
   "source": [
    "import h5py\n",
    "\n",
    "fn = h5py.File('displacement.h5')\n",
    "list(fn.keys())\n",
    "\n",
    "get_ipython().run_line_magic('matplotlib', 'notebook')\n",
    "\n",
    "fig, ax = plt.subplots()\n",
    "fig.tight_layout(pad=3, w_pad=3, h_pad=3)\n",
    "ax.quiver(fn['data'][0,:,:,0], fn['data'][0,:,:,1], scale=1.2)\n",
    "ax.set_title('Displacement field: Strain vectors', {'fontsize': 11})"
   ]
  },
  {
   "cell_type": "code",
   "execution_count": null,
   "id": "minute-flooring",
   "metadata": {},
   "outputs": [],
   "source": []
  }
 ],
 "metadata": {
  "kernelspec": {
   "display_name": "Python 3",
   "language": "python",
   "name": "python3"
  },
  "language_info": {
   "codemirror_mode": {
    "name": "ipython",
    "version": 3
   },
   "file_extension": ".py",
   "mimetype": "text/x-python",
   "name": "python",
   "nbconvert_exporter": "python",
   "pygments_lexer": "ipython3",
   "version": "3.9.13"
  }
 },
 "nbformat": 4,
 "nbformat_minor": 5
}
